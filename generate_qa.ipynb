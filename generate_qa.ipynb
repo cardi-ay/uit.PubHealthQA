{
 "cells": [
  {
   "cell_type": "markdown",
   "id": "3b9b8131",
   "metadata": {},
   "source": [
    "# Question and Answer Generator for Public Health\n",
    "\n",
    "This notebook generates questions and answers for public health topics, with various difficulty levels, and saves them to a structured JSON file."
   ]
  },
  {
   "cell_type": "markdown",
   "id": "b9c64417",
   "metadata": {},
   "source": [
    "## Import Required Libraries\n",
    "\n",
    "Import libraries such as json and random for handling JSON files and generating questions."
   ]
  },
  {
   "cell_type": "code",
   "execution_count": null,
   "id": "52fdde76",
   "metadata": {},
   "outputs": [],
   "source": [
    "import json\n",
    "import random\n",
    "import os\n",
    "from datetime import datetime\n",
    "import pandas as pd\n",
    "import nltk\n",
    "from nltk.tokenize import sent_tokenize\n",
    "\n",
    "# Download NLTK data if needed\n",
    "try:\n",
    "    nltk.data.find('tokenizers/punkt')\n",
    "except LookupError:\n",
    "    nltk.download('punkt')"
   ]
  },
  {
   "cell_type": "markdown",
   "id": "530bff7b",
   "metadata": {},
   "source": [
    "## Define Topics and Levels\n",
    "\n",
    "Create a list of topics from a file or predefined data and define levels such as 'understand', 'apply', and 'remember'."
   ]
  },
  {
   "cell_type": "code",
   "execution_count": null,
   "id": "b9d9854b",
   "metadata": {},
   "outputs": [],
   "source": [
    "# Define difficulty levels based on Bloom's taxonomy\n",
    "levels = [\n",
    "    \"remember\",    # Basic recall of facts\n",
    "    \"understand\",  # Comprehension of concepts\n",
    "    \"apply\",       # Application of knowledge to situations\n",
    "]\n",
    "\n",
    "# Define public health topics\n",
    "topics = [\n",
    "    \"Epidemiology\",\n",
    "    \"Health Policy\",\n",
    "    \"Disease Prevention\",\n",
    "    \"Global Health\",\n",
    "    \"Environmental Health\",\n",
    "    \"Nutrition\",\n",
    "    \"Biostatistics\",\n",
    "    \"Health Education\",\n",
    "    \"Maternal and Child Health\",\n",
    "    \"Vaccination\",\n",
    "    \"Mental Health\",\n",
    "    \"Chronic Disease Management\"\n",
    "]\n",
    "\n",
    "# Sample topic descriptions (to help generate questions)\n",
    "topic_descriptions = {\n",
    "    \"Epidemiology\": \"The study of disease patterns, causes, and effects in populations\",\n",
    "    \"Health Policy\": \"Guidelines, regulations, and laws designed to achieve specific healthcare goals\",\n",
    "    \"Disease Prevention\": \"Actions aimed at avoiding the onset of diseases\",\n",
    "    \"Global Health\": \"Health issues that transcend national boundaries\",\n",
    "    \"Environmental Health\": \"The branch concerned with environmental factors affecting human health\",\n",
    "    \"Nutrition\": \"The study of nutrients in food and their impact on health\",\n",
    "    \"Biostatistics\": \"Application of statistics to biological topics, especially medicine\",\n",
    "    \"Health Education\": \"Educating individuals about health-related topics\",\n",
    "    \"Maternal and Child Health\": \"Health services for mothers and children\",\n",
    "    \"Vaccination\": \"Administration of vaccines to prevent infectious diseases\",\n",
    "    \"Mental Health\": \"Psychological and emotional well-being\",\n",
    "    \"Chronic Disease Management\": \"Ongoing care for long-term health conditions\"\n",
    "}\n",
    "\n",
    "print(f\"Defined {len(topics)} topics and {len(levels)} levels\")"
   ]
  },
  {
   "cell_type": "markdown",
   "id": "72011b48",
   "metadata": {},
   "source": [
    "## Generate Questions and Answers\n",
    "\n",
    "Write a function to generate questions and answers for each topic and level, ensuring diversity in content."
   ]
  }
 ],
 "metadata": {
  "language_info": {
   "name": "python"
  }
 },
 "nbformat": 4,
 "nbformat_minor": 5
}
