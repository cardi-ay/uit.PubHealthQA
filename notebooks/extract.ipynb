{
 "cells": [
  {
   "cell_type": "code",
   "execution_count": 2,
   "metadata": {},
   "outputs": [],
   "source": [
    "import pandas as pd\n",
    "import os\n",
    "from pathlib import Path"
   ]
  },
  {
   "cell_type": "code",
   "execution_count": 5,
   "metadata": {},
   "outputs": [],
   "source": [
    "input_file = Path('../data/bronze/qa_pthu2_only.csv')\n",
    "output_file = Path('../data/topics.txt')\n"
   ]
  },
  {
   "cell_type": "code",
   "execution_count": 6,
   "metadata": {},
   "outputs": [
    {
     "name": "stdout",
     "output_type": "stream",
     "text": [
      "Đang đọc file CSV: ..\\data\\bronze\\qa_pthu2_only.csv\n",
      "Đã trích xuất 23 chủ đề duy nhất và lưu vào ..\\data\\topics.txt\n"
     ]
    }
   ],
   "source": [
    "if not input_file.exists():\n",
    "    print(f\"File CSV không tồn tại: {input_file}\")\n",
    "    exit(1)\n",
    "\n",
    "try:\n",
    "    # Đọc file CSV\n",
    "    print(f\"Đang đọc file CSV: {input_file}\")\n",
    "    df = pd.read_csv(input_file)\n",
    "    \n",
    "    # Kiểm tra xem cột 'topic' có tồn tại không\n",
    "    if 'topic' not in df.columns:\n",
    "        print(f\"Cột 'topic' không tồn tại. Các cột có sẵn: {df.columns.tolist()}\")\n",
    "        exit(1)\n",
    "    \n",
    "    # Lấy các giá trị duy nhất\n",
    "    unique_topics = df['topic'].unique()\n",
    "    \n",
    "    # Lưu vào file topics.txt\n",
    "    with open(output_file, 'w', encoding='utf-8') as f:\n",
    "        f.write('\\n'.join(unique_topics))\n",
    "    \n",
    "    print(f\"Đã trích xuất {len(unique_topics)} chủ đề duy nhất và lưu vào {output_file}\")\n",
    "    \n",
    "except Exception as e:\n",
    "    print(f\"Lỗi: {e}\")\n",
    "    exit(1) "
   ]
  }
 ],
 "metadata": {
  "kernelspec": {
   "display_name": "Python 3",
   "language": "python",
   "name": "python3"
  },
  "language_info": {
   "codemirror_mode": {
    "name": "ipython",
    "version": 3
   },
   "file_extension": ".py",
   "mimetype": "text/x-python",
   "name": "python",
   "nbconvert_exporter": "python",
   "pygments_lexer": "ipython3",
   "version": "3.12.6"
  }
 },
 "nbformat": 4,
 "nbformat_minor": 2
}
