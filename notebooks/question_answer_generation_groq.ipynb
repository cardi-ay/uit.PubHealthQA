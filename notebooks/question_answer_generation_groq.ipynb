{
 "cells": [
  {
   "cell_type": "markdown",
   "id": "cef7d6df",
   "metadata": {},
   "source": [
    "# Sinh câu hỏi và câu trả lời có trích dẫn dùng Groq API dựa trên Vector Database\n",
    "\n",
    "Notebook này minh họa cách sử dụng module `question_generator.py` để sinh cả câu hỏi và câu trả lời (có trích dẫn các văn bản pháp luật liên quan) từ các chunks trong vector database theo ba thang đo của Bloom (Remember, Understand, Apply)."
   ]
  },
  {
   "cell_type": "code",
   "execution_count": 1,
   "id": "f8fb8cf6",
   "metadata": {},
   "outputs": [],
   "source": [
    "# Import các thư viện cần thiết\n",
    "import os\n",
    "import sys\n",
    "import json\n",
    "from pathlib import Path\n",
    "from dotenv import load_dotenv\n",
    "import pandas as pd\n",
    "import matplotlib.pyplot as plt\n",
    "import seaborn as sns\n",
    "from datetime import datetime\n",
    "\n",
    "# Đảm bảo có thể import modules từ src\n",
    "MODULE_PATH = os.path.abspath(os.path.join('..'))\n",
    "if MODULE_PATH not in sys.path:\n",
    "    sys.path.append(MODULE_PATH)"
   ]
  },
  {
   "cell_type": "code",
   "execution_count": 2,
   "id": "1f6b8e6a",
   "metadata": {},
   "outputs": [],
   "source": [
    "# Load biến môi trường từ file .env\n",
    "load_dotenv()\n",
    "\n",
    "# Kiểm tra xem đã có GROQ_API_KEY chưa\n",
    "groq_api_key = os.getenv('GROQ_API_KEY')\n",
    "if groq_api_key is None or groq_api_key == \"your_groq_api_key_here\":\n",
    "    raise ValueError(\"⚠️ Chưa cấu hình GROQ_API_KEY trong file .env. \"\n",
    "                    \"Hãy thêm GROQ_API_KEY=<your_api_key> vào file .env!\")"
   ]
  },
  {
   "cell_type": "markdown",
   "id": "f2db3387",
   "metadata": {},
   "source": [
    "## Import các module cần thiết"
   ]
  },
  {
   "cell_type": "code",
   "execution_count": 3,
   "id": "3243e5de",
   "metadata": {},
   "outputs": [
    {
     "name": "stderr",
     "output_type": "stream",
     "text": [
      "2025-04-22 00:17:16,138 - question_generator - INFO - Logger 'question_generator' đã được khởi tạo.\n",
      "INFO:question_generator:Logger 'question_generator' đã được khởi tạo.\n",
      "INFO:question_generator:Logger 'question_generator' đã được khởi tạo.\n"
     ]
    }
   ],
   "source": [
    "# Import các module cần thiết từ project\n",
    "from src.embed.faiss_manager import initialize_embedding_model, load_vector_db\n",
    "from src.generation.question_generator import GroqQuestionGenerator, generate_questions_from_topics"
   ]
  },
  {
   "cell_type": "markdown",
   "id": "bd8070e6",
   "metadata": {},
   "source": [
    "## Đọc danh sách chủ đề từ file"
   ]
  },
  {
   "cell_type": "code",
   "execution_count": 4,
   "id": "6eb61997",
   "metadata": {},
   "outputs": [
    {
     "name": "stdout",
     "output_type": "stream",
     "text": [
      "📋 Đã tìm thấy 5 chủ đề:\n",
      "  1. Luật Bảo vệ sức khỏe cộng đồng\n",
      "  2. Quyền lợi y tế người cao tuổi\n",
      "  3. Chính sách y tế học đường\n",
      "  4. Quy định về an toàn thực phẩm\n",
      "  5. Chính sách bảo hiểm y tế\n"
     ]
    }
   ],
   "source": [
    "# Đường dẫn tới file chủ đề\n",
    "topic_file_path = Path(\"../data/sample_topics.txt\")\n",
    "\n",
    "# Đọc danh sách chủ đề\n",
    "with open(topic_file_path, \"r\", encoding=\"utf-8\") as f:\n",
    "    topics = [line.strip() for line in f.readlines() if line.strip()]\n",
    "\n",
    "print(f\"📋 Đã tìm thấy {len(topics)} chủ đề:\")\n",
    "for i, topic in enumerate(topics, 1):\n",
    "    print(f\"  {i}. {topic}\")"
   ]
  },
  {
   "cell_type": "markdown",
   "id": "6e59ad2e",
   "metadata": {},
   "source": [
    "## Khởi tạo model embedding và load vector database"
   ]
  },
  {
   "cell_type": "code",
   "execution_count": 5,
   "id": "b7e1d1c2",
   "metadata": {},
   "outputs": [
    {
     "name": "stderr",
     "output_type": "stream",
     "text": [
      "WARNING:tensorflow:From c:\\Users\\phamd\\AppData\\Local\\Programs\\Python\\Python312\\Lib\\site-packages\\tf_keras\\src\\losses.py:2976: The name tf.losses.sparse_softmax_cross_entropy is deprecated. Please use tf.compat.v1.losses.sparse_softmax_cross_entropy instead.\n",
      "\n"
     ]
    },
    {
     "name": "stdout",
     "output_type": "stream",
     "text": [
      "✅ Đã khởi tạo model embedding 'bkai-foundation-models/vietnamese-bi-encoder' thành công\n"
     ]
    }
   ],
   "source": [
    "# Đường dẫn tới vector database\n",
    "vector_db_path = Path(\"../data/gold/db_faiss_phapluat_yte_full_final\")\n",
    "\n",
    "# Khởi tạo model embedding\n",
    "embedding_model_name = \"bkai-foundation-models/vietnamese-bi-encoder\"\n",
    "embeddings = initialize_embedding_model(embedding_model_name)\n",
    "\n",
    "if not embeddings:\n",
    "    raise ValueError(f\"❌ Không thể khởi tạo model embedding '{embedding_model_name}'\")\n",
    "else:\n",
    "    print(f\"✅ Đã khởi tạo model embedding '{embedding_model_name}' thành công\")"
   ]
  },
  {
   "cell_type": "code",
   "execution_count": 6,
   "id": "c2212728",
   "metadata": {},
   "outputs": [
    {
     "name": "stdout",
     "output_type": "stream",
     "text": [
      "✅ Đã tải vector database thành công. Số lượng vectors: 15498\n"
     ]
    }
   ],
   "source": [
    "# Load vector database\n",
    "vector_db = load_vector_db(vector_db_path, embeddings)\n",
    "\n",
    "if not vector_db:\n",
    "    raise ValueError(f\"❌ Không thể tải vector database từ {vector_db_path}\")\n",
    "else:\n",
    "    print(f\"✅ Đã tải vector database thành công. Số lượng vectors: {vector_db.index.ntotal}\")"
   ]
  },
  {
   "cell_type": "markdown",
   "id": "2d20650e",
   "metadata": {},
   "source": [
    "## Khởi tạo Question Generator với Groq API"
   ]
  },
  {
   "cell_type": "code",
   "execution_count": 7,
   "id": "bc9fb1a6",
   "metadata": {},
   "outputs": [
    {
     "name": "stderr",
     "output_type": "stream",
     "text": [
      "2025-04-22 00:17:38,905 - question_generator - INFO - Đã khởi tạo Groq Client với model 'llama3-70b-8192'\n",
      "INFO:question_generator:Đã khởi tạo Groq Client với model 'llama3-70b-8192'\n",
      "INFO:question_generator:Đã khởi tạo Groq Client với model 'llama3-70b-8192'\n"
     ]
    },
    {
     "name": "stdout",
     "output_type": "stream",
     "text": [
      "✅ Đã khởi tạo thành công Generator với Groq API\n"
     ]
    }
   ],
   "source": [
    "# Khởi tạo generator với model Llama 3 của Groq\n",
    "try:\n",
    "    generator = GroqQuestionGenerator(model_name=\"llama3-70b-8192\")\n",
    "    print(\"✅ Đã khởi tạo thành công Generator với Groq API\")\n",
    "except Exception as e:\n",
    "    print(f\"❌ Lỗi khi khởi tạo Generator: {e}\")"
   ]
  },
  {
   "cell_type": "markdown",
   "id": "0ea3c572",
   "metadata": {},
   "source": [
    "## Sinh câu hỏi và câu trả lời có trích dẫn cho một chủ đề thử nghiệm"
   ]
  },
  {
   "cell_type": "code",
   "execution_count": 8,
   "id": "df4101f4",
   "metadata": {},
   "outputs": [
    {
     "name": "stderr",
     "output_type": "stream",
     "text": [
      "2025-04-22 00:17:38,920 - question_generator - INFO - Bắt đầu sinh câu hỏi cho chủ đề: 'Luật Bảo vệ sức khỏe cộng đồng'\n",
      "INFO:question_generator:Bắt đầu sinh câu hỏi cho chủ đề: 'Luật Bảo vệ sức khỏe cộng đồng'\n",
      "INFO:question_generator:Bắt đầu sinh câu hỏi cho chủ đề: 'Luật Bảo vệ sức khỏe cộng đồng'\n"
     ]
    },
    {
     "name": "stdout",
     "output_type": "stream",
     "text": [
      "🔍 Sinh câu hỏi và câu trả lời có trích dẫn cho chủ đề: 'Luật Bảo vệ sức khỏe cộng đồng'...\n"
     ]
    },
    {
     "name": "stderr",
     "output_type": "stream",
     "text": [
      "2025-04-22 00:17:39,194 - question_generator - INFO - Đã trích xuất 5 chunks cho chủ đề 'Luật Bảo vệ sức khỏe cộng đồng'\n",
      "INFO:question_generator:Đã trích xuất 5 chunks cho chủ đề 'Luật Bảo vệ sức khỏe cộng đồng'\n",
      "INFO:question_generator:Đã trích xuất 5 chunks cho chủ đề 'Luật Bảo vệ sức khỏe cộng đồng'\n",
      "2025-04-22 00:17:40,689 - question_generator - INFO - Thời gian sinh cặp câu hỏi-trả lời cấp độ remember: 1.49 giây\n",
      "INFO:question_generator:Thời gian sinh cặp câu hỏi-trả lời cấp độ remember: 1.49 giây\n",
      "2025-04-22 00:17:40,692 - question_generator - ERROR - Lỗi khi gọi Groq API hoặc xử lý kết quả: Expecting value: line 1 column 1 (char 0)\n",
      "ERROR:question_generator:Lỗi khi gọi Groq API hoặc xử lý kết quả: Expecting value: line 1 column 1 (char 0)\n",
      "2025-04-22 00:17:40,694 - question_generator - INFO - Đã sinh 0 cặp câu hỏi-trả lời cấp độ remember cho chủ đề 'Luật Bảo vệ sức khỏe cộng đồng'\n",
      "INFO:question_generator:Đã sinh 0 cặp câu hỏi-trả lời cấp độ remember cho chủ đề 'Luật Bảo vệ sức khỏe cộng đồng'\n",
      "2025-04-22 00:17:40,689 - question_generator - INFO - Thời gian sinh cặp câu hỏi-trả lời cấp độ remember: 1.49 giây\n",
      "INFO:question_generator:Thời gian sinh cặp câu hỏi-trả lời cấp độ remember: 1.49 giây\n",
      "2025-04-22 00:17:40,692 - question_generator - ERROR - Lỗi khi gọi Groq API hoặc xử lý kết quả: Expecting value: line 1 column 1 (char 0)\n",
      "ERROR:question_generator:Lỗi khi gọi Groq API hoặc xử lý kết quả: Expecting value: line 1 column 1 (char 0)\n",
      "2025-04-22 00:17:40,694 - question_generator - INFO - Đã sinh 0 cặp câu hỏi-trả lời cấp độ remember cho chủ đề 'Luật Bảo vệ sức khỏe cộng đồng'\n",
      "INFO:question_generator:Đã sinh 0 cặp câu hỏi-trả lời cấp độ remember cho chủ đề 'Luật Bảo vệ sức khỏe cộng đồng'\n",
      "2025-04-22 00:17:42,198 - question_generator - INFO - Thời gian sinh cặp câu hỏi-trả lời cấp độ understand: 1.50 giây\n",
      "INFO:question_generator:Thời gian sinh cặp câu hỏi-trả lời cấp độ understand: 1.50 giây\n",
      "2025-04-22 00:17:42,199 - question_generator - INFO - Đã sinh 2 cặp câu hỏi-trả lời cấp độ understand cho chủ đề 'Luật Bảo vệ sức khỏe cộng đồng'\n",
      "INFO:question_generator:Đã sinh 2 cặp câu hỏi-trả lời cấp độ understand cho chủ đề 'Luật Bảo vệ sức khỏe cộng đồng'\n",
      "2025-04-22 00:17:42,198 - question_generator - INFO - Thời gian sinh cặp câu hỏi-trả lời cấp độ understand: 1.50 giây\n",
      "INFO:question_generator:Thời gian sinh cặp câu hỏi-trả lời cấp độ understand: 1.50 giây\n",
      "2025-04-22 00:17:42,199 - question_generator - INFO - Đã sinh 2 cặp câu hỏi-trả lời cấp độ understand cho chủ đề 'Luật Bảo vệ sức khỏe cộng đồng'\n",
      "INFO:question_generator:Đã sinh 2 cặp câu hỏi-trả lời cấp độ understand cho chủ đề 'Luật Bảo vệ sức khỏe cộng đồng'\n",
      "2025-04-22 00:17:43,712 - question_generator - INFO - Thời gian sinh cặp câu hỏi-trả lời cấp độ apply: 1.51 giây\n",
      "INFO:question_generator:Thời gian sinh cặp câu hỏi-trả lời cấp độ apply: 1.51 giây\n",
      "2025-04-22 00:17:43,714 - question_generator - INFO - Đã sinh 2 cặp câu hỏi-trả lời cấp độ apply cho chủ đề 'Luật Bảo vệ sức khỏe cộng đồng'\n",
      "INFO:question_generator:Đã sinh 2 cặp câu hỏi-trả lời cấp độ apply cho chủ đề 'Luật Bảo vệ sức khỏe cộng đồng'\n",
      "2025-04-22 00:17:43,712 - question_generator - INFO - Thời gian sinh cặp câu hỏi-trả lời cấp độ apply: 1.51 giây\n",
      "INFO:question_generator:Thời gian sinh cặp câu hỏi-trả lời cấp độ apply: 1.51 giây\n",
      "2025-04-22 00:17:43,714 - question_generator - INFO - Đã sinh 2 cặp câu hỏi-trả lời cấp độ apply cho chủ đề 'Luật Bảo vệ sức khỏe cộng đồng'\n",
      "INFO:question_generator:Đã sinh 2 cặp câu hỏi-trả lời cấp độ apply cho chủ đề 'Luật Bảo vệ sức khỏe cộng đồng'\n"
     ]
    }
   ],
   "source": [
    "# Chọn một chủ đề để thử nghiệm\n",
    "test_topic = topics[0]  # Chủ đề đầu tiên trong danh sách\n",
    "\n",
    "print(f\"🔍 Sinh câu hỏi và câu trả lời có trích dẫn cho chủ đề: '{test_topic}'...\")\n",
    "\n",
    "# Sinh câu hỏi và câu trả lời\n",
    "questions_by_level = generator.generate_questions_for_topic(\n",
    "    topic=test_topic,\n",
    "    vector_db=vector_db,\n",
    "    num_questions_per_level=2,  # 2 câu hỏi mỗi cấp độ\n",
    "    chunks_per_topic=5,         # Sử dụng 5 chunks\n",
    "    temperature=0.7             # Độ sáng tạo\n",
    ")"
   ]
  },
  {
   "cell_type": "code",
   "execution_count": 9,
   "id": "f606c431",
   "metadata": {},
   "outputs": [
    {
     "name": "stdout",
     "output_type": "stream",
     "text": [
      "\n",
      "📝 Kết quả sinh câu hỏi và câu trả lời có trích dẫn cho 'Luật Bảo vệ sức khỏe cộng đồng':\n",
      "\n",
      "\n",
      "🧠 Remember (Nhớ):\n",
      "\n",
      "\n",
      "🤔 Understand (Hiểu):\n",
      "\n",
      "1. Câu hỏi: Giải thích các điều kiện đối với kinh doanh, bảo quản, vận chuyển thực phẩm chức năng?\n",
      "   Trả lời: Theo Điều 15 của Thông tư số 16/2012/TT-BYT, các điều kiện đối với kinh doanh, bảo quản, vận chuyển thực phẩm chức năng bao gồm cơ sở vật chất, trang thiết bị, dụng cụ và người trực tiếp kinh doanh phải thực hiện theo quy định tại các điều 4, 5 và 6 của Thông tư số 16/2012/TT-BYT. Ngoài ra, thực phẩm chức năng phải được bày bán riêng biệt với khu vực bày bán các loại thực phẩm khác.\n",
      "\n",
      "   Trích dẫn: Thông tư số 16/2012/TT-BYT\n",
      "\n",
      "   Nguồn tham khảo:\n",
      "     - Chunk 1: Không rõ tiêu đề, Số hiệu: Không rõ số hiệu\n",
      "\n",
      "--------------------------------------------------------------------------------\n",
      "\n",
      "2. Câu hỏi: Giải thích nội dung chăm sóc sức khỏe người cao tuổi tại cộng đồng?\n",
      "   Trả lời: Theo Điều 3, nội dung chăm sóc sức khỏe người cao tuổi tại cộng đồng bao gồm tuyên truyền phổ biến kiến thức về rèn luyện thân thể, tăng cường sức khỏe và phòng bệnh; hướng dẫn người cao tuổi các kỹ năng phòng bệnh, chữa bệnh và tự chăm sóc sức khỏe; tổ chức khám sức khỏe để lập hồ sơ theo dõi sức khỏe cho người cao tuổi và khám bệnh, chữa bệnh cho người cao tuổi tại trạm y tế xã, phường, thị trấn và tại nơi cư trú của người cao tuổi.\n",
      "\n",
      "   Trích dẫn: Không có văn bản pháp luật cụ thể được trích dẫn\n",
      "\n",
      "   Nguồn tham khảo:\n",
      "     - Chunk 2: Không rõ tiêu đề, Số hiệu: Không rõ số hiệu\n",
      "\n",
      "--------------------------------------------------------------------------------\n",
      "\n",
      "\n",
      "🛠️ Apply (Áp dụng):\n",
      "\n",
      "1. Câu hỏi: Một cơ sở kinh doanh thực phẩm chức năng muốn đáp ứng điều kiện an toàn thực phẩm theo quy định. Theo Thông tư số 16/2012/TT-BYT, cơ sở phải đáp ứng những điều kiện gì?\n",
      "   Trả lời: Theo Thông tư số 16/2012/TT-BYT, cơ sở kinh doanh thực phẩm chức năng phải đáp ứng các điều kiện về cơ sở vật chất, trang thiết bị, dụng cụ và người trực tiếp kinh doanh. Ngoài ra, thực phẩm chức năng phải được bày bán riêng biệt với khu vực bày bán các loại thực phẩm khác và nhà thuốc phải có khu bày bán riêng cho sản phẩm thực phẩm chức năng.\n",
      "\n",
      "   Trích dẫn: Thông tư số 16/2012/TT-BYT ngày 22 tháng 10 năm 2012 của Bộ trưởng Bộ Y tế\n",
      "\n",
      "   Nguồn tham khảo:\n",
      "     - Chunk 1: Không rõ tiêu đề, Số hiệu: Không rõ số hiệu\n",
      "\n",
      "--------------------------------------------------------------------------------\n",
      "\n",
      "2. Câu hỏi: Một người cao tuổi muốn tham gia chương trình chăm sóc sức khỏe tại cộng đồng. Theo quy định, người cao tuổi sẽ được hưởng những quyền lợi gì?\n",
      "   Trả lời: Theo quy định, người cao tuổi sẽ được hưởng quyền lợi tuyên truyền phổ biến kiến thức về rèn luyện thân thể, tăng cường sức khỏe và phòng bệnh, được hướng dẫn kỹ năng phòng bệnh, chữa bệnh và tự chăm sóc sức khỏe, được khám sức khỏe định kỳ và được khám bệnh, chữa bệnh tại trạm y tế xã, phường, thị trấn và tại nơi cư trú của người cao tuổi.\n",
      "\n",
      "   Trích dẫn: Điều 3 Luật Chăm sóc sức khỏe người cao tuổi\n",
      "\n",
      "   Nguồn tham khảo:\n",
      "     - Chunk 2: Không rõ tiêu đề, Số hiệu: Không rõ số hiệu\n",
      "\n",
      "--------------------------------------------------------------------------------\n",
      "\n"
     ]
    }
   ],
   "source": [
    "# Hiển thị kết quả\n",
    "print(f\"\\n📝 Kết quả sinh câu hỏi và câu trả lời có trích dẫn cho '{test_topic}':\\n\")\n",
    "\n",
    "bloom_level_names = {\n",
    "    \"remember\": \"🧠 Remember (Nhớ)\",\n",
    "    \"understand\": \"🤔 Understand (Hiểu)\", \n",
    "    \"apply\": \"🛠️ Apply (Áp dụng)\"\n",
    "}\n",
    "\n",
    "for level, qa_pairs in questions_by_level.items():\n",
    "    print(f\"\\n{bloom_level_names[level]}:\\n\")\n",
    "    \n",
    "    for i, qa_pair in enumerate(qa_pairs, 1):\n",
    "        print(f\"{i}. Câu hỏi: {qa_pair['question']}\")\n",
    "        print(f\"   Trả lời: {qa_pair['answer']}\\n\")\n",
    "        print(f\"   Trích dẫn: {qa_pair.get('citations', 'Không có trích dẫn')}\\n\")\n",
    "        \n",
    "        # Hiển thị nguồn tham khảo (chunks)\n",
    "        source_chunks = qa_pair.get('source_chunks', [])\n",
    "        if source_chunks:\n",
    "            print(f\"   Nguồn tham khảo:\")\n",
    "            for src in source_chunks:\n",
    "                chunk_id = src.get('chunk_id')\n",
    "                metadata = src.get('metadata', {})\n",
    "                title = metadata.get('title', 'Không rõ tiêu đề')\n",
    "                law_id = metadata.get('law_id', 'Không rõ số hiệu')\n",
    "                print(f\"     - Chunk {chunk_id}: {title}, Số hiệu: {law_id}\")\n",
    "            print(\"\\n\" + \"-\"*80 + \"\\n\")"
   ]
  },
  {
   "cell_type": "markdown",
   "id": "590e8631",
   "metadata": {},
   "source": [
    "## Sinh câu hỏi và câu trả lời có trích dẫn cho tất cả các chủ đề"
   ]
  },
  {
   "cell_type": "code",
   "execution_count": 10,
   "id": "90bdf8f9",
   "metadata": {},
   "outputs": [
    {
     "name": "stdout",
     "output_type": "stream",
     "text": [
      "🚀 Bắt đầu sinh câu hỏi và câu trả lời có trích dẫn cho 5 chủ đề...\n",
      "\n"
     ]
    }
   ],
   "source": [
    "# Thay đổi thông số nếu muốn\n",
    "num_questions_per_level = 2\n",
    "chunks_per_topic = 5\n",
    "groq_model = \"llama3-70b-8192\"  # Hoặc \"llama3-8b-8192\" nếu muốn tiết kiệm tokens\n",
    "\n",
    "print(f\"🚀 Bắt đầu sinh câu hỏi và câu trả lời có trích dẫn cho {len(topics)} chủ đề...\\n\")"
   ]
  },
  {
   "cell_type": "code",
   "execution_count": 11,
   "id": "a7428cfb",
   "metadata": {},
   "outputs": [
    {
     "name": "stderr",
     "output_type": "stream",
     "text": [
      "2025-04-22 00:17:43,772 - question_generator - INFO - Bắt đầu quá trình sinh câu hỏi từ các chủ đề\n",
      "INFO:question_generator:Bắt đầu quá trình sinh câu hỏi từ các chủ đề\n",
      "2025-04-22 00:17:43,772 - question_generator - INFO - Đã đọc 5 chủ đề từ file ..\\data\\sample_topics.txt\n",
      "INFO:question_generator:Đã đọc 5 chủ đề từ file ..\\data\\sample_topics.txt\n",
      "INFO:question_generator:Bắt đầu quá trình sinh câu hỏi từ các chủ đề\n",
      "2025-04-22 00:17:43,772 - question_generator - INFO - Đã đọc 5 chủ đề từ file ..\\data\\sample_topics.txt\n",
      "INFO:question_generator:Đã đọc 5 chủ đề từ file ..\\data\\sample_topics.txt\n",
      "2025-04-22 00:17:47,394 - question_generator - INFO - Đã tải vector database thành công. Số lượng vectors: 15498\n",
      "INFO:question_generator:Đã tải vector database thành công. Số lượng vectors: 15498\n",
      "2025-04-22 00:17:47,394 - question_generator - INFO - Đã tải vector database thành công. Số lượng vectors: 15498\n",
      "INFO:question_generator:Đã tải vector database thành công. Số lượng vectors: 15498\n",
      "2025-04-22 00:17:47,932 - question_generator - INFO - Đã khởi tạo Groq Client với model 'llama3-70b-8192'\n",
      "INFO:question_generator:Đã khởi tạo Groq Client với model 'llama3-70b-8192'\n",
      "2025-04-22 00:17:47,934 - question_generator - INFO - Xử lý chủ đề 1/5: 'Luật Bảo vệ sức khỏe cộng đồng'\n",
      "INFO:question_generator:Xử lý chủ đề 1/5: 'Luật Bảo vệ sức khỏe cộng đồng'\n",
      "2025-04-22 00:17:47,935 - question_generator - INFO - Bắt đầu sinh câu hỏi cho chủ đề: 'Luật Bảo vệ sức khỏe cộng đồng'\n",
      "INFO:question_generator:Bắt đầu sinh câu hỏi cho chủ đề: 'Luật Bảo vệ sức khỏe cộng đồng'\n",
      "2025-04-22 00:17:47,932 - question_generator - INFO - Đã khởi tạo Groq Client với model 'llama3-70b-8192'\n",
      "INFO:question_generator:Đã khởi tạo Groq Client với model 'llama3-70b-8192'\n",
      "2025-04-22 00:17:47,934 - question_generator - INFO - Xử lý chủ đề 1/5: 'Luật Bảo vệ sức khỏe cộng đồng'\n",
      "INFO:question_generator:Xử lý chủ đề 1/5: 'Luật Bảo vệ sức khỏe cộng đồng'\n",
      "2025-04-22 00:17:47,935 - question_generator - INFO - Bắt đầu sinh câu hỏi cho chủ đề: 'Luật Bảo vệ sức khỏe cộng đồng'\n",
      "INFO:question_generator:Bắt đầu sinh câu hỏi cho chủ đề: 'Luật Bảo vệ sức khỏe cộng đồng'\n",
      "2025-04-22 00:17:48,057 - question_generator - INFO - Đã trích xuất 5 chunks cho chủ đề 'Luật Bảo vệ sức khỏe cộng đồng'\n",
      "INFO:question_generator:Đã trích xuất 5 chunks cho chủ đề 'Luật Bảo vệ sức khỏe cộng đồng'\n",
      "2025-04-22 00:17:48,057 - question_generator - INFO - Đã trích xuất 5 chunks cho chủ đề 'Luật Bảo vệ sức khỏe cộng đồng'\n",
      "INFO:question_generator:Đã trích xuất 5 chunks cho chủ đề 'Luật Bảo vệ sức khỏe cộng đồng'\n",
      "2025-04-22 00:17:57,596 - question_generator - INFO - Thời gian sinh cặp câu hỏi-trả lời cấp độ remember: 9.54 giây\n",
      "INFO:question_generator:Thời gian sinh cặp câu hỏi-trả lời cấp độ remember: 9.54 giây\n",
      "2025-04-22 00:17:57,602 - question_generator - INFO - Đã sinh 2 cặp câu hỏi-trả lời cấp độ remember cho chủ đề 'Luật Bảo vệ sức khỏe cộng đồng'\n",
      "INFO:question_generator:Đã sinh 2 cặp câu hỏi-trả lời cấp độ remember cho chủ đề 'Luật Bảo vệ sức khỏe cộng đồng'\n",
      "2025-04-22 00:17:57,596 - question_generator - INFO - Thời gian sinh cặp câu hỏi-trả lời cấp độ remember: 9.54 giây\n",
      "INFO:question_generator:Thời gian sinh cặp câu hỏi-trả lời cấp độ remember: 9.54 giây\n",
      "2025-04-22 00:17:57,602 - question_generator - INFO - Đã sinh 2 cặp câu hỏi-trả lời cấp độ remember cho chủ đề 'Luật Bảo vệ sức khỏe cộng đồng'\n",
      "INFO:question_generator:Đã sinh 2 cặp câu hỏi-trả lời cấp độ remember cho chủ đề 'Luật Bảo vệ sức khỏe cộng đồng'\n",
      "2025-04-22 00:18:15,807 - question_generator - INFO - Thời gian sinh cặp câu hỏi-trả lời cấp độ understand: 18.20 giây\n",
      "INFO:question_generator:Thời gian sinh cặp câu hỏi-trả lời cấp độ understand: 18.20 giây\n",
      "2025-04-22 00:18:15,810 - question_generator - INFO - Đã sinh 2 cặp câu hỏi-trả lời cấp độ understand cho chủ đề 'Luật Bảo vệ sức khỏe cộng đồng'\n",
      "INFO:question_generator:Đã sinh 2 cặp câu hỏi-trả lời cấp độ understand cho chủ đề 'Luật Bảo vệ sức khỏe cộng đồng'\n",
      "2025-04-22 00:18:15,807 - question_generator - INFO - Thời gian sinh cặp câu hỏi-trả lời cấp độ understand: 18.20 giây\n",
      "INFO:question_generator:Thời gian sinh cặp câu hỏi-trả lời cấp độ understand: 18.20 giây\n",
      "2025-04-22 00:18:15,810 - question_generator - INFO - Đã sinh 2 cặp câu hỏi-trả lời cấp độ understand cho chủ đề 'Luật Bảo vệ sức khỏe cộng đồng'\n",
      "INFO:question_generator:Đã sinh 2 cặp câu hỏi-trả lời cấp độ understand cho chủ đề 'Luật Bảo vệ sức khỏe cộng đồng'\n",
      "2025-04-22 00:18:34,923 - question_generator - INFO - Thời gian sinh cặp câu hỏi-trả lời cấp độ apply: 19.11 giây\n",
      "INFO:question_generator:Thời gian sinh cặp câu hỏi-trả lời cấp độ apply: 19.11 giây\n",
      "2025-04-22 00:18:34,924 - question_generator - INFO - Đã sinh 2 cặp câu hỏi-trả lời cấp độ apply cho chủ đề 'Luật Bảo vệ sức khỏe cộng đồng'\n",
      "INFO:question_generator:Đã sinh 2 cặp câu hỏi-trả lời cấp độ apply cho chủ đề 'Luật Bảo vệ sức khỏe cộng đồng'\n",
      "2025-04-22 00:18:34,926 - question_generator - INFO - Xử lý chủ đề 2/5: 'Quyền lợi y tế người cao tuổi'\n",
      "INFO:question_generator:Xử lý chủ đề 2/5: 'Quyền lợi y tế người cao tuổi'\n",
      "2025-04-22 00:18:34,926 - question_generator - INFO - Bắt đầu sinh câu hỏi cho chủ đề: 'Quyền lợi y tế người cao tuổi'\n",
      "INFO:question_generator:Bắt đầu sinh câu hỏi cho chủ đề: 'Quyền lợi y tế người cao tuổi'\n",
      "2025-04-22 00:18:34,923 - question_generator - INFO - Thời gian sinh cặp câu hỏi-trả lời cấp độ apply: 19.11 giây\n",
      "INFO:question_generator:Thời gian sinh cặp câu hỏi-trả lời cấp độ apply: 19.11 giây\n",
      "2025-04-22 00:18:34,924 - question_generator - INFO - Đã sinh 2 cặp câu hỏi-trả lời cấp độ apply cho chủ đề 'Luật Bảo vệ sức khỏe cộng đồng'\n",
      "INFO:question_generator:Đã sinh 2 cặp câu hỏi-trả lời cấp độ apply cho chủ đề 'Luật Bảo vệ sức khỏe cộng đồng'\n",
      "2025-04-22 00:18:34,926 - question_generator - INFO - Xử lý chủ đề 2/5: 'Quyền lợi y tế người cao tuổi'\n",
      "INFO:question_generator:Xử lý chủ đề 2/5: 'Quyền lợi y tế người cao tuổi'\n",
      "2025-04-22 00:18:34,926 - question_generator - INFO - Bắt đầu sinh câu hỏi cho chủ đề: 'Quyền lợi y tế người cao tuổi'\n",
      "INFO:question_generator:Bắt đầu sinh câu hỏi cho chủ đề: 'Quyền lợi y tế người cao tuổi'\n",
      "2025-04-22 00:18:35,003 - question_generator - INFO - Đã trích xuất 5 chunks cho chủ đề 'Quyền lợi y tế người cao tuổi'\n",
      "INFO:question_generator:Đã trích xuất 5 chunks cho chủ đề 'Quyền lợi y tế người cao tuổi'\n",
      "2025-04-22 00:18:35,003 - question_generator - INFO - Đã trích xuất 5 chunks cho chủ đề 'Quyền lợi y tế người cao tuổi'\n",
      "INFO:question_generator:Đã trích xuất 5 chunks cho chủ đề 'Quyền lợi y tế người cao tuổi'\n",
      "2025-04-22 00:18:54,582 - question_generator - INFO - Thời gian sinh cặp câu hỏi-trả lời cấp độ remember: 19.57 giây\n",
      "INFO:question_generator:Thời gian sinh cặp câu hỏi-trả lời cấp độ remember: 19.57 giây\n",
      "2025-04-22 00:18:54,587 - question_generator - INFO - Đã sinh 2 cặp câu hỏi-trả lời cấp độ remember cho chủ đề 'Quyền lợi y tế người cao tuổi'\n",
      "INFO:question_generator:Đã sinh 2 cặp câu hỏi-trả lời cấp độ remember cho chủ đề 'Quyền lợi y tế người cao tuổi'\n",
      "2025-04-22 00:18:54,582 - question_generator - INFO - Thời gian sinh cặp câu hỏi-trả lời cấp độ remember: 19.57 giây\n",
      "INFO:question_generator:Thời gian sinh cặp câu hỏi-trả lời cấp độ remember: 19.57 giây\n",
      "2025-04-22 00:18:54,587 - question_generator - INFO - Đã sinh 2 cặp câu hỏi-trả lời cấp độ remember cho chủ đề 'Quyền lợi y tế người cao tuổi'\n",
      "INFO:question_generator:Đã sinh 2 cặp câu hỏi-trả lời cấp độ remember cho chủ đề 'Quyền lợi y tế người cao tuổi'\n",
      "2025-04-22 00:19:13,788 - question_generator - INFO - Thời gian sinh cặp câu hỏi-trả lời cấp độ understand: 19.20 giây\n",
      "INFO:question_generator:Thời gian sinh cặp câu hỏi-trả lời cấp độ understand: 19.20 giây\n",
      "2025-04-22 00:19:13,791 - question_generator - ERROR - Lỗi khi gọi Groq API hoặc xử lý kết quả: Expecting value: line 1 column 1 (char 0)\n",
      "ERROR:question_generator:Lỗi khi gọi Groq API hoặc xử lý kết quả: Expecting value: line 1 column 1 (char 0)\n",
      "2025-04-22 00:19:13,793 - question_generator - INFO - Đã sinh 0 cặp câu hỏi-trả lời cấp độ understand cho chủ đề 'Quyền lợi y tế người cao tuổi'\n",
      "INFO:question_generator:Đã sinh 0 cặp câu hỏi-trả lời cấp độ understand cho chủ đề 'Quyền lợi y tế người cao tuổi'\n",
      "2025-04-22 00:19:13,788 - question_generator - INFO - Thời gian sinh cặp câu hỏi-trả lời cấp độ understand: 19.20 giây\n",
      "INFO:question_generator:Thời gian sinh cặp câu hỏi-trả lời cấp độ understand: 19.20 giây\n",
      "2025-04-22 00:19:13,791 - question_generator - ERROR - Lỗi khi gọi Groq API hoặc xử lý kết quả: Expecting value: line 1 column 1 (char 0)\n",
      "ERROR:question_generator:Lỗi khi gọi Groq API hoặc xử lý kết quả: Expecting value: line 1 column 1 (char 0)\n",
      "2025-04-22 00:19:13,793 - question_generator - INFO - Đã sinh 0 cặp câu hỏi-trả lời cấp độ understand cho chủ đề 'Quyền lợi y tế người cao tuổi'\n",
      "INFO:question_generator:Đã sinh 0 cặp câu hỏi-trả lời cấp độ understand cho chủ đề 'Quyền lợi y tế người cao tuổi'\n",
      "2025-04-22 00:19:36,083 - question_generator - INFO - Thời gian sinh cặp câu hỏi-trả lời cấp độ apply: 22.29 giây\n",
      "INFO:question_generator:Thời gian sinh cặp câu hỏi-trả lời cấp độ apply: 22.29 giây\n",
      "2025-04-22 00:19:36,085 - question_generator - INFO - Đã sinh 2 cặp câu hỏi-trả lời cấp độ apply cho chủ đề 'Quyền lợi y tế người cao tuổi'\n",
      "INFO:question_generator:Đã sinh 2 cặp câu hỏi-trả lời cấp độ apply cho chủ đề 'Quyền lợi y tế người cao tuổi'\n",
      "2025-04-22 00:19:36,089 - question_generator - INFO - Xử lý chủ đề 3/5: 'Chính sách y tế học đường'\n",
      "INFO:question_generator:Xử lý chủ đề 3/5: 'Chính sách y tế học đường'\n",
      "2025-04-22 00:19:36,092 - question_generator - INFO - Bắt đầu sinh câu hỏi cho chủ đề: 'Chính sách y tế học đường'\n",
      "INFO:question_generator:Bắt đầu sinh câu hỏi cho chủ đề: 'Chính sách y tế học đường'\n",
      "2025-04-22 00:19:36,083 - question_generator - INFO - Thời gian sinh cặp câu hỏi-trả lời cấp độ apply: 22.29 giây\n",
      "INFO:question_generator:Thời gian sinh cặp câu hỏi-trả lời cấp độ apply: 22.29 giây\n",
      "2025-04-22 00:19:36,085 - question_generator - INFO - Đã sinh 2 cặp câu hỏi-trả lời cấp độ apply cho chủ đề 'Quyền lợi y tế người cao tuổi'\n",
      "INFO:question_generator:Đã sinh 2 cặp câu hỏi-trả lời cấp độ apply cho chủ đề 'Quyền lợi y tế người cao tuổi'\n",
      "2025-04-22 00:19:36,089 - question_generator - INFO - Xử lý chủ đề 3/5: 'Chính sách y tế học đường'\n",
      "INFO:question_generator:Xử lý chủ đề 3/5: 'Chính sách y tế học đường'\n",
      "2025-04-22 00:19:36,092 - question_generator - INFO - Bắt đầu sinh câu hỏi cho chủ đề: 'Chính sách y tế học đường'\n",
      "INFO:question_generator:Bắt đầu sinh câu hỏi cho chủ đề: 'Chính sách y tế học đường'\n",
      "2025-04-22 00:19:36,195 - question_generator - INFO - Đã trích xuất 5 chunks cho chủ đề 'Chính sách y tế học đường'\n",
      "INFO:question_generator:Đã trích xuất 5 chunks cho chủ đề 'Chính sách y tế học đường'\n",
      "2025-04-22 00:19:36,195 - question_generator - INFO - Đã trích xuất 5 chunks cho chủ đề 'Chính sách y tế học đường'\n",
      "INFO:question_generator:Đã trích xuất 5 chunks cho chủ đề 'Chính sách y tế học đường'\n",
      "2025-04-22 00:19:56,776 - question_generator - INFO - Thời gian sinh cặp câu hỏi-trả lời cấp độ remember: 20.58 giây\n",
      "INFO:question_generator:Thời gian sinh cặp câu hỏi-trả lời cấp độ remember: 20.58 giây\n",
      "2025-04-22 00:19:56,778 - question_generator - ERROR - Lỗi khi gọi Groq API hoặc xử lý kết quả: Expecting value: line 1 column 1 (char 0)\n",
      "ERROR:question_generator:Lỗi khi gọi Groq API hoặc xử lý kết quả: Expecting value: line 1 column 1 (char 0)\n",
      "2025-04-22 00:19:56,780 - question_generator - INFO - Đã sinh 0 cặp câu hỏi-trả lời cấp độ remember cho chủ đề 'Chính sách y tế học đường'\n",
      "INFO:question_generator:Đã sinh 0 cặp câu hỏi-trả lời cấp độ remember cho chủ đề 'Chính sách y tế học đường'\n",
      "2025-04-22 00:19:56,776 - question_generator - INFO - Thời gian sinh cặp câu hỏi-trả lời cấp độ remember: 20.58 giây\n",
      "INFO:question_generator:Thời gian sinh cặp câu hỏi-trả lời cấp độ remember: 20.58 giây\n",
      "2025-04-22 00:19:56,778 - question_generator - ERROR - Lỗi khi gọi Groq API hoặc xử lý kết quả: Expecting value: line 1 column 1 (char 0)\n",
      "ERROR:question_generator:Lỗi khi gọi Groq API hoặc xử lý kết quả: Expecting value: line 1 column 1 (char 0)\n",
      "2025-04-22 00:19:56,780 - question_generator - INFO - Đã sinh 0 cặp câu hỏi-trả lời cấp độ remember cho chủ đề 'Chính sách y tế học đường'\n",
      "INFO:question_generator:Đã sinh 0 cặp câu hỏi-trả lời cấp độ remember cho chủ đề 'Chính sách y tế học đường'\n",
      "2025-04-22 00:20:16,585 - question_generator - INFO - Thời gian sinh cặp câu hỏi-trả lời cấp độ understand: 19.80 giây\n",
      "INFO:question_generator:Thời gian sinh cặp câu hỏi-trả lời cấp độ understand: 19.80 giây\n",
      "2025-04-22 00:20:16,585 - question_generator - ERROR - Lỗi khi gọi Groq API hoặc xử lý kết quả: Expecting value: line 1 column 1 (char 0)\n",
      "ERROR:question_generator:Lỗi khi gọi Groq API hoặc xử lý kết quả: Expecting value: line 1 column 1 (char 0)\n",
      "2025-04-22 00:20:16,597 - question_generator - INFO - Đã sinh 0 cặp câu hỏi-trả lời cấp độ understand cho chủ đề 'Chính sách y tế học đường'\n",
      "INFO:question_generator:Đã sinh 0 cặp câu hỏi-trả lời cấp độ understand cho chủ đề 'Chính sách y tế học đường'\n",
      "2025-04-22 00:20:16,585 - question_generator - INFO - Thời gian sinh cặp câu hỏi-trả lời cấp độ understand: 19.80 giây\n",
      "INFO:question_generator:Thời gian sinh cặp câu hỏi-trả lời cấp độ understand: 19.80 giây\n",
      "2025-04-22 00:20:16,585 - question_generator - ERROR - Lỗi khi gọi Groq API hoặc xử lý kết quả: Expecting value: line 1 column 1 (char 0)\n",
      "ERROR:question_generator:Lỗi khi gọi Groq API hoặc xử lý kết quả: Expecting value: line 1 column 1 (char 0)\n",
      "2025-04-22 00:20:16,597 - question_generator - INFO - Đã sinh 0 cặp câu hỏi-trả lời cấp độ understand cho chủ đề 'Chính sách y tế học đường'\n",
      "INFO:question_generator:Đã sinh 0 cặp câu hỏi-trả lời cấp độ understand cho chủ đề 'Chính sách y tế học đường'\n",
      "2025-04-22 00:20:37,151 - question_generator - INFO - Thời gian sinh cặp câu hỏi-trả lời cấp độ apply: 20.55 giây\n",
      "INFO:question_generator:Thời gian sinh cặp câu hỏi-trả lời cấp độ apply: 20.55 giây\n",
      "2025-04-22 00:20:37,153 - question_generator - INFO - Đã sinh 2 cặp câu hỏi-trả lời cấp độ apply cho chủ đề 'Chính sách y tế học đường'\n",
      "INFO:question_generator:Đã sinh 2 cặp câu hỏi-trả lời cấp độ apply cho chủ đề 'Chính sách y tế học đường'\n",
      "2025-04-22 00:20:37,155 - question_generator - INFO - Xử lý chủ đề 4/5: 'Quy định về an toàn thực phẩm'\n",
      "INFO:question_generator:Xử lý chủ đề 4/5: 'Quy định về an toàn thực phẩm'\n",
      "2025-04-22 00:20:37,157 - question_generator - INFO - Bắt đầu sinh câu hỏi cho chủ đề: 'Quy định về an toàn thực phẩm'\n",
      "INFO:question_generator:Bắt đầu sinh câu hỏi cho chủ đề: 'Quy định về an toàn thực phẩm'\n",
      "2025-04-22 00:20:37,151 - question_generator - INFO - Thời gian sinh cặp câu hỏi-trả lời cấp độ apply: 20.55 giây\n",
      "INFO:question_generator:Thời gian sinh cặp câu hỏi-trả lời cấp độ apply: 20.55 giây\n",
      "2025-04-22 00:20:37,153 - question_generator - INFO - Đã sinh 2 cặp câu hỏi-trả lời cấp độ apply cho chủ đề 'Chính sách y tế học đường'\n",
      "INFO:question_generator:Đã sinh 2 cặp câu hỏi-trả lời cấp độ apply cho chủ đề 'Chính sách y tế học đường'\n",
      "2025-04-22 00:20:37,155 - question_generator - INFO - Xử lý chủ đề 4/5: 'Quy định về an toàn thực phẩm'\n",
      "INFO:question_generator:Xử lý chủ đề 4/5: 'Quy định về an toàn thực phẩm'\n",
      "2025-04-22 00:20:37,157 - question_generator - INFO - Bắt đầu sinh câu hỏi cho chủ đề: 'Quy định về an toàn thực phẩm'\n",
      "INFO:question_generator:Bắt đầu sinh câu hỏi cho chủ đề: 'Quy định về an toàn thực phẩm'\n",
      "2025-04-22 00:20:37,218 - question_generator - INFO - Đã trích xuất 5 chunks cho chủ đề 'Quy định về an toàn thực phẩm'\n",
      "INFO:question_generator:Đã trích xuất 5 chunks cho chủ đề 'Quy định về an toàn thực phẩm'\n",
      "2025-04-22 00:20:37,218 - question_generator - INFO - Đã trích xuất 5 chunks cho chủ đề 'Quy định về an toàn thực phẩm'\n",
      "INFO:question_generator:Đã trích xuất 5 chunks cho chủ đề 'Quy định về an toàn thực phẩm'\n",
      "2025-04-22 00:20:57,006 - question_generator - INFO - Thời gian sinh cặp câu hỏi-trả lời cấp độ remember: 19.79 giây\n",
      "INFO:question_generator:Thời gian sinh cặp câu hỏi-trả lời cấp độ remember: 19.79 giây\n",
      "2025-04-22 00:20:57,006 - question_generator - ERROR - Lỗi khi gọi Groq API hoặc xử lý kết quả: Expecting value: line 1 column 1 (char 0)\n",
      "ERROR:question_generator:Lỗi khi gọi Groq API hoặc xử lý kết quả: Expecting value: line 1 column 1 (char 0)\n",
      "2025-04-22 00:20:57,011 - question_generator - INFO - Đã sinh 0 cặp câu hỏi-trả lời cấp độ remember cho chủ đề 'Quy định về an toàn thực phẩm'\n",
      "INFO:question_generator:Đã sinh 0 cặp câu hỏi-trả lời cấp độ remember cho chủ đề 'Quy định về an toàn thực phẩm'\n",
      "2025-04-22 00:20:57,006 - question_generator - INFO - Thời gian sinh cặp câu hỏi-trả lời cấp độ remember: 19.79 giây\n",
      "INFO:question_generator:Thời gian sinh cặp câu hỏi-trả lời cấp độ remember: 19.79 giây\n",
      "2025-04-22 00:20:57,006 - question_generator - ERROR - Lỗi khi gọi Groq API hoặc xử lý kết quả: Expecting value: line 1 column 1 (char 0)\n",
      "ERROR:question_generator:Lỗi khi gọi Groq API hoặc xử lý kết quả: Expecting value: line 1 column 1 (char 0)\n",
      "2025-04-22 00:20:57,011 - question_generator - INFO - Đã sinh 0 cặp câu hỏi-trả lời cấp độ remember cho chủ đề 'Quy định về an toàn thực phẩm'\n",
      "INFO:question_generator:Đã sinh 0 cặp câu hỏi-trả lời cấp độ remember cho chủ đề 'Quy định về an toàn thực phẩm'\n",
      "2025-04-22 00:21:17,808 - question_generator - INFO - Thời gian sinh cặp câu hỏi-trả lời cấp độ understand: 20.79 giây\n",
      "INFO:question_generator:Thời gian sinh cặp câu hỏi-trả lời cấp độ understand: 20.79 giây\n",
      "2025-04-22 00:21:17,810 - question_generator - INFO - Đã sinh 2 cặp câu hỏi-trả lời cấp độ understand cho chủ đề 'Quy định về an toàn thực phẩm'\n",
      "INFO:question_generator:Đã sinh 2 cặp câu hỏi-trả lời cấp độ understand cho chủ đề 'Quy định về an toàn thực phẩm'\n",
      "2025-04-22 00:21:17,808 - question_generator - INFO - Thời gian sinh cặp câu hỏi-trả lời cấp độ understand: 20.79 giây\n",
      "INFO:question_generator:Thời gian sinh cặp câu hỏi-trả lời cấp độ understand: 20.79 giây\n",
      "2025-04-22 00:21:17,810 - question_generator - INFO - Đã sinh 2 cặp câu hỏi-trả lời cấp độ understand cho chủ đề 'Quy định về an toàn thực phẩm'\n",
      "INFO:question_generator:Đã sinh 2 cặp câu hỏi-trả lời cấp độ understand cho chủ đề 'Quy định về an toàn thực phẩm'\n",
      "2025-04-22 00:21:37,806 - question_generator - INFO - Thời gian sinh cặp câu hỏi-trả lời cấp độ apply: 19.99 giây\n",
      "INFO:question_generator:Thời gian sinh cặp câu hỏi-trả lời cấp độ apply: 19.99 giây\n",
      "2025-04-22 00:21:37,806 - question_generator - INFO - Đã sinh 2 cặp câu hỏi-trả lời cấp độ apply cho chủ đề 'Quy định về an toàn thực phẩm'\n",
      "INFO:question_generator:Đã sinh 2 cặp câu hỏi-trả lời cấp độ apply cho chủ đề 'Quy định về an toàn thực phẩm'\n",
      "2025-04-22 00:21:37,808 - question_generator - INFO - Xử lý chủ đề 5/5: 'Chính sách bảo hiểm y tế'\n",
      "INFO:question_generator:Xử lý chủ đề 5/5: 'Chính sách bảo hiểm y tế'\n",
      "2025-04-22 00:21:37,808 - question_generator - INFO - Bắt đầu sinh câu hỏi cho chủ đề: 'Chính sách bảo hiểm y tế'\n",
      "INFO:question_generator:Bắt đầu sinh câu hỏi cho chủ đề: 'Chính sách bảo hiểm y tế'\n",
      "2025-04-22 00:21:37,806 - question_generator - INFO - Thời gian sinh cặp câu hỏi-trả lời cấp độ apply: 19.99 giây\n",
      "INFO:question_generator:Thời gian sinh cặp câu hỏi-trả lời cấp độ apply: 19.99 giây\n",
      "2025-04-22 00:21:37,806 - question_generator - INFO - Đã sinh 2 cặp câu hỏi-trả lời cấp độ apply cho chủ đề 'Quy định về an toàn thực phẩm'\n",
      "INFO:question_generator:Đã sinh 2 cặp câu hỏi-trả lời cấp độ apply cho chủ đề 'Quy định về an toàn thực phẩm'\n",
      "2025-04-22 00:21:37,808 - question_generator - INFO - Xử lý chủ đề 5/5: 'Chính sách bảo hiểm y tế'\n",
      "INFO:question_generator:Xử lý chủ đề 5/5: 'Chính sách bảo hiểm y tế'\n",
      "2025-04-22 00:21:37,808 - question_generator - INFO - Bắt đầu sinh câu hỏi cho chủ đề: 'Chính sách bảo hiểm y tế'\n",
      "INFO:question_generator:Bắt đầu sinh câu hỏi cho chủ đề: 'Chính sách bảo hiểm y tế'\n",
      "2025-04-22 00:21:37,881 - question_generator - INFO - Đã trích xuất 5 chunks cho chủ đề 'Chính sách bảo hiểm y tế'\n",
      "INFO:question_generator:Đã trích xuất 5 chunks cho chủ đề 'Chính sách bảo hiểm y tế'\n",
      "2025-04-22 00:21:37,881 - question_generator - INFO - Đã trích xuất 5 chunks cho chủ đề 'Chính sách bảo hiểm y tế'\n",
      "INFO:question_generator:Đã trích xuất 5 chunks cho chủ đề 'Chính sách bảo hiểm y tế'\n",
      "2025-04-22 00:22:00,300 - question_generator - INFO - Thời gian sinh cặp câu hỏi-trả lời cấp độ remember: 22.42 giây\n",
      "INFO:question_generator:Thời gian sinh cặp câu hỏi-trả lời cấp độ remember: 22.42 giây\n",
      "2025-04-22 00:22:00,302 - question_generator - ERROR - Lỗi khi gọi Groq API hoặc xử lý kết quả: Expecting value: line 1 column 1 (char 0)\n",
      "ERROR:question_generator:Lỗi khi gọi Groq API hoặc xử lý kết quả: Expecting value: line 1 column 1 (char 0)\n",
      "2025-04-22 00:22:00,303 - question_generator - INFO - Đã sinh 0 cặp câu hỏi-trả lời cấp độ remember cho chủ đề 'Chính sách bảo hiểm y tế'\n",
      "INFO:question_generator:Đã sinh 0 cặp câu hỏi-trả lời cấp độ remember cho chủ đề 'Chính sách bảo hiểm y tế'\n",
      "2025-04-22 00:22:00,300 - question_generator - INFO - Thời gian sinh cặp câu hỏi-trả lời cấp độ remember: 22.42 giây\n",
      "INFO:question_generator:Thời gian sinh cặp câu hỏi-trả lời cấp độ remember: 22.42 giây\n",
      "2025-04-22 00:22:00,302 - question_generator - ERROR - Lỗi khi gọi Groq API hoặc xử lý kết quả: Expecting value: line 1 column 1 (char 0)\n",
      "ERROR:question_generator:Lỗi khi gọi Groq API hoặc xử lý kết quả: Expecting value: line 1 column 1 (char 0)\n",
      "2025-04-22 00:22:00,303 - question_generator - INFO - Đã sinh 0 cặp câu hỏi-trả lời cấp độ remember cho chủ đề 'Chính sách bảo hiểm y tế'\n",
      "INFO:question_generator:Đã sinh 0 cặp câu hỏi-trả lời cấp độ remember cho chủ đề 'Chính sách bảo hiểm y tế'\n",
      "2025-04-22 00:22:21,179 - question_generator - INFO - Thời gian sinh cặp câu hỏi-trả lời cấp độ understand: 20.87 giây\n",
      "INFO:question_generator:Thời gian sinh cặp câu hỏi-trả lời cấp độ understand: 20.87 giây\n",
      "2025-04-22 00:22:21,179 - question_generator - INFO - Đã sinh 2 cặp câu hỏi-trả lời cấp độ understand cho chủ đề 'Chính sách bảo hiểm y tế'\n",
      "INFO:question_generator:Đã sinh 2 cặp câu hỏi-trả lời cấp độ understand cho chủ đề 'Chính sách bảo hiểm y tế'\n",
      "2025-04-22 00:22:21,179 - question_generator - INFO - Thời gian sinh cặp câu hỏi-trả lời cấp độ understand: 20.87 giây\n",
      "INFO:question_generator:Thời gian sinh cặp câu hỏi-trả lời cấp độ understand: 20.87 giây\n",
      "2025-04-22 00:22:21,179 - question_generator - INFO - Đã sinh 2 cặp câu hỏi-trả lời cấp độ understand cho chủ đề 'Chính sách bảo hiểm y tế'\n",
      "INFO:question_generator:Đã sinh 2 cặp câu hỏi-trả lời cấp độ understand cho chủ đề 'Chính sách bảo hiểm y tế'\n",
      "2025-04-22 00:22:43,336 - question_generator - INFO - Thời gian sinh cặp câu hỏi-trả lời cấp độ apply: 22.15 giây\n",
      "INFO:question_generator:Thời gian sinh cặp câu hỏi-trả lời cấp độ apply: 22.15 giây\n",
      "2025-04-22 00:22:43,336 - question_generator - INFO - Đã sinh 2 cặp câu hỏi-trả lời cấp độ apply cho chủ đề 'Chính sách bảo hiểm y tế'\n",
      "INFO:question_generator:Đã sinh 2 cặp câu hỏi-trả lời cấp độ apply cho chủ đề 'Chính sách bảo hiểm y tế'\n",
      "2025-04-22 00:22:43,343 - question_generator - INFO - Đã lưu kết quả sinh câu hỏi và câu trả lời có trích dẫn vào file ..\\outputs\\question_generation\\questions_with_citations_groq_20250422_002243.json\n",
      "INFO:question_generator:Đã lưu kết quả sinh câu hỏi và câu trả lời có trích dẫn vào file ..\\outputs\\question_generation\\questions_with_citations_groq_20250422_002243.json\n",
      "2025-04-22 00:22:43,336 - question_generator - INFO - Thời gian sinh cặp câu hỏi-trả lời cấp độ apply: 22.15 giây\n",
      "INFO:question_generator:Thời gian sinh cặp câu hỏi-trả lời cấp độ apply: 22.15 giây\n",
      "2025-04-22 00:22:43,336 - question_generator - INFO - Đã sinh 2 cặp câu hỏi-trả lời cấp độ apply cho chủ đề 'Chính sách bảo hiểm y tế'\n",
      "INFO:question_generator:Đã sinh 2 cặp câu hỏi-trả lời cấp độ apply cho chủ đề 'Chính sách bảo hiểm y tế'\n",
      "2025-04-22 00:22:43,343 - question_generator - INFO - Đã lưu kết quả sinh câu hỏi và câu trả lời có trích dẫn vào file ..\\outputs\\question_generation\\questions_with_citations_groq_20250422_002243.json\n",
      "INFO:question_generator:Đã lưu kết quả sinh câu hỏi và câu trả lời có trích dẫn vào file ..\\outputs\\question_generation\\questions_with_citations_groq_20250422_002243.json\n"
     ]
    }
   ],
   "source": [
    "# Sinh câu hỏi và câu trả lời cho tất cả chủ đề\n",
    "all_questions = generate_questions_from_topics(\n",
    "    topic_file_path=topic_file_path,\n",
    "    vector_db_path=vector_db_path,\n",
    "    output_dir=\"../outputs\",\n",
    "    embedding_model_name=embedding_model_name,\n",
    "    groq_model_name=groq_model,\n",
    "    num_questions_per_level=num_questions_per_level,\n",
    "    chunks_per_topic=chunks_per_topic\n",
    ")"
   ]
  },
  {
   "cell_type": "markdown",
   "id": "df9ce30c",
   "metadata": {},
   "source": [
    "## Phân tích kết quả và trích dẫn"
   ]
  },
  {
   "cell_type": "code",
   "execution_count": 12,
   "id": "b0c3cf0c",
   "metadata": {},
   "outputs": [
    {
     "name": "stdout",
     "output_type": "stream",
     "text": [
      "📊 Tổng quan về câu hỏi và trích dẫn:\n",
      "- Tổng số câu hỏi: 20\n",
      "- Số câu hỏi có trích dẫn: 19 (95.0%)\n",
      "- Số chunks trung bình được sử dụng mỗi câu hỏi: 1.05\n",
      "\n",
      "📊 Thống kê theo cấp độ Bloom:\n"
     ]
    },
    {
     "data": {
      "text/html": [
       "<div>\n",
       "<style scoped>\n",
       "    .dataframe tbody tr th:only-of-type {\n",
       "        vertical-align: middle;\n",
       "    }\n",
       "\n",
       "    .dataframe tbody tr th {\n",
       "        vertical-align: top;\n",
       "    }\n",
       "\n",
       "    .dataframe thead th {\n",
       "        text-align: right;\n",
       "    }\n",
       "</style>\n",
       "<table border=\"1\" class=\"dataframe\">\n",
       "  <thead>\n",
       "    <tr style=\"text-align: right;\">\n",
       "      <th></th>\n",
       "      <th>Cấp độ</th>\n",
       "      <th>Số câu hỏi</th>\n",
       "      <th>% có trích dẫn</th>\n",
       "      <th>Số chunks trung bình</th>\n",
       "    </tr>\n",
       "  </thead>\n",
       "  <tbody>\n",
       "    <tr>\n",
       "      <th>0</th>\n",
       "      <td>apply</td>\n",
       "      <td>10</td>\n",
       "      <td>100.000000</td>\n",
       "      <td>1.1</td>\n",
       "    </tr>\n",
       "    <tr>\n",
       "      <th>1</th>\n",
       "      <td>remember</td>\n",
       "      <td>4</td>\n",
       "      <td>100.000000</td>\n",
       "      <td>1.0</td>\n",
       "    </tr>\n",
       "    <tr>\n",
       "      <th>2</th>\n",
       "      <td>understand</td>\n",
       "      <td>6</td>\n",
       "      <td>83.333333</td>\n",
       "      <td>1.0</td>\n",
       "    </tr>\n",
       "  </tbody>\n",
       "</table>\n",
       "</div>"
      ],
      "text/plain": [
       "       Cấp độ  Số câu hỏi  % có trích dẫn  Số chunks trung bình\n",
       "0       apply          10      100.000000                   1.1\n",
       "1    remember           4      100.000000                   1.0\n",
       "2  understand           6       83.333333                   1.0"
      ]
     },
     "metadata": {},
     "output_type": "display_data"
    }
   ],
   "source": [
    "# Tạo DataFrame từ danh sách câu hỏi\n",
    "df_questions = pd.DataFrame(all_questions)\n",
    "\n",
    "# Thống kê về trích dẫn\n",
    "df_questions['has_citations'] = df_questions['citations'].apply(lambda x: len(x) > 0 if isinstance(x, str) else False)\n",
    "df_questions['num_source_chunks'] = df_questions['source_chunks'].apply(len)\n",
    "\n",
    "# Hiển thị thông tin tổng quan\n",
    "print(\"📊 Tổng quan về câu hỏi và trích dẫn:\")\n",
    "print(f\"- Tổng số câu hỏi: {len(df_questions)}\")\n",
    "print(f\"- Số câu hỏi có trích dẫn: {df_questions['has_citations'].sum()} ({df_questions['has_citations'].mean() * 100:.1f}%)\")\n",
    "print(f\"- Số chunks trung bình được sử dụng mỗi câu hỏi: {df_questions['num_source_chunks'].mean():.2f}\")\n",
    "\n",
    "# Thống kê theo cấp độ Bloom\n",
    "print(\"\\n📊 Thống kê theo cấp độ Bloom:\")\n",
    "bloom_stats = df_questions.groupby('level').agg({\n",
    "    'question': 'count',\n",
    "    'has_citations': 'mean',\n",
    "    'num_source_chunks': 'mean'\n",
    "}).reset_index()\n",
    "\n",
    "bloom_stats.columns = ['Cấp độ', 'Số câu hỏi', '% có trích dẫn', 'Số chunks trung bình']\n",
    "bloom_stats['% có trích dẫn'] = bloom_stats['% có trích dẫn'] * 100\n",
    "display(bloom_stats)"
   ]
  },
  {
   "cell_type": "code",
   "execution_count": 13,
   "id": "c6cea178",
   "metadata": {},
   "outputs": [
    {
     "data": {
      "image/png": "[encoded data removed]",
      "text/plain": [
       "<Figure size 1000x600 with 1 Axes>"
      ]
     },
     "metadata": {},
     "output_type": "display_data"
    }
   ],
   "source": [
    "# Hiển thị phân bố số chunks sử dụng theo cấp độ Bloom\n",
    "plt.figure(figsize=(10, 6))\n",
    "sns.boxplot(x=\"level\", y=\"num_source_chunks\", data=df_questions)\n",
    "plt.title(\"Số lượng chunks sử dụng theo cấp độ Bloom\", fontsize=14)\n",
    "plt.xlabel(\"Cấp độ\", fontsize=12)\n",
    "plt.ylabel(\"Số lượng chunks\", fontsize=12)\n",
    "plt.tight_layout()\n",
    "plt.show()"
   ]
  },
  {
   "cell_type": "markdown",
   "id": "feaef2b4",
   "metadata": {},
   "source": [
    "## Hiển thị chi tiết một câu hỏi với trích dẫn và nguồn"
   ]
  },
  {
   "cell_type": "code",
   "execution_count": 14,
   "id": "7025c2ab",
   "metadata": {},
   "outputs": [
    {
     "name": "stdout",
     "output_type": "stream",
     "text": [
      "📝 Chi tiết một câu hỏi với trích dẫn và nguồn:\n",
      "\n",
      "Chủ đề: Quyền lợi y tế người cao tuổi\n",
      "Cấp độ: apply\n",
      "\n",
      "Câu hỏi: Tại trạm y tế xã, phường, thị trấn, người cao tuổi có thể được chăm sóc sức khỏe như thế nào?\n",
      "\n",
      "Câu trả lời: Tại trạm y tế xã, phường, thị trấn, người cao tuổi có thể được khám bệnh, chữa bệnh và phục hồi chức năng dựa vào cộng đồng để phòng ngừa và phục hồi các di chứng do chấn thương, tai nạn hoặc do các bệnh tai biến mạch máu não, bệnh mạn tính, bệnh nghề nghiệp và các bệnh khác.\n",
      "\n",
      "Trích dẫn: Thông tư số 35/2011/TT-BYT ngày 15 tháng 10 năm 2011 của Bộ trưởng Bộ Y tế hướng dẫn thực hiện chăm sóc sức khỏe người cao tuổi\n",
      "\n",
      "Thông tin về các chunks sử dụng:\n",
      "\n",
      "- Chunk 3:\n",
      "  + document_id: 35/2011/TT-BYT\n",
      "  + document_type: Thông tư\n",
      "  + effective_date: 2011-12-01\n",
      "  + source_link: https://vbpl.vn/boyte/Pages/vbpq-toanvan.aspx?ItemID=27085&Keyword=\n",
      "  + domain: \n",
      "  + Chương: II\n",
      "  + Điều: 3\n",
      "  + Khoản: 5\n",
      "  + location_detail: Chương II: CHĂM SÓC SỨC KHỎE CHO NGƯỜI CAO TUỔI TẠI CỘNG ĐỒNG VÀ QUẢN LÝ CÁC BỆNH MẠN TÍNH... -> Điều 3: Nội dung chăm sóc sức khỏe người cao tuổi tại cộng đồng... -> Khoản 5\n",
      "  + start_index_in_main: 4075\n",
      "  + độ tương đồng: 1.0\n",
      "\n",
      "- Chunk 5:\n",
      "  + document_id: 06/BYT-TT\n",
      "  + document_type: None\n",
      "  + effective_date: 1996-05-11\n",
      "  + source_link: https://vbpl.vn/boyte/Pages/vbpq-toanvan.aspx?ItemID=9236&Keyword=\n",
      "  + domain: None\n",
      "  + Khoản: 3\n",
      "  + location_detail: Khoản 3\n",
      "  + start_index_in_main: 1287\n",
      "  + độ tương đồng: 1.0\n"
     ]
    }
   ],
   "source": [
    "# Chọn một câu hỏi để hiển thị chi tiết\n",
    "import pprint\n",
    "\n",
    "# Tìm câu hỏi có trích dẫn và nhiều nguồn\n",
    "sample_questions = df_questions[df_questions['has_citations'] & (df_questions['num_source_chunks'] > 1)]\n",
    "if not sample_questions.empty:\n",
    "    sample = sample_questions.iloc[0].to_dict()\n",
    "else:\n",
    "    sample = all_questions[0]\n",
    "\n",
    "print(\"📝 Chi tiết một câu hỏi với trích dẫn và nguồn:\\n\")\n",
    "print(f\"Chủ đề: {sample['topic']}\")\n",
    "print(f\"Cấp độ: {sample['level']}\")\n",
    "print(f\"\\nCâu hỏi: {sample['question']}\")\n",
    "print(f\"\\nCâu trả lời: {sample['answer']}\")\n",
    "print(f\"\\nTrích dẫn: {sample['citations']}\")\n",
    "\n",
    "print(\"\\nThông tin về các chunks sử dụng:\")\n",
    "for chunk in sample['source_chunks']:\n",
    "    print(f\"\\n- Chunk {chunk.get('chunk_id')}:\"),\n",
    "    metadata = chunk.get('metadata', {})\n",
    "    for key, value in metadata.items():\n",
    "        print(f\"  + {key}: {value}\")\n",
    "    print(f\"  + độ tương đồng: {chunk.get('score', 'N/A')}\")"
   ]
  },
  {
   "cell_type": "markdown",
   "id": "ed2c349c",
   "metadata": {},
   "source": [
    "## Lưu kết quả thành JSON với metadata đầy đủ"
   ]
  },
  {
   "cell_type": "code",
   "execution_count": 15,
   "id": "91d45932",
   "metadata": {},
   "outputs": [
    {
     "name": "stdout",
     "output_type": "stream",
     "text": [
      "✅ Đã lưu kết quả vào file: ..\\outputs\\question_generation\\questions_with_citations_groq_20250422_002243_jupyter.json\n"
     ]
    }
   ],
   "source": [
    "# Thư mục lưu kết quả\n",
    "output_path = Path(\"../outputs/question_generation\")\n",
    "output_path.mkdir(parents=True, exist_ok=True)\n",
    "\n",
    "# Tạo tên file với timestamp\n",
    "timestamp = datetime.now().strftime(\"%Y%m%d_%H%M%S\")\n",
    "output_file = output_path / f\"questions_with_citations_groq_{timestamp}_jupyter.json\"\n",
    "\n",
    "# Đảm bảo các đối tượng datetime được chuyển thành chuỗi\n",
    "class DateTimeEncoder(json.JSONEncoder):\n",
    "    def default(self, obj):\n",
    "        if isinstance(obj, datetime):\n",
    "            return obj.isoformat()\n",
    "        return super(DateTimeEncoder, self).default(obj)\n",
    "\n",
    "# Lưu kết quả với định dạng JSON\n",
    "with open(output_file, \"w\", encoding=\"utf-8\") as f:\n",
    "    json.dump(all_questions, f, ensure_ascii=False, indent=2, cls=DateTimeEncoder)\n",
    "\n",
    "print(f\"✅ Đã lưu kết quả vào file: {output_file}\")"
   ]
  },
  {
   "cell_type": "markdown",
   "id": "7ceabc3b",
   "metadata": {},
   "source": [
    "## Thống kê các văn bản pháp luật được trích dẫn"
   ]
  },
  {
   "cell_type": "code",
   "execution_count": 16,
   "id": "b12abbf7",
   "metadata": {},
   "outputs": [
    {
     "name": "stdout",
     "output_type": "stream",
     "text": [
      "📋 Các văn bản pháp luật được trích dẫn nhiều nhất:\n",
      "\n",
      "- Thông tư số XX/20XX/TT-BYT: 4 lần\n",
      "- Thông tư số 16/2012/TT-BYT: 3 lần\n",
      "- Thông tư số 35/2011/TT-BYT ngày 15 tháng 10 năm 2011 của Bộ trưởng Bộ Y tế hướng dẫn thực hiện chăm sóc sức khỏe người cao tuổi: 2 lần\n",
      "- Thông tư hướng dẫn thực hiện quản lý an toàn vệ sinh thực phẩm trong kinh doanh, dịch vụ và phục vụ ăn uống: 2 lần\n",
      "- Thông tư Hướng dẫn thực hiện quản lý an toàn vệ sinh thực phẩm trong kinh doanh, dịch vụ và phục vụ ăn uống: 2 lần\n",
      "- Cơ sở vật chất, trang thiết bị, dụng cụ và người trực tiếp kinh doanh phải thực hiện theo quy định tại các điều 4, 5 và 6 Thông tư số 16/2012/TT-BYT ngày 22 tháng 10 năm 2012 của Bộ trưởng Bộ Y tế.: 1 lần\n",
      "- Để kinh doanh, bảo quản, vận chuyển thực phẩm chức năng, cơ sở vật chất, trang thiết bị, dụng cụ và người trực tiếp kinh doanh phải thực hiện theo quy định tại các điều 4, 5 và 6 Thông tư số 16/2012/TT-BYT ngày 22 tháng 10 năm 2012 của Bộ trưởng Bộ Y tế: 1 lần\n",
      "- Theo Điều 15 Thông tư số 16/2012/TT-BYT.: 1 lần\n",
      "- Theo Điều 15 của Thông tư số 16/2012/TT-BYT, cơ sở kinh doanh thực phẩm chức năng phải đáp ứng các điều kiện về cơ sở vật chất, trang thiết bị, dụng cụ và người trực tiếp kinh doanh: 1 lần\n",
      "- Luật Bảo vệ sức khỏe cộng đồng: 1 lần\n"
     ]
    }
   ],
   "source": [
    "# Phân tích các văn bản pháp luật được trích dẫn\n",
    "import re\n",
    "\n",
    "# Tìm các từ khóa liên quan đến văn bản pháp luật\n",
    "law_keywords = [\n",
    "    \"luật\", \"nghị định\", \"thông tư\", \"quyết định\", \"văn bản\", \"pháp luật\", \n",
    "    \"nghị quyết\", \"hiến pháp\", \"bộ luật\", \"ND-CP\", \"TT-BYT\", \"QĐ\"\n",
    "]\n",
    "\n",
    "# Tạo pattern để tìm kiếm\n",
    "pattern = re.compile('|'.join(law_keywords), re.IGNORECASE)\n",
    "\n",
    "# Hàm trích xuất các văn bản pháp luật từ trích dẫn và câu trả lời\n",
    "def extract_legal_docs(text):\n",
    "    if not isinstance(text, str):\n",
    "        return []\n",
    "    \n",
    "    # Tìm tất cả các câu có chứa từ khóa pháp luật\n",
    "    sentences = re.split(r'[.;!?]\\s+', text)\n",
    "    legal_docs = []\n",
    "    \n",
    "    for sentence in sentences:\n",
    "        if pattern.search(sentence):\n",
    "            legal_docs.append(sentence.strip())\n",
    "    \n",
    "    return legal_docs\n",
    "\n",
    "# Áp dụng hàm trích xuất\n",
    "all_legal_docs = []\n",
    "for _, row in df_questions.iterrows():\n",
    "    docs_from_citations = extract_legal_docs(row['citations'])\n",
    "    docs_from_answer = extract_legal_docs(row['answer'])\n",
    "    all_legal_docs.extend(docs_from_citations + docs_from_answer)\n",
    "\n",
    "# Lọc và đếm các văn bản pháp luật xuất hiện nhiều nhất\n",
    "from collections import Counter\n",
    "\n",
    "# Đếm số lần xuất hiện\n",
    "legal_docs_counter = Counter(all_legal_docs)\n",
    "top_legal_docs = legal_docs_counter.most_common(10)\n",
    "\n",
    "print(\"📋 Các văn bản pháp luật được trích dẫn nhiều nhất:\\n\")\n",
    "for doc, count in top_legal_docs:\n",
    "    print(f\"- {doc}: {count} lần\")"
   ]
  },
  {
   "cell_type": "markdown",
   "id": "f0f4ed8a",
   "metadata": {},
   "source": [
    "## Kết luận\n",
    "\n",
    "Notebook này đã minh họa cách sử dụng module `question_generator.py` để sinh câu hỏi và câu trả lời có trích dẫn từ các chunks trong vector database theo ba thang đo của Bloom (Remember, Understand, Apply).\n",
    "\n",
    "Chúng ta đã:\n",
    "1. Khởi tạo model embedding và load vector database\n",
    "2. Sinh câu hỏi và câu trả lời có trích dẫn văn bản pháp luật\n",
    "3. Phân tích trích dẫn và nguồn được sử dụng\n",
    "4. Lưu kết quả vào file JSON với metadata đầy đủ\n",
    "\n",
    "Mỗi câu hỏi được lưu với cấu trúc JSON bao gồm:\n",
    "- `topic`: Chủ đề của câu hỏi\n",
    "- `level`: Cấp độ Bloom (remember, understand, apply)\n",
    "- `question`: Nội dung câu hỏi\n",
    "- `answer`: Nội dung câu trả lời có trích dẫn\n",
    "- `citations`: Tên đầy đủ của các văn bản pháp luật được trích dẫn\n",
    "- `source_chunks`: Thông tin chi tiết về các chunks được sử dụng làm nguồn\n",
    "- `metadata`: Các thông tin bổ sung như thời gian tạo, model sử dụng"
   ]
  }
 ],
 "metadata": {
  "kernelspec": {
   "display_name": "Python 3",
   "language": "python",
   "name": "python3"
  },
  "language_info": {
   "codemirror_mode": {
    "name": "ipython",
    "version": 3
   },
   "file_extension": ".py",
   "mimetype": "text/x-python",
   "name": "python",
   "nbconvert_exporter": "python",
   "pygments_lexer": "ipython3",
   "version": "3.12.6"
  }
 },
 "nbformat": 4,
 "nbformat_minor": 5
}
