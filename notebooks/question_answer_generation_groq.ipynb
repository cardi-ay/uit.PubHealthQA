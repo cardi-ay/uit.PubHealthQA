{
 "cells": [
  {
   "cell_type": "markdown",
   "id": "cef7d6df",
   "metadata": {},
   "source": [
    "# Sinh câu hỏi và câu trả lời dùng Groq API dựa trên Vector Database\n",
    "\n",
    "Notebook này minh họa cách sử dụng module `question_generator.py` để sinh cả câu hỏi và câu trả lời từ các chunks trong vector database theo ba thang đo của Bloom (Remember, Understand, Apply) sử dụng Groq API."
   ]
  },
  {
   "cell_type": "code",
   "execution_count": 1,
   "id": "f8fb8cf6",
   "metadata": {},
   "outputs": [],
   "source": [
    "# Import các thư viện cần thiết\n",
    "import os\n",
    "import sys\n",
    "import json\n",
    "from pathlib import Path\n",
    "from dotenv import load_dotenv\n",
    "import pandas as pd\n",
    "import matplotlib.pyplot as plt\n",
    "import seaborn as sns\n",
    "from datetime import datetime\n",
    "\n",
    "# Đảm bảo có thể import modules từ src\n",
    "MODULE_PATH = os.path.abspath(os.path.join('..'))\n",
    "if MODULE_PATH not in sys.path:\n",
    "    sys.path.append(MODULE_PATH)"
   ]
  },
  {
   "cell_type": "code",
   "execution_count": 2,
   "id": "1f6b8e6a",
   "metadata": {},
   "outputs": [],
   "source": [
    "# Load biến môi trường từ file .env\n",
    "load_dotenv()\n",
    "\n",
    "# Kiểm tra xem đã có GROQ_API_KEY chưa\n",
    "groq_api_key = os.getenv('GROQ_API_KEY')\n",
    "if groq_api_key is None or groq_api_key == \"your_groq_api_key_here\":\n",
    "    raise ValueError(\"⚠️ Chưa cấu hình GROQ_API_KEY trong file .env. \"\n",
    "                    \"Hãy thêm GROQ_API_KEY=<your_api_key> vào file .env!\")"
   ]
  },
  {
   "cell_type": "markdown",
   "id": "f2db3387",
   "metadata": {},
   "source": [
    "## Import các module cần thiết"
   ]
  },
  {
   "cell_type": "code",
   "execution_count": 3,
   "id": "3243e5de",
   "metadata": {},
   "outputs": [
    {
     "name": "stderr",
     "output_type": "stream",
     "text": [
      "2025-04-21 23:24:40,263 - question_generator - INFO - Logger 'question_generator' đã được khởi tạo.\n",
      "INFO:question_generator:Logger 'question_generator' đã được khởi tạo.\n",
      "INFO:question_generator:Logger 'question_generator' đã được khởi tạo.\n"
     ]
    }
   ],
   "source": [
    "# Import các module cần thiết từ project\n",
    "from src.embed.faiss_manager import initialize_embedding_model, load_vector_db\n",
    "from src.generation.question_generator import GroqQuestionGenerator, generate_questions_from_topics"
   ]
  },
  {
   "cell_type": "markdown",
   "id": "bd8070e6",
   "metadata": {},
   "source": [
    "## Đọc danh sách chủ đề từ file"
   ]
  },
  {
   "cell_type": "code",
   "execution_count": 4,
   "id": "6eb61997",
   "metadata": {},
   "outputs": [
    {
     "name": "stdout",
     "output_type": "stream",
     "text": [
      "📋 Đã tìm thấy 5 chủ đề:\n",
      "  1. Luật Bảo vệ sức khỏe cộng đồng\n",
      "  2. Quyền lợi y tế người cao tuổi\n",
      "  3. Chính sách y tế học đường\n",
      "  4. Quy định về an toàn thực phẩm\n",
      "  5. Chính sách bảo hiểm y tế\n"
     ]
    }
   ],
   "source": [
    "# Đường dẫn tới file chủ đề\n",
    "topic_file_path = Path(\"../data/sample_topics.txt\")\n",
    "\n",
    "# Đọc danh sách chủ đề\n",
    "with open(topic_file_path, \"r\", encoding=\"utf-8\") as f:\n",
    "    topics = [line.strip() for line in f.readlines() if line.strip()]\n",
    "\n",
    "print(f\"📋 Đã tìm thấy {len(topics)} chủ đề:\")\n",
    "for i, topic in enumerate(topics, 1):\n",
    "    print(f\"  {i}. {topic}\")"
   ]
  },
  {
   "cell_type": "markdown",
   "id": "6e59ad2e",
   "metadata": {},
   "source": [
    "## Khởi tạo model embedding và load vector database"
   ]
  },
  {
   "cell_type": "code",
   "execution_count": 5,
   "id": "b7e1d1c2",
   "metadata": {},
   "outputs": [
    {
     "name": "stderr",
     "output_type": "stream",
     "text": [
      "WARNING:tensorflow:From c:\\Users\\phamd\\AppData\\Local\\Programs\\Python\\Python312\\Lib\\site-packages\\tf_keras\\src\\losses.py:2976: The name tf.losses.sparse_softmax_cross_entropy is deprecated. Please use tf.compat.v1.losses.sparse_softmax_cross_entropy instead.\n",
      "\n"
     ]
    },
    {
     "name": "stdout",
     "output_type": "stream",
     "text": [
      "✅ Đã khởi tạo model embedding 'bkai-foundation-models/vietnamese-bi-encoder' thành công\n"
     ]
    }
   ],
   "source": [
    "# Đường dẫn tới vector database\n",
    "vector_db_path = Path(\"../data/gold/db_faiss_phapluat_yte_full_final\")\n",
    "\n",
    "# Khởi tạo model embedding\n",
    "embedding_model_name = \"bkai-foundation-models/vietnamese-bi-encoder\"\n",
    "embeddings = initialize_embedding_model(embedding_model_name)\n",
    "\n",
    "if not embeddings:\n",
    "    raise ValueError(f\"❌ Không thể khởi tạo model embedding '{embedding_model_name}'\")\n",
    "else:\n",
    "    print(f\"✅ Đã khởi tạo model embedding '{embedding_model_name}' thành công\")"
   ]
  },
  {
   "cell_type": "code",
   "execution_count": 6,
   "id": "c2212728",
   "metadata": {},
   "outputs": [
    {
     "name": "stdout",
     "output_type": "stream",
     "text": [
      "✅ Đã tải vector database thành công. Số lượng vectors: 15498\n"
     ]
    }
   ],
   "source": [
    "# Load vector database\n",
    "vector_db = load_vector_db(vector_db_path, embeddings)\n",
    "\n",
    "if not vector_db:\n",
    "    raise ValueError(f\"❌ Không thể tải vector database từ {vector_db_path}\")\n",
    "else:\n",
    "    print(f\"✅ Đã tải vector database thành công. Số lượng vectors: {vector_db.index.ntotal}\")"
   ]
  },
  {
   "cell_type": "markdown",
   "id": "2d20650e",
   "metadata": {},
   "source": [
    "## Khởi tạo Question Generator với Groq API"
   ]
  },
  {
   "cell_type": "code",
   "execution_count": 7,
   "id": "bc9fb1a6",
   "metadata": {},
   "outputs": [
    {
     "name": "stderr",
     "output_type": "stream",
     "text": [
      "2025-04-21 23:25:11,920 - question_generator - INFO - Đã khởi tạo Groq Client với model 'llama3-70b-8192'\n",
      "INFO:question_generator:Đã khởi tạo Groq Client với model 'llama3-70b-8192'\n",
      "INFO:question_generator:Đã khởi tạo Groq Client với model 'llama3-70b-8192'\n"
     ]
    },
    {
     "name": "stdout",
     "output_type": "stream",
     "text": [
      "✅ Đã khởi tạo thành công Generator với Groq API\n"
     ]
    }
   ],
   "source": [
    "# Khởi tạo generator với model Llama 3 của Groq\n",
    "try:\n",
    "    generator = GroqQuestionGenerator(model_name=\"llama3-70b-8192\")\n",
    "    print(\"✅ Đã khởi tạo thành công Generator với Groq API\")\n",
    "except Exception as e:\n",
    "    print(f\"❌ Lỗi khi khởi tạo Generator: {e}\")"
   ]
  },
  {
   "cell_type": "markdown",
   "id": "0ea3c572",
   "metadata": {},
   "source": [
    "## Sinh câu hỏi và câu trả lời cho một chủ đề thử nghiệm"
   ]
  },
  {
   "cell_type": "code",
   "execution_count": 8,
   "id": "df4101f4",
   "metadata": {},
   "outputs": [
    {
     "name": "stderr",
     "output_type": "stream",
     "text": [
      "2025-04-21 23:25:11,936 - question_generator - INFO - Bắt đầu sinh câu hỏi cho chủ đề: 'Luật Bảo vệ sức khỏe cộng đồng'\n",
      "INFO:question_generator:Bắt đầu sinh câu hỏi cho chủ đề: 'Luật Bảo vệ sức khỏe cộng đồng'\n",
      "INFO:question_generator:Bắt đầu sinh câu hỏi cho chủ đề: 'Luật Bảo vệ sức khỏe cộng đồng'\n"
     ]
    },
    {
     "name": "stdout",
     "output_type": "stream",
     "text": [
      "🔍 Sinh câu hỏi và câu trả lời cho chủ đề: 'Luật Bảo vệ sức khỏe cộng đồng'...\n"
     ]
    },
    {
     "name": "stderr",
     "output_type": "stream",
     "text": [
      "2025-04-21 23:25:12,141 - question_generator - INFO - Đã trích xuất 5 chunks cho chủ đề 'Luật Bảo vệ sức khỏe cộng đồng'\n",
      "INFO:question_generator:Đã trích xuất 5 chunks cho chủ đề 'Luật Bảo vệ sức khỏe cộng đồng'\n",
      "INFO:question_generator:Đã trích xuất 5 chunks cho chủ đề 'Luật Bảo vệ sức khỏe cộng đồng'\n",
      "2025-04-21 23:25:13,451 - question_generator - INFO - Thời gian sinh cặp câu hỏi-trả lời cấp độ remember: 1.31 giây\n",
      "INFO:question_generator:Thời gian sinh cặp câu hỏi-trả lời cấp độ remember: 1.31 giây\n",
      "2025-04-21 23:25:13,455 - question_generator - INFO - Đã sinh 2 cặp câu hỏi-trả lời cấp độ remember cho chủ đề 'Luật Bảo vệ sức khỏe cộng đồng'\n",
      "INFO:question_generator:Đã sinh 2 cặp câu hỏi-trả lời cấp độ remember cho chủ đề 'Luật Bảo vệ sức khỏe cộng đồng'\n",
      "2025-04-21 23:25:13,451 - question_generator - INFO - Thời gian sinh cặp câu hỏi-trả lời cấp độ remember: 1.31 giây\n",
      "INFO:question_generator:Thời gian sinh cặp câu hỏi-trả lời cấp độ remember: 1.31 giây\n",
      "2025-04-21 23:25:13,455 - question_generator - INFO - Đã sinh 2 cặp câu hỏi-trả lời cấp độ remember cho chủ đề 'Luật Bảo vệ sức khỏe cộng đồng'\n",
      "INFO:question_generator:Đã sinh 2 cặp câu hỏi-trả lời cấp độ remember cho chủ đề 'Luật Bảo vệ sức khỏe cộng đồng'\n",
      "2025-04-21 23:25:15,374 - question_generator - INFO - Thời gian sinh cặp câu hỏi-trả lời cấp độ understand: 1.92 giây\n",
      "INFO:question_generator:Thời gian sinh cặp câu hỏi-trả lời cấp độ understand: 1.92 giây\n",
      "2025-04-21 23:25:15,375 - question_generator - INFO - Đã sinh 2 cặp câu hỏi-trả lời cấp độ understand cho chủ đề 'Luật Bảo vệ sức khỏe cộng đồng'\n",
      "INFO:question_generator:Đã sinh 2 cặp câu hỏi-trả lời cấp độ understand cho chủ đề 'Luật Bảo vệ sức khỏe cộng đồng'\n",
      "2025-04-21 23:25:15,374 - question_generator - INFO - Thời gian sinh cặp câu hỏi-trả lời cấp độ understand: 1.92 giây\n",
      "INFO:question_generator:Thời gian sinh cặp câu hỏi-trả lời cấp độ understand: 1.92 giây\n",
      "2025-04-21 23:25:15,375 - question_generator - INFO - Đã sinh 2 cặp câu hỏi-trả lời cấp độ understand cho chủ đề 'Luật Bảo vệ sức khỏe cộng đồng'\n",
      "INFO:question_generator:Đã sinh 2 cặp câu hỏi-trả lời cấp độ understand cho chủ đề 'Luật Bảo vệ sức khỏe cộng đồng'\n",
      "2025-04-21 23:25:17,677 - question_generator - INFO - Thời gian sinh cặp câu hỏi-trả lời cấp độ apply: 2.30 giây\n",
      "INFO:question_generator:Thời gian sinh cặp câu hỏi-trả lời cấp độ apply: 2.30 giây\n",
      "2025-04-21 23:25:17,678 - question_generator - INFO - Đã sinh 2 cặp câu hỏi-trả lời cấp độ apply cho chủ đề 'Luật Bảo vệ sức khỏe cộng đồng'\n",
      "INFO:question_generator:Đã sinh 2 cặp câu hỏi-trả lời cấp độ apply cho chủ đề 'Luật Bảo vệ sức khỏe cộng đồng'\n",
      "2025-04-21 23:25:17,677 - question_generator - INFO - Thời gian sinh cặp câu hỏi-trả lời cấp độ apply: 2.30 giây\n",
      "INFO:question_generator:Thời gian sinh cặp câu hỏi-trả lời cấp độ apply: 2.30 giây\n",
      "2025-04-21 23:25:17,678 - question_generator - INFO - Đã sinh 2 cặp câu hỏi-trả lời cấp độ apply cho chủ đề 'Luật Bảo vệ sức khỏe cộng đồng'\n",
      "INFO:question_generator:Đã sinh 2 cặp câu hỏi-trả lời cấp độ apply cho chủ đề 'Luật Bảo vệ sức khỏe cộng đồng'\n"
     ]
    }
   ],
   "source": [
    "# Chọn một chủ đề để thử nghiệm\n",
    "test_topic = topics[0]  # Chủ đề đầu tiên trong danh sách\n",
    "\n",
    "print(f\"🔍 Sinh câu hỏi và câu trả lời cho chủ đề: '{test_topic}'...\")\n",
    "\n",
    "# Sinh câu hỏi và câu trả lời\n",
    "questions_by_level = generator.generate_questions_for_topic(\n",
    "    topic=test_topic,\n",
    "    vector_db=vector_db,\n",
    "    num_questions_per_level=2,  # 2 câu hỏi mỗi cấp độ\n",
    "    chunks_per_topic=5,         # Sử dụng 5 chunks\n",
    "    temperature=0.7             # Độ sáng tạo\n",
    ")"
   ]
  },
  {
   "cell_type": "code",
   "execution_count": 9,
   "id": "f606c431",
   "metadata": {},
   "outputs": [
    {
     "name": "stdout",
     "output_type": "stream",
     "text": [
      "\n",
      "📝 Kết quả sinh câu hỏi và câu trả lời cho 'Luật Bảo vệ sức khỏe cộng đồng':\n",
      "\n",
      "\n",
      "🧠 Remember (Nhớ):\n",
      "\n",
      "1. Câu hỏi: Theo Điều 15, cơ sở kinh doanh thực phẩm chức năng phải đáp ứng những điều kiện nào về cơ sở vật chất, trang thiết bị, dụng cụ và người trực tiếp kinh doanh?\n",
      "   Trả lời: Theo quy định tại các điều 4, 5 và 6 Thông tư số 16/2012/TT-BYT ngày 22 tháng 10 năm 2012 của Bộ trưởng Bộ Y tế.\n",
      "\n",
      "2. Câu hỏi: Theo Điều 3, nội dung chăm sóc sức khỏe người cao tuổi tại cộng đồng bao gồm những hoạt động nào?\n",
      "   Trả lời: Tuyên truyền phổ biến kiến thức về rèn luyện thân thể, tăng cường sức khỏe và phòng bệnh; hướng dẫn người cao tuổi các kỹ năng phòng bệnh, chữa bệnh và tự chăm sóc sức khỏe; tổ chức khám sức khỏe để lập hồ sơ theo dõi sức khỏe cho người cao tuổi; khám sức khỏe định kỳ người cao tuổi được thực hiện ít nhất một lần một năm; khám bệnh, chữa bệnh cho người cao tuổi tại trạm y tế xã, phường, thị trấn và tại nơi cư trú của người cao tuổi.\n",
      "\n",
      "\n",
      "🤔 Understand (Hiểu):\n",
      "\n",
      "1. Câu hỏi: Giải thích nội dung chăm sóc sức khỏe người cao tuổi tại cộng đồng theo quy định của Luật Bảo vệ sức khỏe cộng đồng?\n",
      "   Trả lời: Nội dung chăm sóc sức khỏe người cao tuổi tại cộng đồng bao gồm tuyên truyền phổ biến kiến thức về rèn luyện thân thể, tăng cường sức khỏe và phòng bệnh, hướng dẫn người cao tuổi các kỹ năng phòng bệnh, chữa bệnh và tự chăm sóc sức khỏe, tổ chức khám sức khỏe để lập hồ sơ theo dõi sức khỏe cho người cao tuổi, khám sức khỏe định kỳ người cao tuổi được thực hiện ít nhất một lần một năm và khám bệnh, chữa bệnh cho người cao tuổi tại trạm y tế xã, phường, thị trấn và tại nơi cư trú của người cao tuổi.\n",
      "\n",
      "2. Câu hỏi: Giải thích điều kiện đối với kinh doanh, bảo quản, vận chuyển thực phẩm chức năng theo quy định của Luật Bảo vệ sức khỏe cộng đồng?\n",
      "   Trả lời: Điều kiện đối với kinh doanh, bảo quản, vận chuyển thực phẩm chức năng bao gồm cơ sở vật chất, trang thiết bị, dụng cụ và người trực tiếp kinh doanh phải thực hiện theo quy định tại các điều 4, 5 và 6 Thông tư số 16/2012/TT-BYT ngày 22 tháng 10 năm 2012 của Bộ trưởng Bộ Y tế, và thực phẩm bảo vệ sức khỏe phải được bày bán riêng biệt với khu vực bày bán các loại thực phẩm khác, nhà thuốc phải có khu bày bán riêng cho sản phẩm thực phẩm chức năng.\n",
      "\n",
      "\n",
      "🛠️ Apply (Áp dụng):\n",
      "\n",
      "1. Câu hỏi: Một cơ sở kinh doanh thực phẩm chức năng muốn bày bán sản phẩm của mình tại nhà thuốc. Anh/chị hãy nêu các điều kiện cần thiết để cơ sở kinh doanh này được phép bày bán sản phẩm tại nhà thuốc?\n",
      "   Trả lời: Để được phép bày bán sản phẩm tại nhà thuốc, cơ sở kinh doanh thực phẩm chức năng phải đáp ứng các điều kiện sau: cơ sở vật chất, trang thiết bị, dụng cụ và người trực tiếp kinh doanh phải thực hiện theo quy định tại các điều 4, 5 và 6 Thông tư số 16/2012/TT-BYT ngày 22 tháng 10 năm 2012 của Bộ trưởng Bộ Y tế; và sản phẩm thực phẩm chức năng phải được bày bán riêng biệt với khu vực bày bán các loại thực phẩm khác, nhà thuốc phải có khu bày bán riêng cho sản phẩm thực phẩm chức năng.\n",
      "\n",
      "2. Câu hỏi: Một địa phương muốn tổ chức khám sức khỏe cho người cao tuổi tại cộng đồng. Anh/chị hãy nêu các bước cần thiết để tổ chức khám sức khỏe này?\n",
      "   Trả lời: Để tổ chức khám sức khỏe cho người cao tuổi tại cộng đồng, địa phương cần thực hiện các bước sau: tuyên truyền phổ biến kiến thức về rèn luyện thân thể, tăng cường sức khỏe và phòng bệnh; hướng dẫn người cao tuổi các kỹ năng phòng bệnh, chữa bệnh và tự chăm sóc sức khỏe; tổ chức khám sức khỏe để lập hồ sơ theo dõi sức khỏe cho người cao tuổi; khuyến khích tổ chức mạng lưới bác sĩ gia đình và dịch vụ chăm sóc sức khỏe tại nhà cho người cao tuổi; và khám sức khỏe định kỳ người cao tuổi được thực hiện ít nhất một lần một năm.\n",
      "\n"
     ]
    }
   ],
   "source": [
    "# Hiển thị kết quả\n",
    "print(f\"\\n📝 Kết quả sinh câu hỏi và câu trả lời cho '{test_topic}':\\n\")\n",
    "\n",
    "bloom_level_names = {\n",
    "    \"remember\": \"🧠 Remember (Nhớ)\",\n",
    "    \"understand\": \"🤔 Understand (Hiểu)\", \n",
    "    \"apply\": \"🛠️ Apply (Áp dụng)\"\n",
    "}\n",
    "\n",
    "for level, qa_pairs in questions_by_level.items():\n",
    "    print(f\"\\n{bloom_level_names[level]}:\\n\")\n",
    "    \n",
    "    for i, qa_pair in enumerate(qa_pairs, 1):\n",
    "        print(f\"{i}. Câu hỏi: {qa_pair['question']}\")\n",
    "        print(f\"   Trả lời: {qa_pair['answer']}\\n\")"
   ]
  },
  {
   "cell_type": "markdown",
   "id": "590e8631",
   "metadata": {},
   "source": [
    "## Sinh câu hỏi và câu trả lời cho tất cả các chủ đề"
   ]
  },
  {
   "cell_type": "code",
   "execution_count": 10,
   "id": "90bdf8f9",
   "metadata": {},
   "outputs": [
    {
     "name": "stdout",
     "output_type": "stream",
     "text": [
      "🚀 Bắt đầu sinh câu hỏi và câu trả lời cho 5 chủ đề...\n",
      "\n"
     ]
    }
   ],
   "source": [
    "# Thay đổi thông số nếu muốn\n",
    "num_questions_per_level = 2\n",
    "chunks_per_topic = 5\n",
    "groq_model = \"llama3-70b-8192\"  # Hoặc \"llama3-8b-8192\" nếu muốn tiết kiệm tokens\n",
    "\n",
    "print(f\"🚀 Bắt đầu sinh câu hỏi và câu trả lời cho {len(topics)} chủ đề...\\n\")"
   ]
  },
  {
   "cell_type": "code",
   "execution_count": 11,
   "id": "a7428cfb",
   "metadata": {},
   "outputs": [
    {
     "name": "stderr",
     "output_type": "stream",
     "text": [
      "2025-04-21 23:25:17,719 - question_generator - INFO - Bắt đầu quá trình sinh câu hỏi từ các chủ đề\n",
      "INFO:question_generator:Bắt đầu quá trình sinh câu hỏi từ các chủ đề\n",
      "2025-04-21 23:25:17,722 - question_generator - INFO - Đã đọc 5 chủ đề từ file ..\\data\\sample_topics.txt\n",
      "INFO:question_generator:Đã đọc 5 chủ đề từ file ..\\data\\sample_topics.txt\n",
      "INFO:question_generator:Bắt đầu quá trình sinh câu hỏi từ các chủ đề\n",
      "2025-04-21 23:25:17,722 - question_generator - INFO - Đã đọc 5 chủ đề từ file ..\\data\\sample_topics.txt\n",
      "INFO:question_generator:Đã đọc 5 chủ đề từ file ..\\data\\sample_topics.txt\n",
      "2025-04-21 23:25:21,635 - question_generator - INFO - Đã tải vector database thành công. Số lượng vectors: 15498\n",
      "INFO:question_generator:Đã tải vector database thành công. Số lượng vectors: 15498\n",
      "2025-04-21 23:25:21,635 - question_generator - INFO - Đã tải vector database thành công. Số lượng vectors: 15498\n",
      "INFO:question_generator:Đã tải vector database thành công. Số lượng vectors: 15498\n",
      "2025-04-21 23:25:22,037 - question_generator - INFO - Đã khởi tạo Groq Client với model 'llama3-70b-8192'\n",
      "INFO:question_generator:Đã khởi tạo Groq Client với model 'llama3-70b-8192'\n",
      "2025-04-21 23:25:22,039 - question_generator - INFO - Xử lý chủ đề 1/5: 'Luật Bảo vệ sức khỏe cộng đồng'\n",
      "INFO:question_generator:Xử lý chủ đề 1/5: 'Luật Bảo vệ sức khỏe cộng đồng'\n",
      "2025-04-21 23:25:22,040 - question_generator - INFO - Bắt đầu sinh câu hỏi cho chủ đề: 'Luật Bảo vệ sức khỏe cộng đồng'\n",
      "INFO:question_generator:Bắt đầu sinh câu hỏi cho chủ đề: 'Luật Bảo vệ sức khỏe cộng đồng'\n",
      "2025-04-21 23:25:22,037 - question_generator - INFO - Đã khởi tạo Groq Client với model 'llama3-70b-8192'\n",
      "INFO:question_generator:Đã khởi tạo Groq Client với model 'llama3-70b-8192'\n",
      "2025-04-21 23:25:22,039 - question_generator - INFO - Xử lý chủ đề 1/5: 'Luật Bảo vệ sức khỏe cộng đồng'\n",
      "INFO:question_generator:Xử lý chủ đề 1/5: 'Luật Bảo vệ sức khỏe cộng đồng'\n",
      "2025-04-21 23:25:22,040 - question_generator - INFO - Bắt đầu sinh câu hỏi cho chủ đề: 'Luật Bảo vệ sức khỏe cộng đồng'\n",
      "INFO:question_generator:Bắt đầu sinh câu hỏi cho chủ đề: 'Luật Bảo vệ sức khỏe cộng đồng'\n",
      "2025-04-21 23:25:22,148 - question_generator - INFO - Đã trích xuất 5 chunks cho chủ đề 'Luật Bảo vệ sức khỏe cộng đồng'\n",
      "INFO:question_generator:Đã trích xuất 5 chunks cho chủ đề 'Luật Bảo vệ sức khỏe cộng đồng'\n",
      "2025-04-21 23:25:22,148 - question_generator - INFO - Đã trích xuất 5 chunks cho chủ đề 'Luật Bảo vệ sức khỏe cộng đồng'\n",
      "INFO:question_generator:Đã trích xuất 5 chunks cho chủ đề 'Luật Bảo vệ sức khỏe cộng đồng'\n",
      "2025-04-21 23:25:24,863 - question_generator - INFO - Thời gian sinh cặp câu hỏi-trả lời cấp độ remember: 2.71 giây\n",
      "INFO:question_generator:Thời gian sinh cặp câu hỏi-trả lời cấp độ remember: 2.71 giây\n",
      "2025-04-21 23:25:24,864 - question_generator - INFO - Đã sinh 2 cặp câu hỏi-trả lời cấp độ remember cho chủ đề 'Luật Bảo vệ sức khỏe cộng đồng'\n",
      "INFO:question_generator:Đã sinh 2 cặp câu hỏi-trả lời cấp độ remember cho chủ đề 'Luật Bảo vệ sức khỏe cộng đồng'\n",
      "2025-04-21 23:25:24,863 - question_generator - INFO - Thời gian sinh cặp câu hỏi-trả lời cấp độ remember: 2.71 giây\n",
      "INFO:question_generator:Thời gian sinh cặp câu hỏi-trả lời cấp độ remember: 2.71 giây\n",
      "2025-04-21 23:25:24,864 - question_generator - INFO - Đã sinh 2 cặp câu hỏi-trả lời cấp độ remember cho chủ đề 'Luật Bảo vệ sức khỏe cộng đồng'\n",
      "INFO:question_generator:Đã sinh 2 cặp câu hỏi-trả lời cấp độ remember cho chủ đề 'Luật Bảo vệ sức khỏe cộng đồng'\n",
      "2025-04-21 23:25:34,283 - question_generator - INFO - Thời gian sinh cặp câu hỏi-trả lời cấp độ understand: 9.42 giây\n",
      "INFO:question_generator:Thời gian sinh cặp câu hỏi-trả lời cấp độ understand: 9.42 giây\n",
      "2025-04-21 23:25:34,284 - question_generator - INFO - Đã sinh 2 cặp câu hỏi-trả lời cấp độ understand cho chủ đề 'Luật Bảo vệ sức khỏe cộng đồng'\n",
      "INFO:question_generator:Đã sinh 2 cặp câu hỏi-trả lời cấp độ understand cho chủ đề 'Luật Bảo vệ sức khỏe cộng đồng'\n",
      "2025-04-21 23:25:34,283 - question_generator - INFO - Thời gian sinh cặp câu hỏi-trả lời cấp độ understand: 9.42 giây\n",
      "INFO:question_generator:Thời gian sinh cặp câu hỏi-trả lời cấp độ understand: 9.42 giây\n",
      "2025-04-21 23:25:34,284 - question_generator - INFO - Đã sinh 2 cặp câu hỏi-trả lời cấp độ understand cho chủ đề 'Luật Bảo vệ sức khỏe cộng đồng'\n",
      "INFO:question_generator:Đã sinh 2 cặp câu hỏi-trả lời cấp độ understand cho chủ đề 'Luật Bảo vệ sức khỏe cộng đồng'\n",
      "2025-04-21 23:25:53,405 - question_generator - INFO - Thời gian sinh cặp câu hỏi-trả lời cấp độ apply: 19.12 giây\n",
      "INFO:question_generator:Thời gian sinh cặp câu hỏi-trả lời cấp độ apply: 19.12 giây\n",
      "2025-04-21 23:25:53,408 - question_generator - INFO - Đã sinh 2 cặp câu hỏi-trả lời cấp độ apply cho chủ đề 'Luật Bảo vệ sức khỏe cộng đồng'\n",
      "INFO:question_generator:Đã sinh 2 cặp câu hỏi-trả lời cấp độ apply cho chủ đề 'Luật Bảo vệ sức khỏe cộng đồng'\n",
      "2025-04-21 23:25:53,409 - question_generator - INFO - Xử lý chủ đề 2/5: 'Quyền lợi y tế người cao tuổi'\n",
      "INFO:question_generator:Xử lý chủ đề 2/5: 'Quyền lợi y tế người cao tuổi'\n",
      "2025-04-21 23:25:53,412 - question_generator - INFO - Bắt đầu sinh câu hỏi cho chủ đề: 'Quyền lợi y tế người cao tuổi'\n",
      "INFO:question_generator:Bắt đầu sinh câu hỏi cho chủ đề: 'Quyền lợi y tế người cao tuổi'\n",
      "2025-04-21 23:25:53,405 - question_generator - INFO - Thời gian sinh cặp câu hỏi-trả lời cấp độ apply: 19.12 giây\n",
      "INFO:question_generator:Thời gian sinh cặp câu hỏi-trả lời cấp độ apply: 19.12 giây\n",
      "2025-04-21 23:25:53,408 - question_generator - INFO - Đã sinh 2 cặp câu hỏi-trả lời cấp độ apply cho chủ đề 'Luật Bảo vệ sức khỏe cộng đồng'\n",
      "INFO:question_generator:Đã sinh 2 cặp câu hỏi-trả lời cấp độ apply cho chủ đề 'Luật Bảo vệ sức khỏe cộng đồng'\n",
      "2025-04-21 23:25:53,409 - question_generator - INFO - Xử lý chủ đề 2/5: 'Quyền lợi y tế người cao tuổi'\n",
      "INFO:question_generator:Xử lý chủ đề 2/5: 'Quyền lợi y tế người cao tuổi'\n",
      "2025-04-21 23:25:53,412 - question_generator - INFO - Bắt đầu sinh câu hỏi cho chủ đề: 'Quyền lợi y tế người cao tuổi'\n",
      "INFO:question_generator:Bắt đầu sinh câu hỏi cho chủ đề: 'Quyền lợi y tế người cao tuổi'\n",
      "2025-04-21 23:25:53,491 - question_generator - INFO - Đã trích xuất 5 chunks cho chủ đề 'Quyền lợi y tế người cao tuổi'\n",
      "INFO:question_generator:Đã trích xuất 5 chunks cho chủ đề 'Quyền lợi y tế người cao tuổi'\n",
      "2025-04-21 23:25:53,491 - question_generator - INFO - Đã trích xuất 5 chunks cho chủ đề 'Quyền lợi y tế người cao tuổi'\n",
      "INFO:question_generator:Đã trích xuất 5 chunks cho chủ đề 'Quyền lợi y tế người cao tuổi'\n",
      "2025-04-21 23:26:08,032 - question_generator - INFO - Thời gian sinh cặp câu hỏi-trả lời cấp độ remember: 14.54 giây\n",
      "INFO:question_generator:Thời gian sinh cặp câu hỏi-trả lời cấp độ remember: 14.54 giây\n",
      "2025-04-21 23:26:08,035 - question_generator - INFO - Đã sinh 2 cặp câu hỏi-trả lời cấp độ remember cho chủ đề 'Quyền lợi y tế người cao tuổi'\n",
      "INFO:question_generator:Đã sinh 2 cặp câu hỏi-trả lời cấp độ remember cho chủ đề 'Quyền lợi y tế người cao tuổi'\n",
      "2025-04-21 23:26:08,032 - question_generator - INFO - Thời gian sinh cặp câu hỏi-trả lời cấp độ remember: 14.54 giây\n",
      "INFO:question_generator:Thời gian sinh cặp câu hỏi-trả lời cấp độ remember: 14.54 giây\n",
      "2025-04-21 23:26:08,035 - question_generator - INFO - Đã sinh 2 cặp câu hỏi-trả lời cấp độ remember cho chủ đề 'Quyền lợi y tế người cao tuổi'\n",
      "INFO:question_generator:Đã sinh 2 cặp câu hỏi-trả lời cấp độ remember cho chủ đề 'Quyền lợi y tế người cao tuổi'\n",
      "2025-04-21 23:26:23,453 - question_generator - INFO - Thời gian sinh cặp câu hỏi-trả lời cấp độ understand: 15.42 giây\n",
      "INFO:question_generator:Thời gian sinh cặp câu hỏi-trả lời cấp độ understand: 15.42 giây\n",
      "2025-04-21 23:26:23,453 - question_generator - INFO - Đã sinh 2 cặp câu hỏi-trả lời cấp độ understand cho chủ đề 'Quyền lợi y tế người cao tuổi'\n",
      "INFO:question_generator:Đã sinh 2 cặp câu hỏi-trả lời cấp độ understand cho chủ đề 'Quyền lợi y tế người cao tuổi'\n",
      "2025-04-21 23:26:23,453 - question_generator - INFO - Thời gian sinh cặp câu hỏi-trả lời cấp độ understand: 15.42 giây\n",
      "INFO:question_generator:Thời gian sinh cặp câu hỏi-trả lời cấp độ understand: 15.42 giây\n",
      "2025-04-21 23:26:23,453 - question_generator - INFO - Đã sinh 2 cặp câu hỏi-trả lời cấp độ understand cho chủ đề 'Quyền lợi y tế người cao tuổi'\n",
      "INFO:question_generator:Đã sinh 2 cặp câu hỏi-trả lời cấp độ understand cho chủ đề 'Quyền lợi y tế người cao tuổi'\n",
      "2025-04-21 23:26:40,004 - question_generator - INFO - Thời gian sinh cặp câu hỏi-trả lời cấp độ apply: 16.55 giây\n",
      "INFO:question_generator:Thời gian sinh cặp câu hỏi-trả lời cấp độ apply: 16.55 giây\n",
      "2025-04-21 23:26:40,006 - question_generator - INFO - Đã sinh 2 cặp câu hỏi-trả lời cấp độ apply cho chủ đề 'Quyền lợi y tế người cao tuổi'\n",
      "INFO:question_generator:Đã sinh 2 cặp câu hỏi-trả lời cấp độ apply cho chủ đề 'Quyền lợi y tế người cao tuổi'\n",
      "2025-04-21 23:26:40,009 - question_generator - INFO - Xử lý chủ đề 3/5: 'Chính sách y tế học đường'\n",
      "INFO:question_generator:Xử lý chủ đề 3/5: 'Chính sách y tế học đường'\n",
      "2025-04-21 23:26:40,011 - question_generator - INFO - Bắt đầu sinh câu hỏi cho chủ đề: 'Chính sách y tế học đường'\n",
      "INFO:question_generator:Bắt đầu sinh câu hỏi cho chủ đề: 'Chính sách y tế học đường'\n",
      "2025-04-21 23:26:40,004 - question_generator - INFO - Thời gian sinh cặp câu hỏi-trả lời cấp độ apply: 16.55 giây\n",
      "INFO:question_generator:Thời gian sinh cặp câu hỏi-trả lời cấp độ apply: 16.55 giây\n",
      "2025-04-21 23:26:40,006 - question_generator - INFO - Đã sinh 2 cặp câu hỏi-trả lời cấp độ apply cho chủ đề 'Quyền lợi y tế người cao tuổi'\n",
      "INFO:question_generator:Đã sinh 2 cặp câu hỏi-trả lời cấp độ apply cho chủ đề 'Quyền lợi y tế người cao tuổi'\n",
      "2025-04-21 23:26:40,009 - question_generator - INFO - Xử lý chủ đề 3/5: 'Chính sách y tế học đường'\n",
      "INFO:question_generator:Xử lý chủ đề 3/5: 'Chính sách y tế học đường'\n",
      "2025-04-21 23:26:40,011 - question_generator - INFO - Bắt đầu sinh câu hỏi cho chủ đề: 'Chính sách y tế học đường'\n",
      "INFO:question_generator:Bắt đầu sinh câu hỏi cho chủ đề: 'Chính sách y tế học đường'\n",
      "2025-04-21 23:26:40,112 - question_generator - INFO - Đã trích xuất 5 chunks cho chủ đề 'Chính sách y tế học đường'\n",
      "INFO:question_generator:Đã trích xuất 5 chunks cho chủ đề 'Chính sách y tế học đường'\n",
      "2025-04-21 23:26:40,112 - question_generator - INFO - Đã trích xuất 5 chunks cho chủ đề 'Chính sách y tế học đường'\n",
      "INFO:question_generator:Đã trích xuất 5 chunks cho chủ đề 'Chính sách y tế học đường'\n",
      "2025-04-21 23:26:56,300 - question_generator - INFO - Thời gian sinh cặp câu hỏi-trả lời cấp độ remember: 16.19 giây\n",
      "INFO:question_generator:Thời gian sinh cặp câu hỏi-trả lời cấp độ remember: 16.19 giây\n",
      "2025-04-21 23:26:56,302 - question_generator - INFO - Đã sinh 2 cặp câu hỏi-trả lời cấp độ remember cho chủ đề 'Chính sách y tế học đường'\n",
      "INFO:question_generator:Đã sinh 2 cặp câu hỏi-trả lời cấp độ remember cho chủ đề 'Chính sách y tế học đường'\n",
      "2025-04-21 23:26:56,300 - question_generator - INFO - Thời gian sinh cặp câu hỏi-trả lời cấp độ remember: 16.19 giây\n",
      "INFO:question_generator:Thời gian sinh cặp câu hỏi-trả lời cấp độ remember: 16.19 giây\n",
      "2025-04-21 23:26:56,302 - question_generator - INFO - Đã sinh 2 cặp câu hỏi-trả lời cấp độ remember cho chủ đề 'Chính sách y tế học đường'\n",
      "INFO:question_generator:Đã sinh 2 cặp câu hỏi-trả lời cấp độ remember cho chủ đề 'Chính sách y tế học đường'\n",
      "2025-04-21 23:27:12,837 - question_generator - INFO - Thời gian sinh cặp câu hỏi-trả lời cấp độ understand: 16.53 giây\n",
      "INFO:question_generator:Thời gian sinh cặp câu hỏi-trả lời cấp độ understand: 16.53 giây\n",
      "2025-04-21 23:27:12,839 - question_generator - INFO - Đã sinh 2 cặp câu hỏi-trả lời cấp độ understand cho chủ đề 'Chính sách y tế học đường'\n",
      "INFO:question_generator:Đã sinh 2 cặp câu hỏi-trả lời cấp độ understand cho chủ đề 'Chính sách y tế học đường'\n",
      "2025-04-21 23:27:12,837 - question_generator - INFO - Thời gian sinh cặp câu hỏi-trả lời cấp độ understand: 16.53 giây\n",
      "INFO:question_generator:Thời gian sinh cặp câu hỏi-trả lời cấp độ understand: 16.53 giây\n",
      "2025-04-21 23:27:12,839 - question_generator - INFO - Đã sinh 2 cặp câu hỏi-trả lời cấp độ understand cho chủ đề 'Chính sách y tế học đường'\n",
      "INFO:question_generator:Đã sinh 2 cặp câu hỏi-trả lời cấp độ understand cho chủ đề 'Chính sách y tế học đường'\n",
      "2025-04-21 23:27:30,561 - question_generator - INFO - Thời gian sinh cặp câu hỏi-trả lời cấp độ apply: 17.72 giây\n",
      "INFO:question_generator:Thời gian sinh cặp câu hỏi-trả lời cấp độ apply: 17.72 giây\n",
      "2025-04-21 23:27:30,565 - question_generator - INFO - Đã sinh 2 cặp câu hỏi-trả lời cấp độ apply cho chủ đề 'Chính sách y tế học đường'\n",
      "INFO:question_generator:Đã sinh 2 cặp câu hỏi-trả lời cấp độ apply cho chủ đề 'Chính sách y tế học đường'\n",
      "2025-04-21 23:27:30,567 - question_generator - INFO - Xử lý chủ đề 4/5: 'Quy định về an toàn thực phẩm'\n",
      "INFO:question_generator:Xử lý chủ đề 4/5: 'Quy định về an toàn thực phẩm'\n",
      "2025-04-21 23:27:30,569 - question_generator - INFO - Bắt đầu sinh câu hỏi cho chủ đề: 'Quy định về an toàn thực phẩm'\n",
      "INFO:question_generator:Bắt đầu sinh câu hỏi cho chủ đề: 'Quy định về an toàn thực phẩm'\n",
      "2025-04-21 23:27:30,561 - question_generator - INFO - Thời gian sinh cặp câu hỏi-trả lời cấp độ apply: 17.72 giây\n",
      "INFO:question_generator:Thời gian sinh cặp câu hỏi-trả lời cấp độ apply: 17.72 giây\n",
      "2025-04-21 23:27:30,565 - question_generator - INFO - Đã sinh 2 cặp câu hỏi-trả lời cấp độ apply cho chủ đề 'Chính sách y tế học đường'\n",
      "INFO:question_generator:Đã sinh 2 cặp câu hỏi-trả lời cấp độ apply cho chủ đề 'Chính sách y tế học đường'\n",
      "2025-04-21 23:27:30,567 - question_generator - INFO - Xử lý chủ đề 4/5: 'Quy định về an toàn thực phẩm'\n",
      "INFO:question_generator:Xử lý chủ đề 4/5: 'Quy định về an toàn thực phẩm'\n",
      "2025-04-21 23:27:30,569 - question_generator - INFO - Bắt đầu sinh câu hỏi cho chủ đề: 'Quy định về an toàn thực phẩm'\n",
      "INFO:question_generator:Bắt đầu sinh câu hỏi cho chủ đề: 'Quy định về an toàn thực phẩm'\n",
      "2025-04-21 23:27:30,653 - question_generator - INFO - Đã trích xuất 5 chunks cho chủ đề 'Quy định về an toàn thực phẩm'\n",
      "INFO:question_generator:Đã trích xuất 5 chunks cho chủ đề 'Quy định về an toàn thực phẩm'\n",
      "2025-04-21 23:27:30,653 - question_generator - INFO - Đã trích xuất 5 chunks cho chủ đề 'Quy định về an toàn thực phẩm'\n",
      "INFO:question_generator:Đã trích xuất 5 chunks cho chủ đề 'Quy định về an toàn thực phẩm'\n",
      "2025-04-21 23:27:48,397 - question_generator - INFO - Thời gian sinh cặp câu hỏi-trả lời cấp độ remember: 17.74 giây\n",
      "INFO:question_generator:Thời gian sinh cặp câu hỏi-trả lời cấp độ remember: 17.74 giây\n",
      "2025-04-21 23:27:48,399 - question_generator - INFO - Đã sinh 2 cặp câu hỏi-trả lời cấp độ remember cho chủ đề 'Quy định về an toàn thực phẩm'\n",
      "INFO:question_generator:Đã sinh 2 cặp câu hỏi-trả lời cấp độ remember cho chủ đề 'Quy định về an toàn thực phẩm'\n",
      "2025-04-21 23:27:48,397 - question_generator - INFO - Thời gian sinh cặp câu hỏi-trả lời cấp độ remember: 17.74 giây\n",
      "INFO:question_generator:Thời gian sinh cặp câu hỏi-trả lời cấp độ remember: 17.74 giây\n",
      "2025-04-21 23:27:48,399 - question_generator - INFO - Đã sinh 2 cặp câu hỏi-trả lời cấp độ remember cho chủ đề 'Quy định về an toàn thực phẩm'\n",
      "INFO:question_generator:Đã sinh 2 cặp câu hỏi-trả lời cấp độ remember cho chủ đề 'Quy định về an toàn thực phẩm'\n",
      "2025-04-21 23:28:03,770 - question_generator - INFO - Thời gian sinh cặp câu hỏi-trả lời cấp độ understand: 15.37 giây\n",
      "INFO:question_generator:Thời gian sinh cặp câu hỏi-trả lời cấp độ understand: 15.37 giây\n",
      "2025-04-21 23:28:03,771 - question_generator - INFO - Đã sinh 2 cặp câu hỏi-trả lời cấp độ understand cho chủ đề 'Quy định về an toàn thực phẩm'\n",
      "INFO:question_generator:Đã sinh 2 cặp câu hỏi-trả lời cấp độ understand cho chủ đề 'Quy định về an toàn thực phẩm'\n",
      "2025-04-21 23:28:03,770 - question_generator - INFO - Thời gian sinh cặp câu hỏi-trả lời cấp độ understand: 15.37 giây\n",
      "INFO:question_generator:Thời gian sinh cặp câu hỏi-trả lời cấp độ understand: 15.37 giây\n",
      "2025-04-21 23:28:03,771 - question_generator - INFO - Đã sinh 2 cặp câu hỏi-trả lời cấp độ understand cho chủ đề 'Quy định về an toàn thực phẩm'\n",
      "INFO:question_generator:Đã sinh 2 cặp câu hỏi-trả lời cấp độ understand cho chủ đề 'Quy định về an toàn thực phẩm'\n",
      "2025-04-21 23:28:20,575 - question_generator - INFO - Thời gian sinh cặp câu hỏi-trả lời cấp độ apply: 16.80 giây\n",
      "INFO:question_generator:Thời gian sinh cặp câu hỏi-trả lời cấp độ apply: 16.80 giây\n",
      "2025-04-21 23:28:20,577 - question_generator - INFO - Đã sinh 2 cặp câu hỏi-trả lời cấp độ apply cho chủ đề 'Quy định về an toàn thực phẩm'\n",
      "INFO:question_generator:Đã sinh 2 cặp câu hỏi-trả lời cấp độ apply cho chủ đề 'Quy định về an toàn thực phẩm'\n",
      "2025-04-21 23:28:20,578 - question_generator - INFO - Xử lý chủ đề 5/5: 'Chính sách bảo hiểm y tế'\n",
      "INFO:question_generator:Xử lý chủ đề 5/5: 'Chính sách bảo hiểm y tế'\n",
      "2025-04-21 23:28:20,579 - question_generator - INFO - Bắt đầu sinh câu hỏi cho chủ đề: 'Chính sách bảo hiểm y tế'\n",
      "INFO:question_generator:Bắt đầu sinh câu hỏi cho chủ đề: 'Chính sách bảo hiểm y tế'\n",
      "2025-04-21 23:28:20,575 - question_generator - INFO - Thời gian sinh cặp câu hỏi-trả lời cấp độ apply: 16.80 giây\n",
      "INFO:question_generator:Thời gian sinh cặp câu hỏi-trả lời cấp độ apply: 16.80 giây\n",
      "2025-04-21 23:28:20,577 - question_generator - INFO - Đã sinh 2 cặp câu hỏi-trả lời cấp độ apply cho chủ đề 'Quy định về an toàn thực phẩm'\n",
      "INFO:question_generator:Đã sinh 2 cặp câu hỏi-trả lời cấp độ apply cho chủ đề 'Quy định về an toàn thực phẩm'\n",
      "2025-04-21 23:28:20,578 - question_generator - INFO - Xử lý chủ đề 5/5: 'Chính sách bảo hiểm y tế'\n",
      "INFO:question_generator:Xử lý chủ đề 5/5: 'Chính sách bảo hiểm y tế'\n",
      "2025-04-21 23:28:20,579 - question_generator - INFO - Bắt đầu sinh câu hỏi cho chủ đề: 'Chính sách bảo hiểm y tế'\n",
      "INFO:question_generator:Bắt đầu sinh câu hỏi cho chủ đề: 'Chính sách bảo hiểm y tế'\n",
      "2025-04-21 23:28:20,682 - question_generator - INFO - Đã trích xuất 5 chunks cho chủ đề 'Chính sách bảo hiểm y tế'\n",
      "INFO:question_generator:Đã trích xuất 5 chunks cho chủ đề 'Chính sách bảo hiểm y tế'\n",
      "2025-04-21 23:28:20,682 - question_generator - INFO - Đã trích xuất 5 chunks cho chủ đề 'Chính sách bảo hiểm y tế'\n",
      "INFO:question_generator:Đã trích xuất 5 chunks cho chủ đề 'Chính sách bảo hiểm y tế'\n",
      "2025-04-21 23:28:39,213 - question_generator - INFO - Thời gian sinh cặp câu hỏi-trả lời cấp độ remember: 18.53 giây\n",
      "INFO:question_generator:Thời gian sinh cặp câu hỏi-trả lời cấp độ remember: 18.53 giây\n",
      "2025-04-21 23:28:39,215 - question_generator - INFO - Đã sinh 2 cặp câu hỏi-trả lời cấp độ remember cho chủ đề 'Chính sách bảo hiểm y tế'\n",
      "INFO:question_generator:Đã sinh 2 cặp câu hỏi-trả lời cấp độ remember cho chủ đề 'Chính sách bảo hiểm y tế'\n",
      "2025-04-21 23:28:39,213 - question_generator - INFO - Thời gian sinh cặp câu hỏi-trả lời cấp độ remember: 18.53 giây\n",
      "INFO:question_generator:Thời gian sinh cặp câu hỏi-trả lời cấp độ remember: 18.53 giây\n",
      "2025-04-21 23:28:39,215 - question_generator - INFO - Đã sinh 2 cặp câu hỏi-trả lời cấp độ remember cho chủ đề 'Chính sách bảo hiểm y tế'\n",
      "INFO:question_generator:Đã sinh 2 cặp câu hỏi-trả lời cấp độ remember cho chủ đề 'Chính sách bảo hiểm y tế'\n",
      "2025-04-21 23:28:56,751 - question_generator - INFO - Thời gian sinh cặp câu hỏi-trả lời cấp độ understand: 17.53 giây\n",
      "INFO:question_generator:Thời gian sinh cặp câu hỏi-trả lời cấp độ understand: 17.53 giây\n",
      "2025-04-21 23:28:56,753 - question_generator - INFO - Đã sinh 2 cặp câu hỏi-trả lời cấp độ understand cho chủ đề 'Chính sách bảo hiểm y tế'\n",
      "INFO:question_generator:Đã sinh 2 cặp câu hỏi-trả lời cấp độ understand cho chủ đề 'Chính sách bảo hiểm y tế'\n",
      "2025-04-21 23:28:56,751 - question_generator - INFO - Thời gian sinh cặp câu hỏi-trả lời cấp độ understand: 17.53 giây\n",
      "INFO:question_generator:Thời gian sinh cặp câu hỏi-trả lời cấp độ understand: 17.53 giây\n",
      "2025-04-21 23:28:56,753 - question_generator - INFO - Đã sinh 2 cặp câu hỏi-trả lời cấp độ understand cho chủ đề 'Chính sách bảo hiểm y tế'\n",
      "INFO:question_generator:Đã sinh 2 cặp câu hỏi-trả lời cấp độ understand cho chủ đề 'Chính sách bảo hiểm y tế'\n",
      "2025-04-21 23:29:16,414 - question_generator - INFO - Thời gian sinh cặp câu hỏi-trả lời cấp độ apply: 19.66 giây\n",
      "INFO:question_generator:Thời gian sinh cặp câu hỏi-trả lời cấp độ apply: 19.66 giây\n",
      "2025-04-21 23:29:16,415 - question_generator - INFO - Đã sinh 2 cặp câu hỏi-trả lời cấp độ apply cho chủ đề 'Chính sách bảo hiểm y tế'\n",
      "INFO:question_generator:Đã sinh 2 cặp câu hỏi-trả lời cấp độ apply cho chủ đề 'Chính sách bảo hiểm y tế'\n",
      "2025-04-21 23:29:16,420 - question_generator - INFO - Đã lưu kết quả sinh câu hỏi và câu trả lời vào file ..\\outputs\\question_generation\\questions_with_answers_groq_20250421_232916.json\n",
      "INFO:question_generator:Đã lưu kết quả sinh câu hỏi và câu trả lời vào file ..\\outputs\\question_generation\\questions_with_answers_groq_20250421_232916.json\n",
      "2025-04-21 23:29:16,414 - question_generator - INFO - Thời gian sinh cặp câu hỏi-trả lời cấp độ apply: 19.66 giây\n",
      "INFO:question_generator:Thời gian sinh cặp câu hỏi-trả lời cấp độ apply: 19.66 giây\n",
      "2025-04-21 23:29:16,415 - question_generator - INFO - Đã sinh 2 cặp câu hỏi-trả lời cấp độ apply cho chủ đề 'Chính sách bảo hiểm y tế'\n",
      "INFO:question_generator:Đã sinh 2 cặp câu hỏi-trả lời cấp độ apply cho chủ đề 'Chính sách bảo hiểm y tế'\n",
      "2025-04-21 23:29:16,420 - question_generator - INFO - Đã lưu kết quả sinh câu hỏi và câu trả lời vào file ..\\outputs\\question_generation\\questions_with_answers_groq_20250421_232916.json\n",
      "INFO:question_generator:Đã lưu kết quả sinh câu hỏi và câu trả lời vào file ..\\outputs\\question_generation\\questions_with_answers_groq_20250421_232916.json\n"
     ]
    }
   ],
   "source": [
    "# Sinh câu hỏi và câu trả lời cho tất cả chủ đề\n",
    "all_questions = generate_questions_from_topics(\n",
    "    topic_file_path=topic_file_path,\n",
    "    vector_db_path=vector_db_path,\n",
    "    output_dir=\"../outputs\",\n",
    "    embedding_model_name=embedding_model_name,\n",
    "    groq_model_name=groq_model,\n",
    "    num_questions_per_level=num_questions_per_level,\n",
    "    chunks_per_topic=chunks_per_topic\n",
    ")"
   ]
  },
  {
   "cell_type": "markdown",
   "id": "880de9f0",
   "metadata": {},
   "source": [
    "## Lưu kết quả thành JSON với metadata đầy đủ"
   ]
  },
  {
   "cell_type": "code",
   "execution_count": 12,
   "id": "456ac1ef",
   "metadata": {},
   "outputs": [
    {
     "name": "stdout",
     "output_type": "stream",
     "text": [
      "✅ Đã lưu kết quả vào file: ..\\outputs\\question_generation\\questions_with_answers_groq_20250421_232916_jupyter.json\n"
     ]
    }
   ],
   "source": [
    "# Thư mục lưu kết quả\n",
    "output_path = Path(\"../outputs/question_generation\")\n",
    "output_path.mkdir(parents=True, exist_ok=True)\n",
    "\n",
    "# Tạo tên file với timestamp\n",
    "timestamp = datetime.now().strftime(\"%Y%m%d_%H%M%S\")\n",
    "output_file = output_path / f\"questions_with_answers_groq_{timestamp}_jupyter.json\"\n",
    "\n",
    "# Thêm metadata vào mỗi câu hỏi\n",
    "questions_with_metadata = []\n",
    "for question in all_questions:\n",
    "    questions_with_metadata.append({\n",
    "        \"topic\": question[\"topic\"],\n",
    "        \"level\": question[\"level\"],\n",
    "        \"question\": question[\"question\"],\n",
    "        \"answer\": question[\"answer\"],\n",
    "        \"metadata\": {\n",
    "            \"generated_at\": datetime.now().isoformat(),\n",
    "            \"model\": groq_model,\n",
    "            \"question_length\": len(question[\"question\"]),\n",
    "            \"answer_length\": len(question[\"answer\"]),\n",
    "            \"question_words\": len(question[\"question\"].split()),\n",
    "            \"answer_words\": len(question[\"answer\"].split())\n",
    "        }\n",
    "    })\n",
    "\n",
    "# Lưu kết quả với định dạng JSON\n",
    "with open(output_file, \"w\", encoding=\"utf-8\") as f:\n",
    "    json.dump(questions_with_metadata, f, ensure_ascii=False, indent=2)\n",
    "\n",
    "print(f\"✅ Đã lưu kết quả vào file: {output_file}\")"
   ]
  },
  {
   "cell_type": "code",
   "execution_count": 13,
   "id": "f82678ff",
   "metadata": {},
   "outputs": [
    {
     "name": "stdout",
     "output_type": "stream",
     "text": [
      "📋 Mẫu câu hỏi với metadata đầy đủ:\n",
      "\n",
      "{'answer': ' Nhà thuốc phải có khu bày bán riêng cho sản phẩm thực phẩm chức năng.',\n",
      " 'level': 'remember',\n",
      " 'metadata': {'answer_length': 70,\n",
      "              'answer_words': 15,\n",
      "              'generated_at': '2025-04-21T23:29:16.451081',\n",
      "              'model': 'llama3-70b-8192',\n",
      "              'question_length': 114,\n",
      "              'question_words': 25},\n",
      " 'question': 'Theo quy định, thực phẩm chức năng phải được bày bán riêng biệt với khu vực bày bán '\n",
      "             'các loại thực phẩm khác ở đâu?',\n",
      " 'topic': 'Luật Bảo vệ sức khỏe cộng đồng'}\n"
     ]
    }
   ],
   "source": [
    "# Hiển thị một mẫu câu hỏi với metadata đầy đủ\n",
    "import pprint\n",
    "\n",
    "print(\"📋 Mẫu câu hỏi với metadata đầy đủ:\\n\")\n",
    "pprint.pprint(questions_with_metadata[0], width=100)"
   ]
  },
  {
   "cell_type": "markdown",
   "id": "df9ce30c",
   "metadata": {},
   "source": [
    "## Phân tích chất lượng câu hỏi và câu trả lời"
   ]
  },
  {
   "cell_type": "code",
   "execution_count": 14,
   "id": "b0c3cf0c",
   "metadata": {},
   "outputs": [
    {
     "data": {
      "text/html": [
       "<div>\n",
       "<style scoped>\n",
       "    .dataframe tbody tr th:only-of-type {\n",
       "        vertical-align: middle;\n",
       "    }\n",
       "\n",
       "    .dataframe tbody tr th {\n",
       "        vertical-align: top;\n",
       "    }\n",
       "\n",
       "    .dataframe thead tr th {\n",
       "        text-align: left;\n",
       "    }\n",
       "\n",
       "    .dataframe thead tr:last-of-type th {\n",
       "        text-align: right;\n",
       "    }\n",
       "</style>\n",
       "<table border=\"1\" class=\"dataframe\">\n",
       "  <thead>\n",
       "    <tr>\n",
       "      <th></th>\n",
       "      <th colspan=\"3\" halign=\"left\">question_length</th>\n",
       "      <th colspan=\"3\" halign=\"left\">answer_length</th>\n",
       "      <th colspan=\"3\" halign=\"left\">question_words</th>\n",
       "      <th colspan=\"3\" halign=\"left\">answer_words</th>\n",
       "    </tr>\n",
       "    <tr>\n",
       "      <th></th>\n",
       "      <th>mean</th>\n",
       "      <th>min</th>\n",
       "      <th>max</th>\n",
       "      <th>mean</th>\n",
       "      <th>min</th>\n",
       "      <th>max</th>\n",
       "      <th>mean</th>\n",
       "      <th>min</th>\n",
       "      <th>max</th>\n",
       "      <th>mean</th>\n",
       "      <th>min</th>\n",
       "      <th>max</th>\n",
       "    </tr>\n",
       "    <tr>\n",
       "      <th>level</th>\n",
       "      <th></th>\n",
       "      <th></th>\n",
       "      <th></th>\n",
       "      <th></th>\n",
       "      <th></th>\n",
       "      <th></th>\n",
       "      <th></th>\n",
       "      <th></th>\n",
       "      <th></th>\n",
       "      <th></th>\n",
       "      <th></th>\n",
       "      <th></th>\n",
       "    </tr>\n",
       "  </thead>\n",
       "  <tbody>\n",
       "    <tr>\n",
       "      <th>apply</th>\n",
       "      <td>178.1</td>\n",
       "      <td>130</td>\n",
       "      <td>258</td>\n",
       "      <td>338.9</td>\n",
       "      <td>176</td>\n",
       "      <td>466</td>\n",
       "      <td>40.2</td>\n",
       "      <td>29</td>\n",
       "      <td>57</td>\n",
       "      <td>76.6</td>\n",
       "      <td>41</td>\n",
       "      <td>106</td>\n",
       "    </tr>\n",
       "    <tr>\n",
       "      <th>remember</th>\n",
       "      <td>91.7</td>\n",
       "      <td>31</td>\n",
       "      <td>147</td>\n",
       "      <td>128.6</td>\n",
       "      <td>17</td>\n",
       "      <td>294</td>\n",
       "      <td>20.6</td>\n",
       "      <td>7</td>\n",
       "      <td>33</td>\n",
       "      <td>28.5</td>\n",
       "      <td>4</td>\n",
       "      <td>62</td>\n",
       "    </tr>\n",
       "    <tr>\n",
       "      <th>understand</th>\n",
       "      <td>113.1</td>\n",
       "      <td>60</td>\n",
       "      <td>163</td>\n",
       "      <td>358.6</td>\n",
       "      <td>92</td>\n",
       "      <td>676</td>\n",
       "      <td>24.7</td>\n",
       "      <td>12</td>\n",
       "      <td>37</td>\n",
       "      <td>79.3</td>\n",
       "      <td>20</td>\n",
       "      <td>149</td>\n",
       "    </tr>\n",
       "  </tbody>\n",
       "</table>\n",
       "</div>"
      ],
      "text/plain": [
       "           question_length           answer_length           question_words  \\\n",
       "                      mean  min  max          mean  min  max           mean   \n",
       "level                                                                         \n",
       "apply                178.1  130  258         338.9  176  466           40.2   \n",
       "remember              91.7   31  147         128.6   17  294           20.6   \n",
       "understand           113.1   60  163         358.6   92  676           24.7   \n",
       "\n",
       "                   answer_words           \n",
       "           min max         mean min  max  \n",
       "level                                     \n",
       "apply       29  57         76.6  41  106  \n",
       "remember     7  33         28.5   4   62  \n",
       "understand  12  37         79.3  20  149  "
      ]
     },
     "execution_count": 14,
     "metadata": {},
     "output_type": "execute_result"
    }
   ],
   "source": [
    "# Tạo DataFrame từ danh sách câu hỏi\n",
    "df_questions = pd.DataFrame(all_questions)\n",
    "\n",
    "# Thống kê độ dài của câu hỏi và câu trả lời\n",
    "df_questions['question_length'] = df_questions['question'].str.len()\n",
    "df_questions['answer_length'] = df_questions['answer'].str.len()\n",
    "df_questions['question_words'] = df_questions['question'].apply(lambda x: len(x.split()))\n",
    "df_questions['answer_words'] = df_questions['answer'].apply(lambda x: len(x.split()))\n",
    "\n",
    "# Thống kê theo cấp độ Bloom\n",
    "stats_by_level = df_questions.groupby('level')[\n",
    "    ['question_length', 'answer_length', 'question_words', 'answer_words']\n",
    "].agg(['mean', 'min', 'max']).round(1)\n",
    "\n",
    "# Hiển thị kết quả\n",
    "stats_by_level"
   ]
  },
  {
   "cell_type": "code",
   "execution_count": 15,
   "id": "c6cea178",
   "metadata": {},
   "outputs": [
    {
     "data": {
      "image/png": "[encoded data removed]",
      "text/plain": [
       "<Figure size 1200x600 with 2 Axes>"
      ]
     },
     "metadata": {},
     "output_type": "display_data"
    }
   ],
   "source": [
    "# Hiển thị độ dài câu hỏi và câu trả lời theo cấp độ Bloom\n",
    "plt.figure(figsize=(12, 6))\n",
    "\n",
    "plt.subplot(1, 2, 1)\n",
    "sns.boxplot(x=\"level\", y=\"question_words\", data=df_questions)\n",
    "plt.title(\"Độ dài câu hỏi theo cấp độ Bloom\", fontsize=14)\n",
    "plt.xlabel(\"Cấp độ\", fontsize=12)\n",
    "plt.ylabel(\"Số từ\", fontsize=12)\n",
    "\n",
    "plt.subplot(1, 2, 2)\n",
    "sns.boxplot(x=\"level\", y=\"answer_words\", data=df_questions)\n",
    "plt.title(\"Độ dài câu trả lời theo cấp độ Bloom\", fontsize=14)\n",
    "plt.xlabel(\"Cấp độ\", fontsize=12)\n",
    "plt.ylabel(\"Số từ\", fontsize=12)\n",
    "\n",
    "plt.tight_layout()\n",
    "plt.show()"
   ]
  },
  {
   "cell_type": "code",
   "execution_count": 16,
   "id": "231145a5",
   "metadata": {},
   "outputs": [
    {
     "name": "stdout",
     "output_type": "stream",
     "text": [
      "📊 Tổng kết số lượng câu hỏi:\n",
      "- Tổng số câu hỏi: 30\n",
      "- Số chủ đề: 5\n",
      "- Số câu hỏi theo cấp độ:\n",
      "  + 🧠 Remember (Nhớ): 10 câu hỏi\n",
      "  + 🤔 Understand (Hiểu): 10 câu hỏi\n",
      "  + 🛠️ Apply (Áp dụng): 10 câu hỏi\n"
     ]
    }
   ],
   "source": [
    "# Đếm số câu hỏi theo chủ đề và cấp độ\n",
    "print(\"📊 Tổng kết số lượng câu hỏi:\")\n",
    "print(f\"- Tổng số câu hỏi: {len(questions_with_metadata)}\")\n",
    "print(f\"- Số chủ đề: {len(topics)}\")\n",
    "print(\"- Số câu hỏi theo cấp độ:\")\n",
    "for level in [\"remember\", \"understand\", \"apply\"]:\n",
    "    count = len([q for q in questions_with_metadata if q[\"level\"] == level])\n",
    "    print(f\"  + {bloom_level_names[level]}: {count} câu hỏi\")"
   ]
  },
  {
   "cell_type": "markdown",
   "id": "feaef2b4",
   "metadata": {},
   "source": [
    "## Hiển thị chi tiết câu hỏi và câu trả lời của một chủ đề"
   ]
  },
  {
   "cell_type": "code",
   "execution_count": 17,
   "id": "5666b0ed",
   "metadata": {},
   "outputs": [
    {
     "name": "stdout",
     "output_type": "stream",
     "text": [
      "📋 Danh sách câu hỏi và câu trả lời cho chủ đề: 'Quyền lợi y tế người cao tuổi'\n",
      "\n",
      "\n",
      "🧠 Remember (Nhớ):\n",
      "\n",
      "1. Câu hỏi: Theo quy định, người cao tuổi được hưởng quyền lợi y tế sau khi đã được chẩn đoán mắc bệnh thuộc danh mục quy định tại đâu?\n",
      "   Trả lời: Khoản 1 Điều này.\n",
      "\n",
      "2. Câu hỏi: Trạm y tế xã, phường, thị trấn có vai trò gì trong chăm sóc sức khỏe người cao tuổi?\n",
      "   Trả lời: Khám bệnh, chữa bệnh cho người cao tuổi tại trạm y tế xã, phường, thị trấn và tại nơi cư trú của người cao tuổi.\n",
      "\n",
      "\n",
      "🤔 Understand (Hiểu):\n",
      "\n",
      "1. Câu hỏi: Theo quy định của Bộ Y tế, người cao tuổi được hưởng quyền lợi y tế sau khi đã được chẩn đoán mắc bệnh thuộc danh mục quy định tại khoản 1 Điều này như thế nào?\n",
      "   Trả lời: Người cao tuổi được hưởng quyền lợi y tế sau khi đã được một cơ sở khám bệnh, chữa bệnh chẩn đoán xác định mắc bệnh thuộc danh mục quy định tại khoản 1 Điều này. Trường hợp tại cột tình trạng, điều kiện trong danh mục bệnh tại phụ lục ban hành kèm theo Thông tư này có quy định người bệnh được hưởng quyền lợi ngay trong lượt khám bệnh, chữa bệnh có kết quả chẩn đoán xác định mắc bệnh thì người bệnh được hưởng ngay theo quy định đó.\n",
      "\n",
      "2. Câu hỏi: Theo quy định, tần suất thực hiện khám sức khỏe định kỳ cho người cao tuổi là bao nhiêu lần trong một năm?\n",
      "   Trả lời: Theo quy định, tần suất thực hiện khám sức khỏe định kỳ cho người cao tuổi là 01 lần/01 năm.\n",
      "\n",
      "\n",
      "🛠️ Apply (Áp dụng):\n",
      "\n",
      "1. Câu hỏi: Một người cao tuổi đã được chẩn đoán mắc bệnh u ác ở tụy tại bệnh viện A và muốn tiếp tục điều trị tại bệnh viện B. Quyền lợi y tế nào mà người bệnh này sẽ được hưởng?\n",
      "   Trả lời: Người bệnh sẽ được hưởng quyền lợi y tế ngay tại bệnh viện B sau khi đã được chẩn đoán mắc bệnh u ác ở tụy tại bệnh viện A, không cần phải chờ đợi thêm một lượt khám bệnh khác.\n",
      "\n",
      "2. Câu hỏi: Một người cao tuổi sống ở xã X và muốn tham gia chương trình chăm sóc sức khỏe người cao tuổi. Quy trình nào mà người cao tuổi này cần phải thực hiện để được hưởng quyền lợi y tế?\n",
      "   Trả lời: Người cao tuổi này cần phải tham gia khám sức khỏe định kỳ tại trạm y tế xã X và được hướng dẫn bởi trung tâm y tế quận, huyện, y tế xã để được hưởng quyền lợi y tế theo quy định của Bộ Y tế.\n",
      "\n"
     ]
    }
   ],
   "source": [
    "# Hiển thị mẫu câu hỏi và câu trả lời của từng loại cho một chủ đề\n",
    "selected_topic = topics[1]  # Chọn chủ đề thứ hai\n",
    "\n",
    "print(f\"📋 Danh sách câu hỏi và câu trả lời cho chủ đề: '{selected_topic}'\\n\")\n",
    "\n",
    "for level in [\"remember\", \"understand\", \"apply\"]:\n",
    "    print(f\"\\n{bloom_level_names[level]}:\\n\")\n",
    "    \n",
    "    # Lọc câu hỏi theo chủ đề và cấp độ\n",
    "    topic_questions = [q for q in all_questions \n",
    "                      if q[\"topic\"] == selected_topic and q[\"level\"] == level]\n",
    "    \n",
    "    for i, qa_pair in enumerate(topic_questions, 1):\n",
    "        print(f\"{i}. Câu hỏi: {qa_pair['question']}\")\n",
    "        print(f\"   Trả lời: {qa_pair['answer']}\\n\")"
   ]
  },
  {
   "cell_type": "markdown",
   "id": "7ceabc3b",
   "metadata": {},
   "source": [
    "## Kết luận\n",
    "\n",
    "Notebook này đã minh họa cách sử dụng module `question_generator.py` để sinh câu hỏi và câu trả lời từ các chunks trong vector database theo ba thang đo của Bloom (Remember, Understand, Apply) sử dụng Groq API.\n",
    "\n",
    "Chúng ta đã:\n",
    "1. Khởi tạo model embedding và load vector database\n",
    "2. Khởi tạo Question Generator với Groq API\n",
    "3. Sinh câu hỏi và câu trả lời cho từng chủ đề\n",
    "4. Lưu kết quả vào file JSON với metadata\n",
    "5. Phân tích chất lượng câu hỏi và câu trả lời\n",
    "\n",
    "Mỗi câu hỏi được lưu với cấu trúc JSON bao gồm:\n",
    "- `topic`: Chủ đề của câu hỏi\n",
    "- `level`: Cấp độ Bloom (remember, understand, apply)\n",
    "- `question`: Nội dung câu hỏi\n",
    "- `answer`: Nội dung câu trả lời\n",
    "- `metadata`: Các thông tin bổ sung như thời gian tạo, model sử dụng, độ dài câu hỏi và trả lời"
   ]
  }
 ],
 "metadata": {
  "kernelspec": {
   "display_name": "Python 3",
   "language": "python",
   "name": "python3"
  },
  "language_info": {
   "codemirror_mode": {
    "name": "ipython",
    "version": 3
   },
   "file_extension": ".py",
   "mimetype": "text/x-python",
   "name": "python",
   "nbconvert_exporter": "python",
   "pygments_lexer": "ipython3",
   "version": "3.12.6"
  }
 },
 "nbformat": 4,
 "nbformat_minor": 5
}
