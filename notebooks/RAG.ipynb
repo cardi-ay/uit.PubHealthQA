{
 "cells": [
  {
   "cell_type": "markdown",
   "id": "1624be6e",
   "metadata": {},
   "source": [
    "# Hướng dẫn sử dụng hệ thống RAG UIT@PubHealthQA\n",
    "\n",
    "Notebook này hướng dẫn cách sử dụng hệ thống RAG đã được tái cấu trúc. Hệ thống RAG cho phép tìm kiếm và truy xuất thông tin từ các văn bản pháp luật y tế."
   ]
  },
  {
   "cell_type": "markdown",
   "id": "b29c1705",
   "metadata": {},
   "source": [
    "## 1. Cài đặt thư viện cần thiết\n",
    "\n",
    "Đảm bảo bạn đã cài đặt các thư viện cần thiết:"
   ]
  },
  {
   "cell_type": "code",
   "execution_count": 12,
   "id": "d633d0f4",
   "metadata": {},
   "outputs": [],
   "source": [
    "# Cài đặt các thư viện cần thiết (chỉ chạy một lần)\n",
    "# !pip install -U langchain faiss-cpu langchain-huggingface sentence-transformers tqdm pypdf"
   ]
  },
  {
   "cell_type": "markdown",
   "id": "810a4147",
   "metadata": {},
   "source": [
    "## 2. Import các thư viện và module"
   ]
  },
  {
   "cell_type": "code",
   "execution_count": 13,
   "id": "8bf65f64",
   "metadata": {},
   "outputs": [
    {
     "name": "stderr",
     "output_type": "stream",
     "text": [
      "2025-04-21 22:43:38,196 - INFO - Đã thiết lập cấu hình logging.\n",
      "2025-04-21 22:43:38,196 - INFO - File log: ..\\outputs\\logs\\rag_usage_log.txt\n"
     ]
    }
   ],
   "source": [
    "import json\n",
    "import time\n",
    "import logging\n",
    "from pathlib import Path\n",
    "\n",
    "# Import các module từ thư mục src\n",
    "import sys\n",
    "sys.path.append('..')\n",
    "\n",
    "from src.utils.logging_utils import setup_logging\n",
    "from src.embed.faiss_manager import initialize_embedding_model, load_vector_db\n",
    "from src.retriever.faiss_retriever import query_documents\n",
    "\n",
    "# Thiết lập logging\n",
    "log_file_path = Path(\"../outputs/logs/rag_usage_log.txt\")\n",
    "setup_logging(log_file_path=log_file_path, console_output=True)"
   ]
  },
  {
   "cell_type": "markdown",
   "id": "9b2dfdc6",
   "metadata": {},
   "source": [
    "## 3. Cấu hình các tham số"
   ]
  },
  {
   "cell_type": "code",
   "execution_count": 14,
   "id": "5fe70f63",
   "metadata": {},
   "outputs": [
    {
     "name": "stdout",
     "output_type": "stream",
     "text": [
      "Thư mục lưu Index FAISS: ..\\data\\gold\\db_faiss_phapluat_yte_full_final\n",
      "Model Embedding: bkai-foundation-models/vietnamese-bi-encoder\n"
     ]
    }
   ],
   "source": [
    "# Đường dẫn đến vector database\n",
    "PERSIST_DIRECTORY = Path(\"../data/gold/db_faiss_phapluat_yte_full_final\")\n",
    "# Model embedding sử dụng\n",
    "MODEL_NAME = \"bkai-foundation-models/vietnamese-bi-encoder\"\n",
    "\n",
    "print(f\"Thư mục lưu Index FAISS: {PERSIST_DIRECTORY}\")\n",
    "print(f\"Model Embedding: {MODEL_NAME}\")"
   ]
  },
  {
   "cell_type": "markdown",
   "id": "774ad7bf",
   "metadata": {},
   "source": [
    "## 4. Khởi tạo model embedding và tải vector database"
   ]
  },
  {
   "cell_type": "code",
   "execution_count": 15,
   "id": "726581ce",
   "metadata": {},
   "outputs": [
    {
     "name": "stderr",
     "output_type": "stream",
     "text": [
      "2025-04-21 22:43:38,240 - INFO - Load pretrained SentenceTransformer: bkai-foundation-models/vietnamese-bi-encoder\n",
      "2025-04-21 22:43:42,473 - INFO - Model Embedding 'bkai-foundation-models/vietnamese-bi-encoder' đã sẵn sàng.\n",
      "2025-04-21 22:43:42,631 - INFO - Đã tải index FAISS thành công. Số lượng vector hiện tại: 15498\n"
     ]
    },
    {
     "name": "stdout",
     "output_type": "stream",
     "text": [
      "\n",
      "Đã tải vector database thành công. Số lượng vector: 15498\n"
     ]
    }
   ],
   "source": [
    "# Khởi tạo model embedding\n",
    "embeddings = initialize_embedding_model(model_name=MODEL_NAME)\n",
    "if not embeddings:\n",
    "    logging.error(\"Không thể khởi tạo model embedding. Hãy kiểm tra lại model_name hoặc cài đặt thư viện.\")\n",
    "    raise RuntimeError(\"Không thể khởi tạo model embedding.\")\n",
    "\n",
    "# Tải vector database\n",
    "vectordb = load_vector_db(persist_directory=PERSIST_DIRECTORY, embeddings=embeddings)\n",
    "if not vectordb:\n",
    "    logging.error(f\"Không thể tải vector database từ {PERSIST_DIRECTORY}. Kiểm tra lại đường dẫn hoặc chạy chunking.ipynb để tạo vector database.\")\n",
    "    raise RuntimeError(\"Không thể tải vector database.\")\n",
    "\n",
    "print(f\"\\nĐã tải vector database thành công. Số lượng vector: {vectordb.index.ntotal}\")"
   ]
  },
  {
   "cell_type": "markdown",
   "id": "cfb0c5f6",
   "metadata": {},
   "source": [
    "## 5. Thực hiện truy vấn cơ bản"
   ]
  },
  {
   "cell_type": "code",
   "execution_count": 16,
   "id": "48273d0b",
   "metadata": {},
   "outputs": [],
   "source": [
    "def display_search_results(results, show_metadata=True):\n",
    "    \"\"\"Hiển thị kết quả tìm kiếm một cách rõ ràng.\"\"\"\n",
    "    if not results:\n",
    "        print(\"Không tìm thấy kết quả nào.\")\n",
    "        return\n",
    "    \n",
    "    for i, result in enumerate(results):\n",
    "        print(f\"\\n--- Kết quả {i+1} ---\")\n",
    "        \n",
    "        # Kiểm tra xem result có phải là tuple (doc, score) không\n",
    "        if isinstance(result, tuple) and len(result) == 2:\n",
    "            doc, score = result\n",
    "            print(f\"Điểm số: {score:.4f}\")\n",
    "        else:\n",
    "            doc = result\n",
    "        \n",
    "        # Hiển thị metadata nếu được yêu cầu\n",
    "        if show_metadata and hasattr(doc, 'metadata') and doc.metadata:\n",
    "            print(\"Metadata:\")\n",
    "            # Hiển thị các thông tin quan trọng\n",
    "            doc_id = doc.metadata.get('document_id', 'N/A')\n",
    "            doc_type = doc.metadata.get('document_type', 'N/A')\n",
    "            effective_date = doc.metadata.get('effective_date', 'N/A')\n",
    "            location = doc.metadata.get('location_detail', 'N/A')\n",
    "            \n",
    "            print(f\"  - ID văn bản: {doc_id}\")\n",
    "            print(f\"  - Loại văn bản: {doc_type}\")\n",
    "            print(f\"  - Ngày hiệu lực: {effective_date}\")\n",
    "            print(f\"  - Vị trí: {location}\")\n",
    "        \n",
    "        # Hiển thị nội dung\n",
    "        content = doc.page_content if hasattr(doc, 'page_content') else str(doc)\n",
    "        print(\"\\nNội dung:\")\n",
    "        print(content)\n",
    "        print(\"-\" * 80)"
   ]
  },
  {
   "cell_type": "code",
   "execution_count": 17,
   "id": "18047f0b",
   "metadata": {},
   "outputs": [
    {
     "name": "stderr",
     "output_type": "stream",
     "text": [
      "2025-04-21 22:43:42,686 - INFO - Đã tiền xử lý query: 'Quy định về đăng ký thuốc mới'\n",
      "2025-04-21 22:43:42,775 - INFO - Truy vấn 'Quy định về đăng ký thuốc mới' hoàn tất sau 0.089 giây. Tìm thấy 3 kết quả.\n"
     ]
    },
    {
     "name": "stdout",
     "output_type": "stream",
     "text": [
      "Câu hỏi: Quy định về đăng ký thuốc mới\n",
      "Tìm kiếm 3 kết quả phù hợp nhất...\n",
      "Thời gian truy vấn: 0.095 giây\n",
      "\n",
      "--- Kết quả 1 ---\n",
      "Metadata:\n",
      "  - ID văn bản: 08/2022/TT-BYT\n",
      "  - Loại văn bản: Thông tư\n",
      "  - Ngày hiệu lực: 2022-10-20\n",
      "  - Vị trí: Chương I: QUY ĐỊNH CHUNG... -> Điều 9: Tiêu chí phân loại và các trường hợp công bố biệt dược gốc, sinh phẩm tham chiếu... -> Khoản 2 -> Điểm a\n",
      "\n",
      "Nội dung:\n",
      "- Thuốc được cấp giấy đăng ký lưu hành mới theo hình thức đăng ký lại quy định tại Thông tư số 44/2014/TT-BYT ngày 25 tháng 11 năm 2014 của Bộ trưởng Bộ Y tế quy định việc đăng ký thuốc (sau đây gọi tắt là Thông tư số 44/2014/TT-BYT) mà có cùng công thức bào chế, quy trình sản xuất, tiêu chuẩn chất lượng nguyên liệu, tiêu chuẩn chất lượng thuốc thành phẩm so với biệt dược gốc, sinh phẩm tham chiếu đã được công bố hoặc có thay đổi liên quan đến nội dung trên đã được Cục Quản lý Dược hoặc nước sở tại phê duyệt. Cơ sở đăng ký nộp hồ sơ cập nhật phân loại biệt dược gốc, sinh phẩm tham chiếu theo quy định tại Phụ lục II ban hành kèm theo Thông tư này; - Thuốc thay đổi cơ sở sản xuất và được cấp giấy đăng ký lưu hành mới đáp ứng quy định tại điểm c khoản 1 Điều này. Cơ sở đăng ký nộp hồ sơ cập nhật phân loại biệt dược gốc, sinh phẩm tham chiếu theo quy định tại Phụ lục II ban hành kèm theo Thông tư này.\n",
      "--------------------------------------------------------------------------------\n",
      "\n",
      "--- Kết quả 2 ---\n",
      "Metadata:\n",
      "  - ID văn bản: 32/2018/TT-BYT\n",
      "  - Loại văn bản: Thông tư\n",
      "  - Ngày hiệu lực: 2019-09-01\n",
      "  - Vị trí: Chương III: HỒ SƠ ĐĂNG KÝ THUỐC, NGUYÊN LIỆU LÀM THUỐC... -> Mục 2: HỒ SƠ ĐỀ NGHỊ CẤP, GIA HẠN, THAY ĐỔI, BỔ SUNG GIẤY ĐĂNG KÝ LƯU HÀNH THUỐC HÓA DƯỢC, VẮC XIN, SINH PH... -> Điều 25: Tài liệu chất lượng trong hồ sơ đề nghị cấp, gia hạn, thay đổi, bổ sung giấy đăng ký lưu hành thuốc ... -> Khoản 4 -> Điểm d\n",
      "\n",
      "Nội dung:\n",
      "+ Thuốc đăng ký phải tương tự thuốc trước khi chuyển giao công nghệ về công thức bào chế thuốc, nhà sản xuất nguyên liệu dùng trong sản xuất thuốc, tiêu chuẩn chất lượng và quy trình phân tích các nguyên liệu dùng trong sản xuất thuốc, quy trình sản xuất, loại trang thiết bị dùng trong sản xuất thuốc, điều kiện môi trường trong quá trình sản xuất thuốc. Các thay đổi liên quan đến các nội dung này nếu có phải thuộc các mức không yêu cầu phải nộp báo cáo nghiên cứu tương đương sinh học của thuốc sau khi thay đổi theo các quy định tại các hướng dẫn nâng cỡ lô và thay đổi sau khi được cấp giấy đăng ký lưu hành đối với các thuốc dạng rắn dùng đường uống của US-FDA (SUPAC s) và trong hồ sơ phải cung cấp kèm theo các tài liệu phù hợp với mỗi thay đổi quy định tại các hướng dẫn này. 5. Đối với thuốc đóng gói thứ cấp tại Việt Nam\n",
      "--------------------------------------------------------------------------------\n",
      "\n",
      "--- Kết quả 3 ---\n",
      "Metadata:\n",
      "  - ID văn bản: 23/2013/TT-BYT\n",
      "  - Loại văn bản: Thông tư\n",
      "  - Ngày hiệu lực: 2013-10-01\n",
      "  - Vị trí: Chương II: QUY ĐỊNH VỀ GIA CÔNG THUỐC... -> Điều 6: Quy định chung về thuốc sản xuất gia công... -> Khoản 2 -> Điểm a\n",
      "\n",
      "Nội dung:\n",
      "a) Đăng ký gia công lần đầu; b) Đăng ký thay đổi lớn; c) Đăng ký thay đổi nhỏ; d) Đăng ký lại; đ) Đăng ký thay đổi khác. 3. Yêu cầu về thử nghiệm lâm sàng, sinh khả dụng và tương đương sinh học: Các yêu cầu về thử nghiệm lâm sàng liên quan đến thuốc mới; sinh khả dụng và tương đương sinh học đối với thuốc sản xuất gia công để lưu hành tại Việt Nam thực hiện theo quy định của Bộ Y tế về thử nghiệm lâm sàng, sinh khả dụng và tương đương sinh học của thuốc. 4. Sản xuất, vận chuyển, lưu hành thuốc gia công có chứa thuốc gây nghiện, hướng tâm thần, tiền chất dùng làm thuốc (kể cả dạng đơn chất hoặc phối hợ p) phải thực hiện theo đúng quy định của Bộ Y tế về quản lý thuốc gây nghiện, hướng tâm thần, tiền chất và các quy định khác của pháp luật có liên quan. 5. Cấp số đăng ký lưu hành thuốc gia công:\n",
      "--------------------------------------------------------------------------------\n"
     ]
    }
   ],
   "source": [
    "# Thử nghiệm truy vấn cơ bản\n",
    "query = \"Quy định về đăng ký thuốc mới\"\n",
    "k = 3  # Số lượng kết quả trả về\n",
    "\n",
    "print(f\"Câu hỏi: {query}\")\n",
    "print(f\"Tìm kiếm {k} kết quả phù hợp nhất...\")\n",
    "\n",
    "start_time = time.time()\n",
    "results = query_documents(vectordb, query, k=k)\n",
    "end_time = time.time()\n",
    "\n",
    "print(f\"Thời gian truy vấn: {end_time - start_time:.3f} giây\")\n",
    "display_search_results(results)"
   ]
  },
  {
   "cell_type": "markdown",
   "id": "0cd74847",
   "metadata": {},
   "source": [
    "## 6. Truy vấn với điểm số"
   ]
  },
  {
   "cell_type": "code",
   "execution_count": 18,
   "id": "95a4b2f8",
   "metadata": {},
   "outputs": [
    {
     "name": "stderr",
     "output_type": "stream",
     "text": [
      "2025-04-21 22:43:42,786 - INFO - Đã tiền xử lý query: 'an toàn sinh học'\n",
      "2025-04-21 22:43:42,838 - INFO - Truy vấn 'an toàn sinh học' hoàn tất sau 0.052 giây. Tìm thấy 5 kết quả.\n"
     ]
    },
    {
     "name": "stdout",
     "output_type": "stream",
     "text": [
      "Câu hỏi: an toàn sinh học\n",
      "Tìm kiếm 5 kết quả phù hợp nhất với điểm số...\n",
      "Thời gian truy vấn: 0.053 giây\n",
      "\n",
      "--- Kết quả 1 ---\n",
      "Điểm số: 34.0773\n",
      "Metadata:\n",
      "  - ID văn bản: 29/2012/TT-BYT\n",
      "  - Loại văn bản: Thông tư\n",
      "  - Ngày hiệu lực: 2013-02-01\n",
      "  - Vị trí: Điều 7: Quy trình thẩm định cấp mới, cấp lại giấy chứng nhận an toàn sinh học... -> Khoản 3\n",
      "\n",
      "Nội dung:\n",
      "3. Quản lý giấy chứng nhận an toàn sinh học: a) Mỗi phòng xét nghiệm chỉ được cấp một giấy chứng nhận an toàn sinh học theo mẫu quy định tại Phụ lục 11 ban hành kèm theo Thông tư này; b) Hồ sơ đề nghị cấp mới, cấp lại giấy chứng nhận an toàn sinh học được lưu tại cơ quan cấp giấy chứng nhận; c) Sau khi cấp giấy chứng nhận an toàn sinh học cho cơ sở: - Bộ Y tế gửi văn bản thông báo cho Ủy ban nhân dân tỉnh và Sở Y tế tỉnh nơi cơ sở xét nghiệm đã được cấp giấy chứng nhận an toàn sinh học đặt trụ sở trong thời gian không quá 30 (ba mươ i) ngày kể từ ngày cấp mới, cấp lại giấy chứng nhận an toàn sinh học; - Sở Y tế tỉnh gửi văn bản thông báo cho Ủy ban nhân dân huyện, quận, thị xã, thành phố thuộc tỉnh nơi cơ sở xét nghiệm đã được cấp giấy chứng nhận an toàn sinh học đặt trụ sở trong thời gian không quá 30 (ba mươ i) ngày kể từ ngày cấp mới, cấp lại giấy chứng nhận an toàn sinh học.\n",
      "--------------------------------------------------------------------------------\n",
      "\n",
      "--- Kết quả 2 ---\n",
      "Điểm số: 34.0773\n",
      "Metadata:\n",
      "  - ID văn bản: 2012/TT-BYT\n",
      "  - Loại văn bản: Thông tư\n",
      "  - Ngày hiệu lực: 2012-12-04\n",
      "  - Vị trí: Điều 7: Quy trình thẩm định cấp mới, cấp lại giấy chứng nhận an toàn sinh học... -> Khoản 3\n",
      "\n",
      "Nội dung:\n",
      "3. Quản lý giấy chứng nhận an toàn sinh học: a) Mỗi phòng xét nghiệm chỉ được cấp một giấy chứng nhận an toàn sinh học theo mẫu quy định tại Phụ lục 11 ban hành kèm theo Thông tư này; b) Hồ sơ đề nghị cấp mới, cấp lại giấy chứng nhận an toàn sinh học được lưu tại cơ quan cấp giấy chứng nhận; c) Sau khi cấp giấy chứng nhận an toàn sinh học cho cơ sở: - Bộ Y tế gửi văn bản thông báo cho Ủy ban nhân dân tỉnh và Sở Y tế tỉnh nơi cơ sở xét nghiệm đã được cấp giấy chứng nhận an toàn sinh học đặt trụ sở trong thời gian không quá 30 (ba mươ i) ngày kể từ ngày cấp mới, cấp lại giấy chứng nhận an toàn sinh học; - Sở Y tế tỉnh gửi văn bản thông báo cho Ủy ban nhân dân huyện, quận, thị xã, thành phố thuộc tỉnh nơi cơ sở xét nghiệm đã được cấp giấy chứng nhận an toàn sinh học đặt trụ sở trong thời gian không quá 30 (ba mươ i) ngày kể từ ngày cấp mới, cấp lại giấy chứng nhận an toàn sinh học.\n",
      "--------------------------------------------------------------------------------\n",
      "\n",
      "--- Kết quả 3 ---\n",
      "Điểm số: 35.4290\n",
      "Metadata:\n",
      "  - ID văn bản: 29/2012/TT-BYT\n",
      "  - Loại văn bản: Thông tư\n",
      "  - Ngày hiệu lực: 2013-02-01\n",
      "  - Vị trí: Điều 8: Phí cấp mới, cấp lại giấy chứng nhận an toàn sinh học...\n",
      "\n",
      "Nội dung:\n",
      "Điều 8. Phí cấp mới, cấp lại giấy chứng nhận an toàn sinh học 1. Cơ sở đề nghị cấp giấy chứng nhận an toàn sinh học có trách nhiệm nộp phí cấp giấy chứng nhận an toàn sinh học cùng thời điểm nộp hồ sơ đề nghị cấp giấy chứng nhận an toàn sinh học. 2. Việc thu, quản lý và sử dụng phí cấp giấy chứng nhận an toàn sinh học theo quy định của Bộ Tài chính. Điều 9. Hiệu lực thi hành Thông tư này có hiệu lực kể từ ngày 01 tháng 02 năm 2013\n",
      "--------------------------------------------------------------------------------\n",
      "\n",
      "--- Kết quả 4 ---\n",
      "Điểm số: 35.4290\n",
      "Metadata:\n",
      "  - ID văn bản: 2012/TT-BYT\n",
      "  - Loại văn bản: Thông tư\n",
      "  - Ngày hiệu lực: 2012-12-04\n",
      "  - Vị trí: Điều 8: Phí cấp mới, cấp lại giấy chứng nhận an toàn sinh học...\n",
      "\n",
      "Nội dung:\n",
      "Điều 8. Phí cấp mới, cấp lại giấy chứng nhận an toàn sinh học 1. Cơ sở đề nghị cấp giấy chứng nhận an toàn sinh học có trách nhiệm nộp phí cấp giấy chứng nhận an toàn sinh học cùng thời điểm nộp hồ sơ đề nghị cấp giấy chứng nhận an toàn sinh học. 2. Việc thu, quản lý và sử dụng phí cấp giấy chứng nhận an toàn sinh học theo quy định của Bộ Tài chính. Điều 9. Hiệu lực thi hành Thông tư này có hiệu lực kể từ ngày 01 tháng 02 năm 2013\n",
      "--------------------------------------------------------------------------------\n",
      "\n",
      "--- Kết quả 5 ---\n",
      "Điểm số: 36.9195\n",
      "Metadata:\n",
      "  - ID văn bản: 29/2012/TT-BYT\n",
      "  - Loại văn bản: Thông tư\n",
      "  - Ngày hiệu lực: 2013-02-01\n",
      "  - Vị trí: Điều 7: Quy trình thẩm định cấp mới, cấp lại giấy chứng nhận an toàn sinh học... -> Khoản 1 -> Điểm c\n",
      "\n",
      "Nội dung:\n",
      "- Đối với các phòng xét nghiệm thuộc thẩm quyền quản lý của Bộ Y tế được làm thành 03 bộ: 01 bộ lưu tại Bộ Y tế, 01 bộ lưu tại Sở Y tế tỉnh nơi cơ sở đề nghị cấp mới giấy chứng nhận an toàn sinh học đặt trụ sở, 01 bộ lưu tại cơ sở đề nghị cấp mới giấy chứng nhận an toàn sinh học được thẩm định; - Đối với các phòng xét nghiệm thuộc thẩm quyền quản lý của Giám đốc Sở Y tế tỉnh được làm thành 02 bộ: 01 bộ lưu tại Sở Y tế tỉnh, 01 bộ lưu tại cơ sở đề nghị cấp mới giấy chứng nhận phòng xét nghiệm đạt tiêu chuẩn an toàn sinh học được thẩm định. 2. Quy trình thẩm định cấp lại giấy chứng nhận an toàn sinh học bao gồm: a) Kiểm tra hồ sơ thẩm định đã cấp giấy chứng nhận an toàn sinh học trước đó lưu tại Bộ Y tế hoặc Sở Y tế tỉnh hoặc giấy phép hoạt động bị hư hỏng (nếu có) và các tài liệu theo quy định tại Điều 3 của Thông tư này; b) Trong trường hợp cần thiết tiến hành thẩm định tại phòng xét nghiệm theo đề nghị của thường trực đoàn thẩm định và cấp lại giấy chứng nhận an toàn sinh học.\n",
      "--------------------------------------------------------------------------------\n"
     ]
    }
   ],
   "source": [
    "# Truy vấn với điểm số\n",
    "query = \"an toàn sinh học\"\n",
    "k = 5\n",
    "\n",
    "print(f\"Câu hỏi: {query}\")\n",
    "print(f\"Tìm kiếm {k} kết quả phù hợp nhất với điểm số...\")\n",
    "\n",
    "start_time = time.time()\n",
    "results = query_documents(vectordb, query, k=k, with_score=True)\n",
    "end_time = time.time()\n",
    "\n",
    "print(f\"Thời gian truy vấn: {end_time - start_time:.3f} giây\")\n",
    "display_search_results(results)"
   ]
  },
  {
   "cell_type": "markdown",
   "id": "ccfad811",
   "metadata": {},
   "source": [
    "## 7. Truy vấn với MMR (Maximum Marginal Relevance)"
   ]
  },
  {
   "cell_type": "code",
   "execution_count": 19,
   "id": "83230f2f",
   "metadata": {},
   "outputs": [
    {
     "name": "stderr",
     "output_type": "stream",
     "text": [
      "2025-04-21 22:43:42,850 - INFO - Đã tiền xử lý query: 'Nội dung giấy chứng nhận cần có thông tin gì?'\n"
     ]
    },
    {
     "name": "stdout",
     "output_type": "stream",
     "text": [
      "Câu hỏi: Nội dung giấy chứng nhận cần có thông tin gì?\n",
      "Tìm kiếm 4 kết quả đa dạng nhất (MMR) từ 20 kết quả ban đầu...\n"
     ]
    },
    {
     "name": "stderr",
     "output_type": "stream",
     "text": [
      "2025-04-21 22:43:42,905 - INFO - Truy vấn 'Nội dung giấy chứng nhận cần có thông tin gì?' hoàn tất sau 0.055 giây. Tìm thấy 4 kết quả.\n"
     ]
    },
    {
     "name": "stdout",
     "output_type": "stream",
     "text": [
      "Thời gian truy vấn: 0.055 giây\n",
      "\n",
      "--- Kết quả 1 ---\n",
      "Metadata:\n",
      "  - ID văn bản: 18/2019/TT-BYT\n",
      "  - Loại văn bản: Thông tư\n",
      "  - Ngày hiệu lực: 2019-07-17\n",
      "  - Vị trí: Điều 4 -> Khoản 2\n",
      "\n",
      "Nội dung:\n",
      "2. Yêu cầu đối với nội dung của giấy chứng nhận, chứng nhận tương đương quy định tại các Điểm a, b và c Khoản 1 Điều này bao gồm các thông tin sau: a) Tên cơ quan, tổ chức có thẩm quyền cấp; b) Ngày cấp; c) Thời hạn hiệu lực (trong trường hợp giấy chứng nhận không ghi thời hạn hiệu lực thì phải có tài liệu chứng minh cơ sở sản xuất vẫn duy trì điều kiện an toàn thực phẩm: báo cáo đánh giá hoặc biên bản kiểm tra định kỳ); d) Họ tên, chữ ký của người cấp; đ) Tên, địa chỉ cơ sở được cấp; e) Phạm vi được chứng nhận; g) Dạng bào chế hoặc tên sản phẩm được chứng nhận.\n",
      "--------------------------------------------------------------------------------\n",
      "\n",
      "--- Kết quả 2 ---\n",
      "Metadata:\n",
      "  - ID văn bản: 22/2011/TT-BYT\n",
      "  - Loại văn bản: Thông tư\n",
      "  - Ngày hiệu lực: 2011-07-25\n",
      "  - Vị trí: Chương III: HOẠT ĐỘNG CHÍNH CỦA KHOA DƯỢC... -> Điều 15: Theo dõi và quản lý nhập, xuất thuốc... -> Khoản 5 -> Điểm b\n",
      "\n",
      "Nội dung:\n",
      "b) Nội dung bàn giao bao gồm sổ sách, giấy tờ, chứng từ, đối chiếu với thực tế về số lượng và chất lượng, những việc cần theo dõi và hoàn thành tiếp (ghi rõ chức trách, nhiệm vụ cụ thể); c) Biên bản bàn giao ghi rõ ràng, có sự chứng kiến và ký duyệt của Lãnh đạo cấp trên trực tiếp của người bàn giao, người nhận, lưu trữ chứng từ theo quy định.\n",
      "--------------------------------------------------------------------------------\n",
      "\n",
      "--- Kết quả 3 ---\n",
      "Metadata:\n",
      "  - ID văn bản: 11/2021/TT-BYT\n",
      "  - Loại văn bản: Thông tư\n",
      "  - Ngày hiệu lực: 2021-08-19\n",
      "  - Vị trí: Chương III: HỒ SƠ ĐỀ NGHỊ CẤP, GIA HẠN, THAY ĐỔI, BỔ SUNG GIẤY ĐĂNG KÝ LƯU HÀNH VẮC XIN... -> Điều 15: Quy định đối với các tài liệu trong hồ sơ đề nghị cấp, gia hạn, thay đổi, bổ sung giấy đăng ký lưu h... -> Khoản 5\n",
      "\n",
      "Nội dung:\n",
      "Phiếu kiểm nghiệm phải bao gồm các thông tin sau: thông tin hành chính (tên, địa chỉ cơ sở sản xuất, tên và chữ ký của người được giao trách nhiệm, ngày ký phiếu kiểm nghiệ m) và thông tin về mẫu vắc xin, nguyên liệu làm vắc xin (tên sản phẩm, số lô, hạn dùng, tiêu chuẩn chất lượng áp dụng, chỉ tiêu chất lượng, yêu cầu chất lượng, kết quả kiểm nghiệm, kết luận về chất lượng lô sản phẩ m).\n",
      "--------------------------------------------------------------------------------\n",
      "\n",
      "--- Kết quả 4 ---\n",
      "Metadata:\n",
      "  - ID văn bản: 08/2022/TT-BYT\n",
      "  - Loại văn bản: Thông tư\n",
      "  - Ngày hiệu lực: 2022-10-20\n",
      "  - Vị trí: Chương III: HỒ SƠ ĐĂNG KÝ THUỐC, NGUYÊN LIỆU LÀM THUỐC... -> Mục 1: QUY ĐỊNH CHUNG VỀ HỒ SƠ ĐỀ NGHỊ CẤP, GIA HẠN, THAY ĐỔI, BỔ SUNG GIẤY ĐĂNG KÝ LƯU HÀNH THUỐC, NGUYÊN ... -> Điều 22: Quy định đối với các tài liệu trong hồ sơ đề nghị cấp, gia hạn, thay đổi, bổ sung giấy đăng ký lưu h... -> Khoản 3\n",
      "\n",
      "Nội dung:\n",
      "3. Giấy tờ pháp lý: a) Bản chính phải có đầy đủ chữ ký, tên người ký và dấu xác nhận của cơ quan có thẩm quyền của nước cấp hoặc bản sao có chứng thực phải do cơ quan, tổ chức có thẩm quyền của Việt Nam chứng thực theo quy định của pháp luật Việt Nam về chứng thực bản sao từ bản chính. Trong trường hợp cần thiết phải xuất trình bản chính để đối chiếu; b) Trường hợp giấy tờ pháp lý được cấp là bản điện tử (chấp nhận bản không có đủ chữ ký, tên người ký hoặc dấu xác nhận của cơ quan có thẩm quyền của nước cấp giấy tờ pháp lý), cơ sở đăng ký phải nộp một trong các giấy tờ sau đây: - Bản chính hoặc bản sao chứng thực của giấy tờ pháp lý được cơ quan có thẩm quyền nước ngoài chứng nhận và được hợp pháp hóa lãnh sự theo quy định;\n",
      "--------------------------------------------------------------------------------\n"
     ]
    }
   ],
   "source": [
    "# Truy vấn với MMR (đa dạng hóa kết quả)\n",
    "query = \"Nội dung giấy chứng nhận cần có thông tin gì?\"\n",
    "k = 4\n",
    "fetch_k = 20  # Số lượng kết quả để chọn lọc\n",
    "\n",
    "print(f\"Câu hỏi: {query}\")\n",
    "print(f\"Tìm kiếm {k} kết quả đa dạng nhất (MMR) từ {fetch_k} kết quả ban đầu...\")\n",
    "\n",
    "start_time = time.time()\n",
    "results = query_documents(vectordb, query, k=k, fetch_k=fetch_k, use_mmr=True)\n",
    "end_time = time.time()\n",
    "\n",
    "print(f\"Thời gian truy vấn: {end_time - start_time:.3f} giây\")\n",
    "display_search_results(results)"
   ]
  },
  {
   "cell_type": "markdown",
   "id": "d4cabbbd",
   "metadata": {},
   "source": [
    "## 8. Giao diện truy vấn tương tác"
   ]
  },
  {
   "cell_type": "code",
   "execution_count": 20,
   "id": "731f4a6e",
   "metadata": {},
   "outputs": [],
   "source": [
    "def interactive_search():\n",
    "    \"\"\"Giao diện tìm kiếm tương tác.\"\"\"\n",
    "    print(\"\\n=== GIAO DIỆN TÌM KIẾM VĂN BẢN PHÁP LUẬT Y TẾ ===\\n\")\n",
    "    print(\"Nhập 'exit' để thoát.\")\n",
    "    \n",
    "    while True:\n",
    "        query = input(\"\\nNhập câu hỏi của bạn: \")\n",
    "        if query.lower() == 'exit':\n",
    "            print(\"Tạm biệt!\")\n",
    "            break\n",
    "            \n",
    "        # Lấy tùy chọn\n",
    "        try:\n",
    "            k = int(input(f\"Số lượng kết quả (mặc định: 3): \") or \"3\")\n",
    "            use_mmr = input(\"Sử dụng MMR để đa dạng hóa kết quả? (y/n, mặc định: n): \").lower() == 'y'\n",
    "            \n",
    "            if use_mmr:\n",
    "                fetch_k = int(input(f\"fetch_k cho MMR (mặc định: {k*5}): \") or str(k*5))\n",
    "            else:\n",
    "                fetch_k = k*5\n",
    "                \n",
    "            show_score = input(\"Hiển thị điểm số? (y/n, mặc định: n): \").lower() == 'y'\n",
    "            \n",
    "            # Thực hiện truy vấn\n",
    "            print(f\"\\nĐang tìm kiếm cho câu hỏi: '{query}'...\")\n",
    "            start_time = time.time()\n",
    "            \n",
    "            results = query_documents(\n",
    "                vectordb, \n",
    "                query, \n",
    "                k=k, \n",
    "                fetch_k=fetch_k, \n",
    "                use_mmr=use_mmr, \n",
    "                with_score=show_score\n",
    "            )\n",
    "            \n",
    "            end_time = time.time()\n",
    "            print(f\"Thời gian truy vấn: {end_time - start_time:.3f} giây\")\n",
    "            \n",
    "            # Hiển thị kết quả\n",
    "            display_search_results(results)\n",
    "            \n",
    "        except Exception as e:\n",
    "            print(f\"Lỗi: {e}\")\n",
    "            logging.error(f\"Lỗi khi thực hiện truy vấn: {e}\", exc_info=True)"
   ]
  },
  {
   "cell_type": "code",
   "execution_count": 21,
   "id": "5e6f8e4e",
   "metadata": {},
   "outputs": [
    {
     "name": "stdout",
     "output_type": "stream",
     "text": [
      "\n",
      "=== GIAO DIỆN TÌM KIẾM VĂN BẢN PHÁP LUẬT Y TẾ ===\n",
      "\n",
      "Nhập 'exit' để thoát.\n"
     ]
    },
    {
     "name": "stderr",
     "output_type": "stream",
     "text": [
      "2025-04-21 22:43:52,966 - INFO - Đã tiền xử lý query: 'Trình tự thực hiện tự công bố cơ sở đủ điều kiện tiêm chủng như thế nào?'\n",
      "2025-04-21 22:43:53,034 - INFO - Truy vấn 'Trình tự thực hiện tự công bố cơ sở đủ điều kiện tiêm chủng như thế nào?' hoàn tất sau 0.068 giây. Tìm thấy 10 kết quả.\n"
     ]
    },
    {
     "name": "stdout",
     "output_type": "stream",
     "text": [
      "\n",
      "Đang tìm kiếm cho câu hỏi: 'Trình tự thực hiện tự công bố cơ sở đủ điều kiện tiêm chủng như thế nào?'...\n",
      "Thời gian truy vấn: 0.069 giây\n",
      "\n",
      "--- Kết quả 1 ---\n",
      "Metadata:\n",
      "  - ID văn bản: 30/2024/TT-BYT\n",
      "  - Loại văn bản: Thông tư\n",
      "  - Ngày hiệu lực: 2024-12-19\n",
      "  - Vị trí: Điều 5: Điều khoản tham chiếu... -> Khoản 5\n",
      "\n",
      "Nội dung:\n",
      "Dịch vụ 25 Tổ chức tiêm chủng: tư vấn trước tiêm chủng, khám sàng lọc, tiêm chủng, theo dõi phản ứng sau tiêm chủng, quản lý đối tượng, thống kê báo cáo 1. Địa điểm thực hiện: tại Trạm Y tế xã hoặc tại cơ sở y tế hoặc điểm cung cấp dịch vụ tiêm chủng tại cộng đồng hoặc tại nhà. 2. Đối tượng: trẻ em và phụ nữ có thai là đối tượng của Chương trình Tiêm chủng mở rộng trên toàn quốc. 3. Tần suất thực hiện: hằng tháng. 4. Nội dung: - Trước tiêm chủng: điều tra, lập danh sách đối tượng thuộc Chương trình tiêm chủng mở rộng; thông báo cho đối tượng tiêm chủng để tham gia tiêm chủng đúng lịch, đủ liều; khám sàng lọc; tư vấn trước tiêm chủng; - Thực hiện tiêm chủng: thực hiện kiểm tra vắc xin, dung môi và bơm tiêm, kim tiêm trước khi sử dụng; cho đối tượng tiêm chủng hoặc cha, mẹ, người giám hộ của trẻ xem lọ vắc xin trước khi tiêm chủng: tiêm chủng theo đúng chỉ định, đúng vắc xin, đúng liều, đúng đường dùng, đúng thời điểm; các kỹ thuật tiêm chủng đối với từng mũi tiêm hoặc uống;\n",
      "--------------------------------------------------------------------------------\n",
      "\n",
      "--- Kết quả 2 ---\n",
      "Metadata:\n",
      "  - ID văn bản: 08/2006/TT-BYT\n",
      "  - Loại văn bản: Thông tư\n",
      "  - Ngày hiệu lực: 2006-07-09\n",
      "  - Vị trí: Khoản 2 -> Điểm b\n",
      "\n",
      "Nội dung:\n",
      "b) Thử nghiệm an toàn trên người ở thực địa với kết luận đạt tiêu chuẩn theo quy định. Riêng đối với vắc xin, sinh phẩm y tế chưa có số đăng ký lưu hành do các tổ chức quốc tế đã thường xuyên hợp tác với Việt Nam trong lĩnh vực y tế như WHO, UNICEF, viện trợ trong trường hợp khẩn cấp cho Việt Nam, tuỳ từng trường hợp cụ thể, Viện Kiểm định quốc gia Vắc xin và Sinh phẩm y tế thực hiện kiểm tra dây chuyền lạnh, tiến hành lấy mẫu để lưu và thử nghiệm an toàn trong phòng thí nghiệm. - Sau khi xem xét các tài liệu nêu trên và với kết quả kiểm định, thử nghiệm đạt chất lượng theo quy định, Viện Kiểm định quốc gia Vắc xin và Sinh phẩm y tế có công văn đề nghị Bộ Y tế (Cục Y tế dự phòng Việt Na m) để cho phép đơn vị tiếp nhận viện trợ nhập khẩu và đưa vào sử dụng vắc xin, sinh phẩm y tế viện trợ.\n",
      "--------------------------------------------------------------------------------\n",
      "\n",
      "--- Kết quả 3 ---\n",
      "Metadata:\n",
      "  - ID văn bản: 34/2018/TT-BYT\n",
      "  - Loại văn bản: Thông tư\n",
      "  - Ngày hiệu lực: 2019-01-01\n",
      "  - Vị trí: Chương III: TỔ CHỨC TIÊM CHỦNG... -> Điều 13: Tổ chức chiến dịch tiêm chủng và tiêm chủng tại nhà...\n",
      "\n",
      "Nội dung:\n",
      "Điều 13. Tổ chức chiến dịch tiêm chủng và tiêm chủng tại nhà 1. Việc tổ chức chiến dịch tiêm chủng thực hiện theo các hướng dẫn của Bộ Y tế đối với từng chiến dịch. 2. Chỉ những cơ sở tiêm chủng đã công bố đủ điều kiện tiêm chủng theo quy định tại Nghị định số 104/2016/NĐ-CP mới được phép thực hiện chiến dịch. 3. Việc tiêm chủng tại nhà chỉ được áp dụng đối với hoạt động tiêm chủng thuộc Chương trình tiêm chủng mở rộng, tiêm chủng chống dịch tại các xã thuộc vùng sâu, vùng xa, xã có điều kiện kinh tế - xã hội đặc biệt khó khăn.\n",
      "--------------------------------------------------------------------------------\n",
      "\n",
      "--- Kết quả 4 ---\n",
      "Metadata:\n",
      "  - ID văn bản: 34/2018/TT-BYT\n",
      "  - Loại văn bản: Thông tư\n",
      "  - Ngày hiệu lực: 2019-01-01\n",
      "  - Vị trí: Chương VI: TRÁCH NHIỆM THỰC HIỆN... -> Điều 27: Trách nhiệm của cơ sở tiêm chủng và người thực hiện tiêm chủng...\n",
      "\n",
      "Nội dung:\n",
      "Điều 27. Trách nhiệm của cơ sở tiêm chủng và người thực hiện tiêm chủng 1. Trách nhiệm của cơ sở tiêm chủng: a) Chịu trách nhiệm trước pháp luật về việc thực hiện các hoạt động chuyên môn theo đúng chức năng, nhiệm vụ được giao; b) Tuân thủ quy trình chuyên môn kỹ thuật về sử dụng vắc xin và an toàn tiêm chủng; c) Tổ chức thực hiện việc tiêm chủng vắc xin viêm gan B trong vòng 24 giờ sau sinh đối với các cơ sở y tế có phòng sinh theo đúng quy định và tổ chức triển khai tiêm chủng các vắc xin khác trong chương trình tiêm chủng mở rộng khi cơ quan quản lý nhà nước có thẩm quyền yêu cầu; d) Phối hợp với các tổ chức, đoàn thể tuyên truyền, vận động người dân tham gia tiêm chủng phòng bệnh; đ) Phối hợp với các đơn vị liên quan thực hiện và tạo điều kiện thuận lợi cho việc điều tra nguyên nhân tai biến nặng sau tiêm chủng; e) Triển khai thực hiện Hệ thống quản lý thông tin tiêm chủng quốc gia theo hướng dẫn của Bộ Y tế; g) Tổng hợp, báo cáo về công tác tiêm chủng của đơn vị.\n",
      "--------------------------------------------------------------------------------\n",
      "\n",
      "--- Kết quả 5 ---\n",
      "Metadata:\n",
      "  - ID văn bản: 34/2018/TT-BYT\n",
      "  - Loại văn bản: Thông tư\n",
      "  - Ngày hiệu lực: 2019-01-01\n",
      "  - Vị trí: Chương VI: TRÁCH NHIỆM THỰC HIỆN... -> Điều 27: Trách nhiệm của cơ sở tiêm chủng và người thực hiện tiêm chủng... -> Khoản 1 -> Điểm g\n",
      "\n",
      "Nội dung:\n",
      "g) Tổng hợp, báo cáo về công tác tiêm chủng của đơn vị. 2. Trách nhiệm của người thực hiện tiêm chủng: tuân thủ đúng các quy trình chuyên môn của Bộ Y tế về tiêm chủng và quy định liên quan tại Thông tư này.\n",
      "--------------------------------------------------------------------------------\n",
      "\n",
      "--- Kết quả 6 ---\n",
      "Metadata:\n",
      "  - ID văn bản: 11/2021/TT-BYT\n",
      "  - Loại văn bản: Thông tư\n",
      "  - Ngày hiệu lực: 2021-08-19\n",
      "  - Vị trí: Chương I: QUY ĐỊNH CHUNG... -> Điều 3: Quyền và trách nhiệm đối với cơ sở đăng ký, sản xuất, cơ sở chuyển giao công nghệ sản xuất vắc xin, ... -> Khoản 4\n",
      "\n",
      "Nội dung:\n",
      "4. Cơ sở đăng ký có trách nhiệm phối hợp với cơ sở sản xuất: a) Thực hiện quy định tại khoản 2, khoản 3 Điều 11 và khoản 1 Điều 13 Thông tư này đối với vắc xin chưa có đầy đủ dữ liệu lâm sàng; b) Xây dựng hệ thống cảnh giác dược toàn diện cho sản phẩm theo quy định và báo cáo đầy đủ về phản ứng bất lợi sau tiêm chủng cho Cục Y tế dự phòng; c) Bảo đảm việc tuân thủ kế hoạch quản lý nguy cơ đối với vắc xin trong suốt toàn bộ vòng đời sản phẩm.\n",
      "--------------------------------------------------------------------------------\n",
      "\n",
      "--- Kết quả 7 ---\n",
      "Metadata:\n",
      "  - ID văn bản: 11/2021/TT-BYT\n",
      "  - Loại văn bản: Thông tư\n",
      "  - Ngày hiệu lực: 2021-08-19\n",
      "  - Vị trí: Chương II -> Điều 11: Quy định về dữ liệu lâm sàng trong hồ sơ đăng ký lưu hành vắc xin... -> Khoản 3\n",
      "\n",
      "Nội dung:\n",
      "3. Vắc xin phòng Covid-19 sản xuất trong nước đang thực hiện thử lâm sàng nhưng đã có kết quả đánh giá giữa kỳ giai đoạn 3 về tính an toàn và hiệu quả bảo vệ của vắc xin dựa trên dữ liệu về tính sinh miễn dịch của vắc xin được sử dụng để xem xét cấp giấy đăng ký lưu hành có điều kiện trên cơ sở ý kiến tư vấn của Hội đồng đạo đức trong nghiên cứu y sinh học cấp quốc gia đối với vắc xin thực hiện thử lâm sàng tại Việt Nam và ý kiến tư vấn của Hội đồng tư vấn cấp giấy đăng ký lưu hành thuốc, nguyên liệu làm thuốc đối với từng vắc xin cụ thể, có tham khảo hướng dẫn hoặc khuyến cáo của Tổ chức Y tế thế giới (World Health Organization - WHO). Vắc xin được cấp trong trường hợp trên phải được tiếp tục theo dõi về tính an toàn, hiệu quả, kiểm soát về đối tượng, số lượng, phạm vi sử dụng sau khi cấp giấy đăng ký lưu hành.\n",
      "--------------------------------------------------------------------------------\n",
      "\n",
      "--- Kết quả 8 ---\n",
      "Metadata:\n",
      "  - ID văn bản: 12/2014/TT-BYT\n",
      "  - Loại văn bản: Thông tư\n",
      "  - Ngày hiệu lực: 2014-06-01\n",
      "  - Vị trí: Chương II: ĐIỀU KIỆN CỦA CƠ SỞ TIÊM CHỦNG... -> Điều 5: Điều kiện đối với cơ sở tiêm chủng cố định... -> Khoản 3 -> Điểm b\n",
      "\n",
      "Nội dung:\n",
      "b) Nhân viên trực tiếp thực hiện khám sàng lọc, tư vấn, tiêm chủng, theo dõi, xử trí phản ứng sau tiêm chủng phải có giấy chứng nhận tham dự tập huấn về tiêm chủng do các cơ sở quy định tại Điều 30, Điều 31 Thông tư này cấp. 4. Trường hợp cơ sở tiêm chủng là cơ sở khám bệnh, chữa bệnh thì ngoài việc đáp ứng các điều kiện của Thông tư này còn phải đáp ứng các quy định của pháp luật về khám bệnh, chữa bệnh. 5. Cơ sở tiêm chủng cố định có thể bố trí nhiều điểm tiêm chủng, mỗi điểm tiêm chủng phải đáp ứng các điều kiện quy định tại các khoản 1, 2 và 3 Điều này.\n",
      "--------------------------------------------------------------------------------\n",
      "\n",
      "--- Kết quả 9 ---\n",
      "Metadata:\n",
      "  - ID văn bản: 46/2014/TT-BYT\n",
      "  - Loại văn bản: Thông tư\n",
      "  - Ngày hiệu lực: 2015-01-20\n",
      "  - Vị trí: Chương I: QUY TRÌNH KIỂM DỊCH Y TẾ TẠI CỬA KHẨU ĐƯỜNG BỘ, ĐƯỜNG SẮT... -> Mục 2: QUY TRÌNH KIỂM DỊCH Y TẾ ĐỐI VỚI NGƯỜI NHẬP CẢNH, XUẤT CẢNH VÀ QUÁ CẢNH... -> Điều 7: Kiểm tra y tế đối với người có yếu tố nguy cơ... -> Khoản 2 -> Điểm a\n",
      "\n",
      "Nội dung:\n",
      "a) Bị nghi ngờ mắc bệnh hoặc mang tác nhân gây bệnh truyền nhiễm thuộc nhóm A; b) Phơi nhiễm bởi yếu tố nguy cơ sức khỏe; c) Tiếp xúc với người nhập cảnh thuộc đối tượng quy định tại Điểm a và Điểm b Khoản này; d) Không có hoặc có giấy chứng nhận tiêm chủng quốc tế hoặc áp dụng biện pháp dự phòng nhưng hết hiệu lực đối với người xuất phát từ vùng có dịch bệnh hoặc đến vùng có dịch bệnh mà bệnh đó bắt buộc phải tiêm chủng hoặc áp dụng biện pháp dự phòng. 3. Trường hợp người bị kiểm tra không thuộc một trong các trường hợp quy định tại Khoản 2 Điều này, kiểm dịch viên y tế kết thúc quy trình kiểm dịch y tế và thông báo cho cơ quan phụ trách cửa khẩu để làm thủ tục nhập cảnh, xuất cảnh, quá cảnh cho người đó.\n",
      "--------------------------------------------------------------------------------\n",
      "\n",
      "--- Kết quả 10 ---\n",
      "Metadata:\n",
      "  - ID văn bản: 11/2021/TT-BYT\n",
      "  - Loại văn bản: Thông tư\n",
      "  - Ngày hiệu lực: 2021-08-19\n",
      "  - Vị trí: Chương V: ĐIỀU KHOẢN THI HÀNH... -> Điều 29: Trách nhiệm thi hành... -> Khoản 7\n",
      "\n",
      "Nội dung:\n",
      "7. Sở Y tế các tỉnh, thành phố trực thuộc Trung ương có trách nhiệm kiểm tra, thanh tra việc thực hiện Thông tư này đối với các đơn vị sản xuất, kinh doanh dược phẩm trong phạm vi quản lý. 8. Các đơn vị trực thuộc Bộ Y tế, Tổng Công ty Dược Việt Nam - CTCP, các cơ sở kinh doanh vắc xin có trách nhiệm thực hiện Thông tư này. 9. Cơ sở tiêm chủng phải xây dựng quy trình tiêm chủng, tập huấn, giám sát cán bộ y tế nhằm đảm bảo việc sử dụng vắc xin theo đúng quy trình và được tiếp cận đầy đủ các thông tin trong nội dung tờ hướng dẫn sử dụng đã được Cục Quản lý Dược phê duyệt. 10. Cơ sở nhập khẩu phối hợp với cơ sở đăng ký có trách nhiệm cung cấp mẫu nhãn, tờ hướng dẫn sử dụng tiếng Việt đã được phê duyệt cho cơ sở tiêm chủng. Trong quá trình thực hiện nếu có khó khăn, vướng mắc, các cơ quan, tổ chức, cá nhân phản ánh về Bộ Y tế (Cục Quản lý Dượ c) để xem xét giải quyết./.\n",
      "--------------------------------------------------------------------------------\n",
      "Tạm biệt!\n"
     ]
    }
   ],
   "source": [
    "# Chạy giao diện tìm kiếm tương tác\n",
    "interactive_search()"
   ]
  },
  {
   "cell_type": "markdown",
   "id": "1bc4a874",
   "metadata": {},
   "source": [
    "## 9. Kết hợp với LLM để xây dựng hệ thống RAG hoàn chỉnh\n",
    "\n",
    "Để tạo một hệ thống RAG hoàn chỉnh, bạn có thể kết hợp kết quả truy xuất với một Large Language Model (LLM). Dưới đây là ví dụ cách tích hợp với LLM từ OpenAI hoặc mô hình mã nguồn mở."
   ]
  },
  {
   "cell_type": "code",
   "execution_count": 22,
   "id": "37ef5ceb",
   "metadata": {},
   "outputs": [
    {
     "data": {
      "text/plain": [
       "'\\nfrom langchain_openai import ChatOpenAI\\nfrom langchain.chains import RetrievalQA\\n\\n# Đặt API key (thay thế bằng API key của bạn hoặc sử dụng biến môi trường)\\nimport os\\nos.environ[\"OPENAI_API_KEY\"] = \"your-api-key-here\"\\n\\n# Khởi tạo LLM\\nllm = ChatOpenAI(model_name=\"gpt-3.5-turbo\", temperature=0)\\n\\n# Tạo retriever từ vector database\\nretriever = vectordb.as_retriever(search_kwargs={\"k\": 5})\\n\\n# Tạo chuỗi RetrievalQA\\nqa_chain = RetrievalQA.from_chain_type(\\n    llm=llm,\\n    chain_type=\"stuff\",\\n    retriever=retriever,\\n    return_source_documents=True,\\n    verbose=True\\n)\\n\\n# Sử dụng\\nquery = \"Quy định về đăng ký thuốc mới tại Việt Nam?\"\\nresult = qa_chain({\"query\": query})\\nprint(\"Câu trả lời:\")\\nprint(result[\"result\"])\\n'"
      ]
     },
     "execution_count": 22,
     "metadata": {},
     "output_type": "execute_result"
    }
   ],
   "source": [
    "# Ví dụ tích hợp với LLM (yêu cầu cài đặt thêm thư viện)\n",
    "# !pip install langchain-openai  # Cho OpenAI\n",
    "# !pip install langchain-community  # Cho các mô hình mã nguồn mở\n",
    "\n",
    "# Nhận xét các dòng sau nếu chưa cài đặt thư viện cần thiết\n",
    "'''\n",
    "from langchain_openai import ChatOpenAI\n",
    "from langchain.chains import RetrievalQA\n",
    "\n",
    "# Đặt API key (thay thế bằng API key của bạn hoặc sử dụng biến môi trường)\n",
    "import os\n",
    "os.environ[\"OPENAI_API_KEY\"] = \"your-api-key-here\"\n",
    "\n",
    "# Khởi tạo LLM\n",
    "llm = ChatOpenAI(model_name=\"gpt-3.5-turbo\", temperature=0)\n",
    "\n",
    "# Tạo retriever từ vector database\n",
    "retriever = vectordb.as_retriever(search_kwargs={\"k\": 5})\n",
    "\n",
    "# Tạo chuỗi RetrievalQA\n",
    "qa_chain = RetrievalQA.from_chain_type(\n",
    "    llm=llm,\n",
    "    chain_type=\"stuff\",\n",
    "    retriever=retriever,\n",
    "    return_source_documents=True,\n",
    "    verbose=True\n",
    ")\n",
    "\n",
    "# Sử dụng\n",
    "query = \"Quy định về đăng ký thuốc mới tại Việt Nam?\"\n",
    "result = qa_chain({\"query\": query})\n",
    "print(\"Câu trả lời:\")\n",
    "print(result[\"result\"])\n",
    "'''"
   ]
  }
 ],
 "metadata": {
  "kernelspec": {
   "display_name": "Python 3",
   "language": "python",
   "name": "python3"
  },
  "language_info": {
   "codemirror_mode": {
    "name": "ipython",
    "version": 3
   },
   "file_extension": ".py",
   "mimetype": "text/x-python",
   "name": "python",
   "nbconvert_exporter": "python",
   "pygments_lexer": "ipython3",
   "version": "3.12.6"
  }
 },
 "nbformat": 4,
 "nbformat_minor": 5
}
