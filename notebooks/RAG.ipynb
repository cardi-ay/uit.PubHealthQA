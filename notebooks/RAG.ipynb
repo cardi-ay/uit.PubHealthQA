{
 "cells": [
  {
   "cell_type": "markdown",
   "id": "1624be6e",
   "metadata": {},
   "source": [
    "# Hướng dẫn sử dụng hệ thống RAG UIT@PubHealthQA\n",
    "\n",
    "Notebook này hướng dẫn cách sử dụng hệ thống RAG đã được tái cấu trúc. Hệ thống RAG cho phép tìm kiếm và truy xuất thông tin từ các văn bản pháp luật y tế."
   ]
  },
  {
   "cell_type": "markdown",
   "id": "b29c1705",
   "metadata": {},
   "source": [
    "## 1. Cài đặt thư viện cần thiết\n",
    "\n",
    "Đảm bảo bạn đã cài đặt các thư viện cần thiết:"
   ]
  },
  {
   "cell_type": "code",
   "execution_count": 1,
   "id": "d633d0f4",
   "metadata": {},
   "outputs": [],
   "source": [
    "# Cài đặt các thư viện cần thiết (chỉ chạy một lần)\n",
    "# !pip install -U langchain faiss-cpu langchain-huggingface sentence-transformers tqdm pypdf"
   ]
  },
  {
   "cell_type": "markdown",
   "id": "810a4147",
   "metadata": {},
   "source": [
    "## 2. Import các thư viện và module"
   ]
  },
  {
   "cell_type": "code",
   "execution_count": 2,
   "id": "8bf65f64",
   "metadata": {},
   "outputs": [
    {
     "name": "stderr",
     "output_type": "stream",
     "text": [
      "2025-04-21 16:48:57,685 - INFO - Đã thiết lập cấu hình logging.\n",
      "2025-04-21 16:48:57,687 - INFO - File log: ..\\outputs\\logs\\rag_usage_log.txt\n",
      "2025-04-21 16:48:57,687 - INFO - File log: ..\\outputs\\logs\\rag_usage_log.txt\n"
     ]
    }
   ],
   "source": [
    "import json\n",
    "import time\n",
    "import logging\n",
    "from pathlib import Path\n",
    "\n",
    "# Import các module từ thư mục src\n",
    "import sys\n",
    "sys.path.append('..')\n",
    "\n",
    "from src.utils.logging_utils import setup_logging\n",
    "from src.embed.faiss_manager import initialize_embedding_model, load_vector_db\n",
    "from src.retriever.faiss_retriever import query_documents\n",
    "\n",
    "# Thiết lập logging\n",
    "log_file_path = Path(\"../outputs/logs/rag_usage_log.txt\")\n",
    "setup_logging(log_file_path=log_file_path, console_output=True)"
   ]
  },
  {
   "cell_type": "markdown",
   "id": "9b2dfdc6",
   "metadata": {},
   "source": [
    "## 3. Cấu hình các tham số"
   ]
  },
  {
   "cell_type": "code",
   "execution_count": 3,
   "id": "5fe70f63",
   "metadata": {},
   "outputs": [
    {
     "name": "stdout",
     "output_type": "stream",
     "text": [
      "Thư mục lưu Index FAISS: ..\\data\\gold\\db_faiss_phapluat_yte_full_final\n",
      "Model Embedding: bkai-foundation-models/vietnamese-bi-encoder\n"
     ]
    }
   ],
   "source": [
    "# Đường dẫn đến vector database\n",
    "PERSIST_DIRECTORY = Path(\"../data/gold/db_faiss_phapluat_yte_full_final\")\n",
    "# Model embedding sử dụng\n",
    "MODEL_NAME = \"bkai-foundation-models/vietnamese-bi-encoder\"\n",
    "\n",
    "print(f\"Thư mục lưu Index FAISS: {PERSIST_DIRECTORY}\")\n",
    "print(f\"Model Embedding: {MODEL_NAME}\")"
   ]
  },
  {
   "cell_type": "markdown",
   "id": "774ad7bf",
   "metadata": {},
   "source": [
    "## 4. Khởi tạo model embedding và tải vector database"
   ]
  },
  {
   "cell_type": "code",
   "execution_count": 4,
   "id": "726581ce",
   "metadata": {},
   "outputs": [
    {
     "name": "stderr",
     "output_type": "stream",
     "text": [
      "2025-04-21 16:49:49,900 - WARNING - From c:\\Users\\phamd\\AppData\\Local\\Programs\\Python\\Python312\\Lib\\site-packages\\tf_keras\\src\\losses.py:2976: The name tf.losses.sparse_softmax_cross_entropy is deprecated. Please use tf.compat.v1.losses.sparse_softmax_cross_entropy instead.\n",
      "\n",
      "2025-04-21 16:49:50,652 - INFO - PyTorch version 2.6.0.dev20241206+cu126 available.\n",
      "2025-04-21 16:49:50,652 - INFO - TensorFlow version 2.18.0 available.\n",
      "2025-04-21 16:49:50,652 - INFO - PyTorch version 2.6.0.dev20241206+cu126 available.\n",
      "2025-04-21 16:49:50,652 - INFO - TensorFlow version 2.18.0 available.\n",
      "2025-04-21 16:49:52,090 - INFO - Load pretrained SentenceTransformer: bkai-foundation-models/vietnamese-bi-encoder\n",
      "2025-04-21 16:49:52,090 - INFO - Load pretrained SentenceTransformer: bkai-foundation-models/vietnamese-bi-encoder\n",
      "2025-04-21 16:49:56,130 - INFO - Model Embedding 'bkai-foundation-models/vietnamese-bi-encoder' đã sẵn sàng.\n",
      "2025-04-21 16:49:56,140 - INFO - Loading faiss with AVX2 support.\n",
      "2025-04-21 16:49:56,130 - INFO - Model Embedding 'bkai-foundation-models/vietnamese-bi-encoder' đã sẵn sàng.\n",
      "2025-04-21 16:49:56,140 - INFO - Loading faiss with AVX2 support.\n",
      "2025-04-21 16:49:56,461 - INFO - Successfully loaded faiss with AVX2 support.\n",
      "2025-04-21 16:49:56,470 - INFO - Failed to load GPU Faiss: name 'GpuIndexIVFFlat' is not defined. Will not load constructor refs for GPU indexes.\n",
      "2025-04-21 16:49:56,461 - INFO - Successfully loaded faiss with AVX2 support.\n",
      "2025-04-21 16:49:56,470 - INFO - Failed to load GPU Faiss: name 'GpuIndexIVFFlat' is not defined. Will not load constructor refs for GPU indexes.\n",
      "2025-04-21 16:49:56,801 - INFO - Đã tải index FAISS thành công. Số lượng vector hiện tại: 15498\n",
      "2025-04-21 16:49:56,801 - INFO - Đã tải index FAISS thành công. Số lượng vector hiện tại: 15498\n"
     ]
    },
    {
     "name": "stdout",
     "output_type": "stream",
     "text": [
      "\n",
      "Đã tải vector database thành công. Số lượng vector: 15498\n"
     ]
    }
   ],
   "source": [
    "# Khởi tạo model embedding\n",
    "embeddings = initialize_embedding_model(model_name=MODEL_NAME)\n",
    "if not embeddings:\n",
    "    logging.error(\"Không thể khởi tạo model embedding. Hãy kiểm tra lại model_name hoặc cài đặt thư viện.\")\n",
    "    raise RuntimeError(\"Không thể khởi tạo model embedding.\")\n",
    "\n",
    "# Tải vector database\n",
    "vectordb = load_vector_db(persist_directory=PERSIST_DIRECTORY, embeddings=embeddings)\n",
    "if not vectordb:\n",
    "    logging.error(f\"Không thể tải vector database từ {PERSIST_DIRECTORY}. Kiểm tra lại đường dẫn hoặc chạy chunking.ipynb để tạo vector database.\")\n",
    "    raise RuntimeError(\"Không thể tải vector database.\")\n",
    "\n",
    "print(f\"\\nĐã tải vector database thành công. Số lượng vector: {vectordb.index.ntotal}\")"
   ]
  },
  {
   "cell_type": "markdown",
   "id": "cfb0c5f6",
   "metadata": {},
   "source": [
    "## 5. Thực hiện truy vấn cơ bản"
   ]
  },
  {
   "cell_type": "code",
   "execution_count": 5,
   "id": "48273d0b",
   "metadata": {},
   "outputs": [],
   "source": [
    "def display_search_results(results, show_metadata=True):\n",
    "    \"\"\"Hiển thị kết quả tìm kiếm một cách rõ ràng.\"\"\"\n",
    "    if not results:\n",
    "        print(\"Không tìm thấy kết quả nào.\")\n",
    "        return\n",
    "    \n",
    "    for i, result in enumerate(results):\n",
    "        print(f\"\\n--- Kết quả {i+1} ---\")\n",
    "        \n",
    "        # Kiểm tra xem result có phải là tuple (doc, score) không\n",
    "        if isinstance(result, tuple) and len(result) == 2:\n",
    "            doc, score = result\n",
    "            print(f\"Điểm số: {score:.4f}\")\n",
    "        else:\n",
    "            doc = result\n",
    "        \n",
    "        # Hiển thị metadata nếu được yêu cầu\n",
    "        if show_metadata and hasattr(doc, 'metadata') and doc.metadata:\n",
    "            print(\"Metadata:\")\n",
    "            # Hiển thị các thông tin quan trọng\n",
    "            doc_id = doc.metadata.get('document_id', 'N/A')\n",
    "            doc_type = doc.metadata.get('document_type', 'N/A')\n",
    "            effective_date = doc.metadata.get('effective_date', 'N/A')\n",
    "            location = doc.metadata.get('location_detail', 'N/A')\n",
    "            \n",
    "            print(f\"  - ID văn bản: {doc_id}\")\n",
    "            print(f\"  - Loại văn bản: {doc_type}\")\n",
    "            print(f\"  - Ngày hiệu lực: {effective_date}\")\n",
    "            print(f\"  - Vị trí: {location}\")\n",
    "        \n",
    "        # Hiển thị nội dung\n",
    "        content = doc.page_content if hasattr(doc, 'page_content') else str(doc)\n",
    "        print(\"\\nNội dung:\")\n",
    "        print(content)\n",
    "        print(\"-\" * 80)"
   ]
  },
  {
   "cell_type": "code",
   "execution_count": 6,
   "id": "18047f0b",
   "metadata": {},
   "outputs": [
    {
     "name": "stderr",
     "output_type": "stream",
     "text": [
      "2025-04-21 16:49:56,876 - INFO - Đã tiền xử lý query: 'Quy định về đăng ký thuốc mới'\n"
     ]
    },
    {
     "name": "stdout",
     "output_type": "stream",
     "text": [
      "Câu hỏi: Quy định về đăng ký thuốc mới\n",
      "Tìm kiếm 3 kết quả phù hợp nhất...\n"
     ]
    },
    {
     "name": "stderr",
     "output_type": "stream",
     "text": [
      "2025-04-21 16:49:58,070 - INFO - Truy vấn 'Quy định về đăng ký thuốc mới' hoàn tất sau 1.241 giây. Tìm thấy 3 kết quả.\n"
     ]
    },
    {
     "name": "stdout",
     "output_type": "stream",
     "text": [
      "Thời gian truy vấn: 1.250 giây\n",
      "\n",
      "--- Kết quả 1 ---\n",
      "Metadata:\n",
      "  - ID văn bản: 08/2022/TT-BYT\n",
      "  - Loại văn bản: Thông tư\n",
      "  - Ngày hiệu lực: 2022-10-20\n",
      "  - Vị trí: Chương I: QUY ĐỊNH CHUNG... -> Điều 9: Tiêu chí phân loại và các trường hợp công bố biệt dược gốc, sinh phẩm tham chiếu... -> Khoản 2 -> Điểm a\n",
      "\n",
      "Nội dung:\n",
      "- Thuốc được cấp giấy đăng ký lưu hành mới theo hình thức đăng ký lại quy định tại Thông tư số 44/2014/TT-BYT ngày 25 tháng 11 năm 2014 của Bộ trưởng Bộ Y tế quy định việc đăng ký thuốc (sau đây gọi tắt là Thông tư số 44/2014/TT-BYT) mà có cùng công thức bào chế, quy trình sản xuất, tiêu chuẩn chất lượng nguyên liệu, tiêu chuẩn chất lượng thuốc thành phẩm so với biệt dược gốc, sinh phẩm tham chiếu đã được công bố hoặc có thay đổi liên quan đến nội dung trên đã được Cục Quản lý Dược hoặc nước sở tại phê duyệt. Cơ sở đăng ký nộp hồ sơ cập nhật phân loại biệt dược gốc, sinh phẩm tham chiếu theo quy định tại Phụ lục II ban hành kèm theo Thông tư này; - Thuốc thay đổi cơ sở sản xuất và được cấp giấy đăng ký lưu hành mới đáp ứng quy định tại điểm c khoản 1 Điều này. Cơ sở đăng ký nộp hồ sơ cập nhật phân loại biệt dược gốc, sinh phẩm tham chiếu theo quy định tại Phụ lục II ban hành kèm theo Thông tư này.\n",
      "--------------------------------------------------------------------------------\n",
      "\n",
      "--- Kết quả 2 ---\n",
      "Metadata:\n",
      "  - ID văn bản: 32/2018/TT-BYT\n",
      "  - Loại văn bản: Thông tư\n",
      "  - Ngày hiệu lực: 2019-09-01\n",
      "  - Vị trí: Chương III: HỒ SƠ ĐĂNG KÝ THUỐC, NGUYÊN LIỆU LÀM THUỐC... -> Mục 2: HỒ SƠ ĐỀ NGHỊ CẤP, GIA HẠN, THAY ĐỔI, BỔ SUNG GIẤY ĐĂNG KÝ LƯU HÀNH THUỐC HÓA DƯỢC, VẮC XIN, SINH PH... -> Điều 25: Tài liệu chất lượng trong hồ sơ đề nghị cấp, gia hạn, thay đổi, bổ sung giấy đăng ký lưu hành thuốc ... -> Khoản 4 -> Điểm d\n",
      "\n",
      "Nội dung:\n",
      "+ Thuốc đăng ký phải tương tự thuốc trước khi chuyển giao công nghệ về công thức bào chế thuốc, nhà sản xuất nguyên liệu dùng trong sản xuất thuốc, tiêu chuẩn chất lượng và quy trình phân tích các nguyên liệu dùng trong sản xuất thuốc, quy trình sản xuất, loại trang thiết bị dùng trong sản xuất thuốc, điều kiện môi trường trong quá trình sản xuất thuốc. Các thay đổi liên quan đến các nội dung này nếu có phải thuộc các mức không yêu cầu phải nộp báo cáo nghiên cứu tương đương sinh học của thuốc sau khi thay đổi theo các quy định tại các hướng dẫn nâng cỡ lô và thay đổi sau khi được cấp giấy đăng ký lưu hành đối với các thuốc dạng rắn dùng đường uống của US-FDA (SUPAC s) và trong hồ sơ phải cung cấp kèm theo các tài liệu phù hợp với mỗi thay đổi quy định tại các hướng dẫn này. 5. Đối với thuốc đóng gói thứ cấp tại Việt Nam\n",
      "--------------------------------------------------------------------------------\n",
      "\n",
      "--- Kết quả 3 ---\n",
      "Metadata:\n",
      "  - ID văn bản: 23/2013/TT-BYT\n",
      "  - Loại văn bản: Thông tư\n",
      "  - Ngày hiệu lực: 2013-10-01\n",
      "  - Vị trí: Chương II: QUY ĐỊNH VỀ GIA CÔNG THUỐC... -> Điều 6: Quy định chung về thuốc sản xuất gia công... -> Khoản 2 -> Điểm a\n",
      "\n",
      "Nội dung:\n",
      "a) Đăng ký gia công lần đầu; b) Đăng ký thay đổi lớn; c) Đăng ký thay đổi nhỏ; d) Đăng ký lại; đ) Đăng ký thay đổi khác. 3. Yêu cầu về thử nghiệm lâm sàng, sinh khả dụng và tương đương sinh học: Các yêu cầu về thử nghiệm lâm sàng liên quan đến thuốc mới; sinh khả dụng và tương đương sinh học đối với thuốc sản xuất gia công để lưu hành tại Việt Nam thực hiện theo quy định của Bộ Y tế về thử nghiệm lâm sàng, sinh khả dụng và tương đương sinh học của thuốc. 4. Sản xuất, vận chuyển, lưu hành thuốc gia công có chứa thuốc gây nghiện, hướng tâm thần, tiền chất dùng làm thuốc (kể cả dạng đơn chất hoặc phối hợ p) phải thực hiện theo đúng quy định của Bộ Y tế về quản lý thuốc gây nghiện, hướng tâm thần, tiền chất và các quy định khác của pháp luật có liên quan. 5. Cấp số đăng ký lưu hành thuốc gia công:\n",
      "--------------------------------------------------------------------------------\n"
     ]
    }
   ],
   "source": [
    "# Thử nghiệm truy vấn cơ bản\n",
    "query = \"Quy định về đăng ký thuốc mới\"\n",
    "k = 3  # Số lượng kết quả trả về\n",
    "\n",
    "print(f\"Câu hỏi: {query}\")\n",
    "print(f\"Tìm kiếm {k} kết quả phù hợp nhất...\")\n",
    "\n",
    "start_time = time.time()\n",
    "results = query_documents(vectordb, query, k=k)\n",
    "end_time = time.time()\n",
    "\n",
    "print(f\"Thời gian truy vấn: {end_time - start_time:.3f} giây\")\n",
    "display_search_results(results)"
   ]
  },
  {
   "cell_type": "markdown",
   "id": "0cd74847",
   "metadata": {},
   "source": [
    "## 6. Truy vấn với điểm số"
   ]
  },
  {
   "cell_type": "code",
   "execution_count": 7,
   "id": "95a4b2f8",
   "metadata": {},
   "outputs": [
    {
     "name": "stderr",
     "output_type": "stream",
     "text": [
      "2025-04-21 16:49:58,093 - INFO - Đã tiền xử lý query: 'Thẩm quyền thu hồi giấy chứng nhận'\n",
      "2025-04-21 16:49:58,157 - INFO - Truy vấn 'Thẩm quyền thu hồi giấy chứng nhận' hoàn tất sau 0.064 giây. Tìm thấy 3 kết quả.\n",
      "2025-04-21 16:49:58,157 - INFO - Truy vấn 'Thẩm quyền thu hồi giấy chứng nhận' hoàn tất sau 0.064 giây. Tìm thấy 3 kết quả.\n"
     ]
    },
    {
     "name": "stdout",
     "output_type": "stream",
     "text": [
      "Câu hỏi: Thẩm quyền thu hồi giấy chứng nhận\n",
      "Tìm kiếm 3 kết quả phù hợp nhất với điểm số...\n",
      "Thời gian truy vấn: 0.067 giây\n",
      "\n",
      "--- Kết quả 1 ---\n",
      "Điểm số: 25.9119\n",
      "Metadata:\n",
      "  - ID văn bản: 08/2025/TT-BYT\n",
      "  - Loại văn bản: Thông tư\n",
      "  - Ngày hiệu lực: 2025-03-07\n",
      "  - Vị trí: Điều 7: Thẩm quyền, trình tự thu hồi giấy chứng nhận...\n",
      "\n",
      "Nội dung:\n",
      "Điều 7. Thẩm quyền, trình tự thu hồi giấy chứng nhận 1. Bộ Y tế (Cục An toàn thực phẩ m) ban hành văn bản thu hồi giấy chứng nhận và gửi cho tổ chức, cá nhân xuất khẩu đã được cấp giấy chứng nhận; đồng thời đăng tải thông tin trên trang thông tin điện tử của Cục và gửi thông báo đến cơ quan hải quan về việc giấy chứng nhận không còn giá trị hiệu lực; Giấy chứng nhận hết hiệu lực kể từ ngày cơ quan có thẩm quyền ban hành văn bản thu hồi. 2. Trong thời hạn 05 (nă m) ngày làm việc, tổ chức, cá nhân được cấp giấy chứng nhận phải nộp giấy chứng nhận đã cấp cho Bộ Y tế (Cục An toàn thực phẩ m).\n",
      "--------------------------------------------------------------------------------\n",
      "\n",
      "--- Kết quả 2 ---\n",
      "Điểm số: 28.7696\n",
      "Metadata:\n",
      "  - ID văn bản: 08/2022/TT-BYT\n",
      "  - Loại văn bản: Thông tư\n",
      "  - Ngày hiệu lực: 2022-10-20\n",
      "  - Vị trí: Chương V: THU HỒI GIẤY ĐĂNG KÝ LƯU HÀNH, NGỪNG NHẬN HỒ SƠ CẤP, GIA HẠN GIẤY ĐĂNG KÝ LƯU HÀNH... -> Điều 40: Thẩm quyền, thủ tục thu hồi giấy đăng ký lưu hành thuốc, nguyên liệu làm thuốc...\n",
      "\n",
      "Nội dung:\n",
      "Điều 40. Thẩm quyền, thủ tục thu hồi giấy đăng ký lưu hành thuốc, nguyên liệu làm thuốc 1. Thẩm quyền thu hồi và trách nhiệm thông báo thu hồi giấy đăng ký lưu hành: a) Cục Quản lý Dược thu hồi giấy đăng ký lưu hành thuốc, nguyên liệu làm thuốc thuộc các trường hợp quy định tại khoản 1 Điều 58 Luật Dược; b) Sở Y tế các tỉnh, thành phố trực thuộc Trung ương, Y tế các ngành thông báo quyết định của Cục Quản lý Dược về việc thu hồi giấy đăng ký lưu hành thuốc, nguyên liệu làm thuốc thuộc địa bàn quản lý. 2. Thủ tục thu hồi giấy đăng ký lưu hành thuốc, nguyên liệu làm thuốc quy định tại điểm a, b khoản 1 Điều 58 Luật Dược: Trong thời hạn không quá 30 ngày kể từ ngày có quyết định thu hồi thuốc của cơ quan quản lý có thẩm quyền, Cục Quản lý Dược ra quyết định thu hồi giấy đăng ký lưu hành thuốc, nguyên liệu làm thuốc. 3. Thủ tục thu hồi giấy đăng ký lưu hành thuốc, nguyên liệu làm thuốc quy định tại điểm d, đ khoản 1 Điều 58 Luật Dược\n",
      "--------------------------------------------------------------------------------\n",
      "\n",
      "--- Kết quả 3 ---\n",
      "Điểm số: 29.5350\n",
      "Metadata:\n",
      "  - ID văn bản: 02/2024/TT-BYT\n",
      "  - Loại văn bản: Thông tư\n",
      "  - Ngày hiệu lực: 2024-03-12\n",
      "  - Vị trí: Chương II: CẤP GIẤY CHỨNG NHẬN NGƯỜI CÓ BÀI THUỐC GIA TRUYỀN, GIẤY CHỨNG NHẬN NGƯỜI CÓ PHƯƠNG PHÁP CHỮA BỆNH GI... -> Điều 27: Trình tự thu hồi giấy chứng nhận người có bài thuốc gia truyền, giấy chứng nhận người có phương pháp...\n",
      "\n",
      "Nội dung:\n",
      "Điều 27. Trình tự thu hồi giấy chứng nhận người có bài thuốc gia truyền, giấy chứng nhận người có phương pháp chữa bệnh gia truyền 1. Cơ quan, tổ chức, cá nhân phát hiện người đã được cấp giấy chứng nhận người có bài thuốc gia truyền, giấy chứng nhận người có phương pháp chữa bệnh gia truyền thuộc trường hợp phải thu hồi theo quy định tại Điều 26 Thông tư này gửi thông báo cho cơ quan có thẩm quyền để thu hồi giấy chứng nhận người có bài thuốc gia truyền, giấy chứng nhận người có phương pháp chữa bệnh gia truyền. 2. Cơ quan có thẩm quyền thu hồi giấy chứng nhận người có bài thuốc gia truyền, giấy chứng nhận người có phương pháp chữa bệnh gia truyền có trách nhiệm xác minh hồ sơ, tài liệu và thông tin do tổ chức, cá nhân cung cấp; nếu thuộc trường hợp thu hồi thì ra quyết định thu hồi giấy chứng nhận người có bài thuốc gia truyền, giấy chứng nhận người có phương pháp chữa bệnh gia truyền.\n",
      "--------------------------------------------------------------------------------\n"
     ]
    }
   ],
   "source": [
    "# Truy vấn với điểm số\n",
    "query = \"Thẩm quyền thu hồi giấy chứng nhận\"\n",
    "k = 3\n",
    "\n",
    "print(f\"Câu hỏi: {query}\")\n",
    "print(f\"Tìm kiếm {k} kết quả phù hợp nhất với điểm số...\")\n",
    "\n",
    "start_time = time.time()\n",
    "results = query_documents(vectordb, query, k=k, with_score=True)\n",
    "end_time = time.time()\n",
    "\n",
    "print(f\"Thời gian truy vấn: {end_time - start_time:.3f} giây\")\n",
    "display_search_results(results)"
   ]
  },
  {
   "cell_type": "markdown",
   "id": "ccfad811",
   "metadata": {},
   "source": [
    "## 7. Truy vấn với MMR (Maximum Marginal Relevance)"
   ]
  },
  {
   "cell_type": "code",
   "execution_count": 8,
   "id": "83230f2f",
   "metadata": {},
   "outputs": [
    {
     "name": "stderr",
     "output_type": "stream",
     "text": [
      "2025-04-21 16:49:58,173 - INFO - Đã tiền xử lý query: 'Nội dung giấy chứng nhận cần có thông tin gì?'\n",
      "2025-04-21 16:49:58,244 - INFO - Truy vấn 'Nội dung giấy chứng nhận cần có thông tin gì?' hoàn tất sau 0.071 giây. Tìm thấy 4 kết quả.\n",
      "2025-04-21 16:49:58,244 - INFO - Truy vấn 'Nội dung giấy chứng nhận cần có thông tin gì?' hoàn tất sau 0.071 giây. Tìm thấy 4 kết quả.\n"
     ]
    },
    {
     "name": "stdout",
     "output_type": "stream",
     "text": [
      "Câu hỏi: Nội dung giấy chứng nhận cần có thông tin gì?\n",
      "Tìm kiếm 4 kết quả đa dạng nhất (MMR) từ 20 kết quả ban đầu...\n",
      "Thời gian truy vấn: 0.071 giây\n",
      "\n",
      "--- Kết quả 1 ---\n",
      "Metadata:\n",
      "  - ID văn bản: 18/2019/TT-BYT\n",
      "  - Loại văn bản: Thông tư\n",
      "  - Ngày hiệu lực: 2019-07-17\n",
      "  - Vị trí: Điều 4 -> Khoản 2\n",
      "\n",
      "Nội dung:\n",
      "2. Yêu cầu đối với nội dung của giấy chứng nhận, chứng nhận tương đương quy định tại các Điểm a, b và c Khoản 1 Điều này bao gồm các thông tin sau: a) Tên cơ quan, tổ chức có thẩm quyền cấp; b) Ngày cấp; c) Thời hạn hiệu lực (trong trường hợp giấy chứng nhận không ghi thời hạn hiệu lực thì phải có tài liệu chứng minh cơ sở sản xuất vẫn duy trì điều kiện an toàn thực phẩm: báo cáo đánh giá hoặc biên bản kiểm tra định kỳ); d) Họ tên, chữ ký của người cấp; đ) Tên, địa chỉ cơ sở được cấp; e) Phạm vi được chứng nhận; g) Dạng bào chế hoặc tên sản phẩm được chứng nhận.\n",
      "--------------------------------------------------------------------------------\n",
      "\n",
      "--- Kết quả 2 ---\n",
      "Metadata:\n",
      "  - ID văn bản: 22/2011/TT-BYT\n",
      "  - Loại văn bản: Thông tư\n",
      "  - Ngày hiệu lực: 2011-07-25\n",
      "  - Vị trí: Chương III: HOẠT ĐỘNG CHÍNH CỦA KHOA DƯỢC... -> Điều 15: Theo dõi và quản lý nhập, xuất thuốc... -> Khoản 5 -> Điểm b\n",
      "\n",
      "Nội dung:\n",
      "b) Nội dung bàn giao bao gồm sổ sách, giấy tờ, chứng từ, đối chiếu với thực tế về số lượng và chất lượng, những việc cần theo dõi và hoàn thành tiếp (ghi rõ chức trách, nhiệm vụ cụ thể); c) Biên bản bàn giao ghi rõ ràng, có sự chứng kiến và ký duyệt của Lãnh đạo cấp trên trực tiếp của người bàn giao, người nhận, lưu trữ chứng từ theo quy định.\n",
      "--------------------------------------------------------------------------------\n",
      "\n",
      "--- Kết quả 3 ---\n",
      "Metadata:\n",
      "  - ID văn bản: 11/2021/TT-BYT\n",
      "  - Loại văn bản: Thông tư\n",
      "  - Ngày hiệu lực: 2021-08-19\n",
      "  - Vị trí: Chương III: HỒ SƠ ĐỀ NGHỊ CẤP, GIA HẠN, THAY ĐỔI, BỔ SUNG GIẤY ĐĂNG KÝ LƯU HÀNH VẮC XIN... -> Điều 15: Quy định đối với các tài liệu trong hồ sơ đề nghị cấp, gia hạn, thay đổi, bổ sung giấy đăng ký lưu h... -> Khoản 5\n",
      "\n",
      "Nội dung:\n",
      "Phiếu kiểm nghiệm phải bao gồm các thông tin sau: thông tin hành chính (tên, địa chỉ cơ sở sản xuất, tên và chữ ký của người được giao trách nhiệm, ngày ký phiếu kiểm nghiệ m) và thông tin về mẫu vắc xin, nguyên liệu làm vắc xin (tên sản phẩm, số lô, hạn dùng, tiêu chuẩn chất lượng áp dụng, chỉ tiêu chất lượng, yêu cầu chất lượng, kết quả kiểm nghiệm, kết luận về chất lượng lô sản phẩ m).\n",
      "--------------------------------------------------------------------------------\n",
      "\n",
      "--- Kết quả 4 ---\n",
      "Metadata:\n",
      "  - ID văn bản: 08/2022/TT-BYT\n",
      "  - Loại văn bản: Thông tư\n",
      "  - Ngày hiệu lực: 2022-10-20\n",
      "  - Vị trí: Chương III: HỒ SƠ ĐĂNG KÝ THUỐC, NGUYÊN LIỆU LÀM THUỐC... -> Mục 1: QUY ĐỊNH CHUNG VỀ HỒ SƠ ĐỀ NGHỊ CẤP, GIA HẠN, THAY ĐỔI, BỔ SUNG GIẤY ĐĂNG KÝ LƯU HÀNH THUỐC, NGUYÊN ... -> Điều 22: Quy định đối với các tài liệu trong hồ sơ đề nghị cấp, gia hạn, thay đổi, bổ sung giấy đăng ký lưu h... -> Khoản 3\n",
      "\n",
      "Nội dung:\n",
      "3. Giấy tờ pháp lý: a) Bản chính phải có đầy đủ chữ ký, tên người ký và dấu xác nhận của cơ quan có thẩm quyền của nước cấp hoặc bản sao có chứng thực phải do cơ quan, tổ chức có thẩm quyền của Việt Nam chứng thực theo quy định của pháp luật Việt Nam về chứng thực bản sao từ bản chính. Trong trường hợp cần thiết phải xuất trình bản chính để đối chiếu; b) Trường hợp giấy tờ pháp lý được cấp là bản điện tử (chấp nhận bản không có đủ chữ ký, tên người ký hoặc dấu xác nhận của cơ quan có thẩm quyền của nước cấp giấy tờ pháp lý), cơ sở đăng ký phải nộp một trong các giấy tờ sau đây: - Bản chính hoặc bản sao chứng thực của giấy tờ pháp lý được cơ quan có thẩm quyền nước ngoài chứng nhận và được hợp pháp hóa lãnh sự theo quy định;\n",
      "--------------------------------------------------------------------------------\n"
     ]
    }
   ],
   "source": [
    "# Truy vấn với MMR (đa dạng hóa kết quả)\n",
    "query = \"Nội dung giấy chứng nhận cần có thông tin gì?\"\n",
    "k = 4\n",
    "fetch_k = 20  # Số lượng kết quả để chọn lọc\n",
    "\n",
    "print(f\"Câu hỏi: {query}\")\n",
    "print(f\"Tìm kiếm {k} kết quả đa dạng nhất (MMR) từ {fetch_k} kết quả ban đầu...\")\n",
    "\n",
    "start_time = time.time()\n",
    "results = query_documents(vectordb, query, k=k, fetch_k=fetch_k, use_mmr=True)\n",
    "end_time = time.time()\n",
    "\n",
    "print(f\"Thời gian truy vấn: {end_time - start_time:.3f} giây\")\n",
    "display_search_results(results)"
   ]
  },
  {
   "cell_type": "markdown",
   "id": "d4cabbbd",
   "metadata": {},
   "source": [
    "## 8. Giao diện truy vấn tương tác"
   ]
  },
  {
   "cell_type": "code",
   "execution_count": 9,
   "id": "731f4a6e",
   "metadata": {},
   "outputs": [],
   "source": [
    "def interactive_search():\n",
    "    \"\"\"Giao diện tìm kiếm tương tác.\"\"\"\n",
    "    print(\"\\n=== GIAO DIỆN TÌM KIẾM VĂN BẢN PHÁP LUẬT Y TẾ ===\\n\")\n",
    "    print(\"Nhập 'exit' để thoát.\")\n",
    "    \n",
    "    while True:\n",
    "        query = input(\"\\nNhập câu hỏi của bạn: \")\n",
    "        if query.lower() == 'exit':\n",
    "            print(\"Tạm biệt!\")\n",
    "            break\n",
    "            \n",
    "        # Lấy tùy chọn\n",
    "        try:\n",
    "            k = int(input(f\"Số lượng kết quả (mặc định: 3): \") or \"3\")\n",
    "            use_mmr = input(\"Sử dụng MMR để đa dạng hóa kết quả? (y/n, mặc định: n): \").lower() == 'y'\n",
    "            \n",
    "            if use_mmr:\n",
    "                fetch_k = int(input(f\"fetch_k cho MMR (mặc định: {k*5}): \") or str(k*5))\n",
    "            else:\n",
    "                fetch_k = k*5\n",
    "                \n",
    "            show_score = input(\"Hiển thị điểm số? (y/n, mặc định: n): \").lower() == 'y'\n",
    "            \n",
    "            # Thực hiện truy vấn\n",
    "            print(f\"\\nĐang tìm kiếm cho câu hỏi: '{query}'...\")\n",
    "            start_time = time.time()\n",
    "            \n",
    "            results = query_documents(\n",
    "                vectordb, \n",
    "                query, \n",
    "                k=k, \n",
    "                fetch_k=fetch_k, \n",
    "                use_mmr=use_mmr, \n",
    "                with_score=show_score\n",
    "            )\n",
    "            \n",
    "            end_time = time.time()\n",
    "            print(f\"Thời gian truy vấn: {end_time - start_time:.3f} giây\")\n",
    "            \n",
    "            # Hiển thị kết quả\n",
    "            display_search_results(results)\n",
    "            \n",
    "        except Exception as e:\n",
    "            print(f\"Lỗi: {e}\")\n",
    "            logging.error(f\"Lỗi khi thực hiện truy vấn: {e}\", exc_info=True)"
   ]
  },
  {
   "cell_type": "code",
   "execution_count": null,
   "id": "5e6f8e4e",
   "metadata": {},
   "outputs": [
    {
     "name": "stdout",
     "output_type": "stream",
     "text": [
      "\n",
      "=== GIAO DIỆN TÌM KIẾM VĂN BẢN PHÁP LUẬT Y TẾ ===\n",
      "\n",
      "Nhập 'exit' để thoát.\n"
     ]
    },
    {
     "name": "stderr",
     "output_type": "stream",
     "text": [
      "2025-04-21 16:50:27,463 - INFO - Đã tiền xử lý query: 'bảo hiểm y tế'\n",
      "2025-04-21 16:50:27,515 - INFO - Truy vấn 'bảo hiểm y tế' hoàn tất sau 0.053 giây. Tìm thấy 2 kết quả.\n",
      "2025-04-21 16:50:27,515 - INFO - Truy vấn 'bảo hiểm y tế' hoàn tất sau 0.053 giây. Tìm thấy 2 kết quả.\n"
     ]
    },
    {
     "name": "stdout",
     "output_type": "stream",
     "text": [
      "\n",
      "Đang tìm kiếm cho câu hỏi: 'bảo hiểm y tế'...\n",
      "Thời gian truy vấn: 0.055 giây\n",
      "\n",
      "--- Kết quả 1 ---\n",
      "Điểm số: 33.4590\n",
      "Metadata:\n",
      "  - ID văn bản: 30/2018/TT-BYT\n",
      "  - Loại văn bản: Thông tư\n",
      "  - Ngày hiệu lực: 2019-01-01\n",
      "  - Vị trí: Điều 2: Cấu trúc danh mục thuốc và phân hạng sử dụng... -> Khoản 1 -> Điểm d\n",
      "\n",
      "Nội dung:\n",
      "- Đối với phòng khám tư nhân có ký hợp đồng khám bệnh, chữa bệnh bảo hiểm y tế nhưng chưa thực hiện phân tuyến chuyên môn kỹ thuật: Căn cứ năng lực chuyên môn, trang thiết bị y tế và danh mục dịch vụ kỹ thuật đã được cấp có thẩm quyền phê duyệt, Sở Y tế chủ trì, phối hợp với Bảo hiểm xã hội tỉnh để thống nhất, quyết định việc sử dụng thuốc của cơ sở khám bệnh, chữa bệnh này nhưng không quá phạm vi danh mục thuốc của bệnh viện hạng III; - Trường hợp cơ sở khám bệnh, chữa bệnh thực hiện được các dịch vụ kỹ thuật của tuyến cao hơn theo phân tuyến chuyên môn kỹ thuật thì được sử dụng các thuốc theo danh mục thuốc quy định đối với tuyến cao hơn, phù hợp với dịch vụ kỹ thuật đã được cấp có thẩm quyền phê duyệt. Cơ sở khám bệnh, chữa bệnh tổng hợp, gửi danh mục thuốc cho cơ quan bảo hiểm xã hội để làm cơ sở thanh toán;\n",
      "--------------------------------------------------------------------------------\n",
      "\n",
      "--- Kết quả 2 ---\n",
      "Điểm số: 33.6170\n",
      "Metadata:\n",
      "  - ID văn bản: 30/2020/TT-BYT\n",
      "  - Loại văn bản: Thông tư\n",
      "  - Ngày hiệu lực: 2021-03-01\n",
      "  - Vị trí: Chương III: CHUYỂN ĐỔI MỨC HƯỞNG BẢO HIỂM Y TẾ, THANH TOÁN CHI PHÍ KHÁM BỆNH, CHỮA BỆNH BẢO HIỂM Y TẾ CỦA MỘT SỐ... -> Điều 6: Khám bệnh, chữa bệnh bảo hiểm y tế đúng tuyến... -> Khoản 3\n",
      "\n",
      "Nội dung:\n",
      "3. Người tham gia bảo hiểm y tế trong tình trạng cấp cứu được cấp cứu tại bất kỳ cơ sở khám bệnh, chữa bệnh nào trên phạm vi toàn quốc. Bác sĩ hoặc y sỹ đánh giá, xác định tình trạng cấp cứu đối với người bệnh, ghi vào hồ sơ bệnh án và chịu trách nhiệm về quyết định của mình. 4. Người tham gia bảo hiểm y tế được chuyển tuyến khám bệnh, chữa bệnh bảo hiểm y tế theo quy định, bao gồm: a) Được chuyển tuyến theo quy định tại Điều 10 và Điều 11 Thông tư số 40/2015/TT-BYT ngày 16 tháng 11 năm 2015 của Bộ trưởng Bộ Y tế về quy định đăng ký khám bệnh, chữa bệnh bảo hiểm y tế ban đầu và chuyển tuyến khám bệnh, chữa bệnh bảo hiểm y tế. Hồ sơ chuyển tuyến gồm giấy chuyển tuyến theo Mẫu số 6 ban hành kèm theo Nghị định số 146/2018/NĐ-CP và các giấy tờ khác (nếu có);\n",
      "--------------------------------------------------------------------------------\n"
     ]
    },
    {
     "name": "stderr",
     "output_type": "stream",
     "text": [
      "2025-04-21 16:50:58,738 - ERROR - Lỗi khi thực hiện truy vấn: invalid literal for int() with base 10: 'exit'\n",
      "Traceback (most recent call last):\n",
      "  File \"C:\\Users\\phamd\\AppData\\Local\\Temp\\ipykernel_6744\\3263814769.py\", line 14, in interactive_search\n",
      "    k = int(input(f\"Số lượng kết quả (mặc định: 3): \") or \"3\")\n",
      "        ^^^^^^^^^^^^^^^^^^^^^^^^^^^^^^^^^^^^^^^^^^^^^^^^^^^^^^\n",
      "ValueError: invalid literal for int() with base 10: 'exit'\n"
     ]
    },
    {
     "name": "stdout",
     "output_type": "stream",
     "text": [
      "Lỗi: invalid literal for int() with base 10: 'exit'\n"
     ]
    },
    {
     "name": "stderr",
     "output_type": "stream",
     "text": [
      "2025-04-21 16:51:04,263 - INFO - Đã tiền xử lý query: ''\n",
      "2025-04-21 16:51:04,310 - INFO - Truy vấn '' hoàn tất sau 0.047 giây. Tìm thấy 3 kết quả.\n",
      "2025-04-21 16:51:04,310 - INFO - Truy vấn '' hoàn tất sau 0.047 giây. Tìm thấy 3 kết quả.\n"
     ]
    },
    {
     "name": "stdout",
     "output_type": "stream",
     "text": [
      "\n",
      "Đang tìm kiếm cho câu hỏi: ''...\n",
      "Thời gian truy vấn: 0.048 giây\n",
      "\n",
      "--- Kết quả 1 ---\n",
      "Metadata:\n",
      "  - ID văn bản: 10/2018/TT-BYT\n",
      "  - Loại văn bản: Thông tư\n",
      "  - Ngày hiệu lực: 2018-06-18\n",
      "  - Vị trí: Chương II: VỊ TRÍ, CHỨC NĂNG, NHIỆM VỤ,... -> Điều 8: Tiêu chí của thành viên Hội đồng...\n",
      "\n",
      "Nội dung:\n",
      "Điều 8. Tiêu chí của thành viên Hội đồng 1. Thành viên Hội đồng tư vấn cấp phép kinh doanh cho cơ sở sản xuất, xuất khẩu, nhập khẩu, kinh doanh dịch vụ bảo quản, bán buôn, bán lẻ đối với thuốc gây nghiện, thuốc hướng thần, thuốc tiền chất, nguyên liệu làm thuốc là dược chất gây nghiện, dược chất hướng thần, tiền chất dùng làm thuốc; cơ sở sản xuất thuốc dạng phối hợp có chứa dược chất gây nghiện, thuốc dạng phối hợp có chứa dược chất hướng thần, thuốc dạng phối hợp có chứa tiền chất phải đáp ứng đồng thời các tiêu chí sau: a) Có bằng tốt nghiệp đại học trở lên thuộc một trong các chuyên ngành y, dược, an ninh, cảnh sát.\n",
      "--------------------------------------------------------------------------------\n",
      "\n",
      "--- Kết quả 2 ---\n",
      "Metadata:\n",
      "  - ID văn bản: 16/2020/TT-BYT\n",
      "  - Loại văn bản: Thông tư\n",
      "  - Ngày hiệu lực: 2020-12-12\n",
      "  - Vị trí: Chương II: TIÊU CHUẨN XÉT TẶNG GIẢI THƯỞNG... -> Điều 9: Tiêu chuẩn cụ thể... -> Khoản 5 -> Điểm b\n",
      "\n",
      "Nội dung:\n",
      "- Có sáng kiến, giải pháp quản lý được áp dụng có hiệu quả trong lĩnh vực y dược cổ truyền được cơ quan quản lý cấp huyện trở lên công nhận. 6. Đối với Lương y, lương dược, người hành nghề bằng bài thuốc gia truyền, phương pháp chữa bệnh gia truyền a) Bảo đảm các tiêu chuẩn chung quy định tại Điều 7 của Thông tư này; b) Có chứng chỉ hành nghề do cơ quản lý nhà nước cấp; là hội viên Hội nghề nghiệp thuộc lĩnh vực y dược cổ truyền, được Hội nghề nghiệp thuộc lĩnh vực y dược cổ truyền cấp tỉnh, thành phố xác nhận về đạo đức hành nghề và chuyên môn nghiệp vụ. c) Đạt một trong các tiêu chuẩn sau: - Tham gia biên soạn ít nhất 01 tài liệu giảng dạy, sách tham khảo hoặc biên soạn ít nhất 01 sách về hướng dẫn sử dụng thuốc nam, bài thuốc nam, các cây thuốc sẵn tại địa phương theo lý luận của y dược cổ truyền được Sở Y tế công nhận và được áp dụng tại địa phương;\n",
      "--------------------------------------------------------------------------------\n",
      "\n",
      "--- Kết quả 3 ---\n",
      "Metadata:\n",
      "  - ID văn bản: 43/2024/TT-BYT\n",
      "  - Loại văn bản: Thông tư\n",
      "  - Ngày hiệu lực: 2025-02-01\n",
      "  - Vị trí: Chương VI: ĐIỀU KHOẢN THI HÀNH... -> Điều 23: Tổ chức thực hiện... -> Khoản 1 -> Điểm đ\n",
      "\n",
      "Nội dung:\n",
      "đ) Đình chỉ hoặc kiến nghị cơ quan có thẩm quyền đình chỉ hoạt động của Hội đồng đạo đức trong trường hợp phát hiện Hội đồng vi phạm các quy định tại Thông tư này làm ảnh hưởng đến việc bảo vệ quyền, sự an toàn và sức khỏe của người tham gia nghiên cứu. 2. Sở Y tế các tỉnh, thành phố trực thuộc trung ương, Y tế Bộ, ngành a) Tổ chức phổ biến, hướng dẫn việc triển khai thực hiện Thông tư này; b) Kiểm tra định kỳ hoặc đột xuất việc đáp ứng yêu cầu quy định tại Thông tư này đối với Hội đồng đạo đức của đơn vị thuộc thẩm quyền quản lý; c) Kiến nghị Bộ Y tế (Cục Khoa học công nghệ và Đào tạ o) rút tên Hội đồng đạo đức khỏi danh sách đã cập nhật trên Trang thông tin điện tử của Cục Khoa học công nghệ và Đào tạo trong trường hợp phát hiện Hội đồng đạo đức của đơn vị thuộc thẩm quyền quản lý vi phạm các quy định tại Thông tư này làm ảnh hưởng đến việc bảo vệ quyền, sự an toàn và sức khỏe của người tham gia nghiên cứu. 3. Tổ chức thành lập Hội đồng đạo đức\n",
      "--------------------------------------------------------------------------------\n"
     ]
    }
   ],
   "source": [
    "# Chạy giao diện tìm kiếm tương tác\n",
    "interactive_search()"
   ]
  },
  {
   "cell_type": "markdown",
   "id": "1bc4a874",
   "metadata": {},
   "source": [
    "## 9. Kết hợp với LLM để xây dựng hệ thống RAG hoàn chỉnh\n",
    "\n",
    "Để tạo một hệ thống RAG hoàn chỉnh, bạn có thể kết hợp kết quả truy xuất với một Large Language Model (LLM). Dưới đây là ví dụ cách tích hợp với LLM từ OpenAI hoặc mô hình mã nguồn mở."
   ]
  },
  {
   "cell_type": "code",
   "execution_count": null,
   "id": "37ef5ceb",
   "metadata": {},
   "outputs": [],
   "source": [
    "# Ví dụ tích hợp với LLM (yêu cầu cài đặt thêm thư viện)\n",
    "# !pip install langchain-openai  # Cho OpenAI\n",
    "# !pip install langchain-community  # Cho các mô hình mã nguồn mở\n",
    "\n",
    "# Nhận xét các dòng sau nếu chưa cài đặt thư viện cần thiết\n",
    "'''\n",
    "from langchain_openai import ChatOpenAI\n",
    "from langchain.chains import RetrievalQA\n",
    "\n",
    "# Đặt API key (thay thế bằng API key của bạn hoặc sử dụng biến môi trường)\n",
    "import os\n",
    "os.environ[\"OPENAI_API_KEY\"] = \"your-api-key-here\"\n",
    "\n",
    "# Khởi tạo LLM\n",
    "llm = ChatOpenAI(model_name=\"gpt-3.5-turbo\", temperature=0)\n",
    "\n",
    "# Tạo retriever từ vector database\n",
    "retriever = vectordb.as_retriever(search_kwargs={\"k\": 5})\n",
    "\n",
    "# Tạo chuỗi RetrievalQA\n",
    "qa_chain = RetrievalQA.from_chain_type(\n",
    "    llm=llm,\n",
    "    chain_type=\"stuff\",\n",
    "    retriever=retriever,\n",
    "    return_source_documents=True,\n",
    "    verbose=True\n",
    ")\n",
    "\n",
    "# Sử dụng\n",
    "query = \"Quy định về đăng ký thuốc mới tại Việt Nam?\"\n",
    "result = qa_chain({\"query\": query})\n",
    "print(\"Câu trả lời:\")\n",
    "print(result[\"result\"])\n",
    "'''"
   ]
  }
 ],
 "metadata": {
  "kernelspec": {
   "display_name": "Python 3",
   "language": "python",
   "name": "python3"
  },
  "language_info": {
   "codemirror_mode": {
    "name": "ipython",
    "version": 3
   },
   "file_extension": ".py",
   "mimetype": "text/x-python",
   "name": "python",
   "nbconvert_exporter": "python",
   "pygments_lexer": "ipython3",
   "version": "3.12.6"
  }
 },
 "nbformat": 4,
 "nbformat_minor": 5
}
